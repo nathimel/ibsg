{
 "cells": [
  {
   "cell_type": "code",
   "execution_count": 102,
   "metadata": {},
   "outputs": [],
   "source": [
    "\n",
    "import pandas as pd\n",
    "import plotnine as pn\n",
    "import torch\n",
    "import sys\n",
    "sys.path.append(\"/Users/nathanielimel/uci/projects/ibsg\")\n",
    "from misc.util import encoders_to_df"
   ]
  },
  {
   "cell_type": "code",
   "execution_count": 103,
   "metadata": {},
   "outputs": [],
   "source": [
    "# encoders = pd.read_csv(\"/Users/nathanielimel/uci/projects/ibsg/outputs/states=10/signals=10/prior=-8/dist=squared_dist/meaning_certainty=0/dynamics=two_population_rd/population_size=None/num_trials=8/seed=42/discr_need=1/final_encoders.csv\")\n",
    "# encoders"
   ]
  },
  {
   "cell_type": "code",
   "execution_count": 104,
   "metadata": {},
   "outputs": [],
   "source": [
    "# Load tensor and convert to df\n",
    "encoder_tensors = torch.load(\"/Users/nathanielimel/uci/projects/ibsg/outputs/states=10/signals=10/prior=-8/dist=squared_dist/meaning_certainty=0/dynamics=two_population_rd/population_size=None/num_trials=8/seed=42/discr_need=1/final_encoders.pt\")\n",
    "encoders = encoders_to_df(encoder_tensors)"
   ]
  },
  {
   "cell_type": "code",
   "execution_count": 105,
   "metadata": {},
   "outputs": [],
   "source": [
    "torch.set_printoptions(sci_mode=False)\n",
    "# encoder_tensors[3].sum(dim=-1)\n",
    "sad = False\n",
    "for i, t in enumerate(encoder_tensors):\n",
    "    if not torch.allclose(t.sum(dim=-1), torch.ones_like(t.sum(dim=-1))):\n",
    "        print(i)\n",
    "        print(t)\n",
    "        sad = True\n",
    "if sad:\n",
    "    raise Exception"
   ]
  },
  {
   "cell_type": "code",
   "execution_count": 106,
   "metadata": {},
   "outputs": [
    {
     "name": "stdout",
     "output_type": "stream",
     "text": [
      "1.0\n"
     ]
    },
    {
     "ename": "AttributeError",
     "evalue": "'Text' object has no property 'value'",
     "output_type": "error",
     "traceback": [
      "\u001b[0;31m---------------------------------------------------------------------------\u001b[0m",
      "\u001b[0;31mAttributeError\u001b[0m                            Traceback (most recent call last)",
      "Cell \u001b[0;32mIn[106], line 27\u001b[0m\n\u001b[1;32m     24\u001b[0m \u001b[39m# print(df)\u001b[39;00m\n\u001b[1;32m     25\u001b[0m \u001b[39m# df = numeric_col_to_categorical(df, \"trial\")\u001b[39;00m\n\u001b[1;32m     26\u001b[0m \u001b[39mprint\u001b[39m(trial \u001b[39m+\u001b[39m \u001b[39m1\u001b[39m)\n\u001b[0;32m---> 27\u001b[0m \u001b[39mprint\u001b[39;49m(get_plot(df))\n",
      "File \u001b[0;32m~/miniforge3/envs/ibsg/lib/python3.10/site-packages/plotnine/ggplot.py:86\u001b[0m, in \u001b[0;36mggplot.__str__\u001b[0;34m(self)\u001b[0m\n\u001b[1;32m     82\u001b[0m \u001b[39mdef\u001b[39;00m \u001b[39m__str__\u001b[39m(\u001b[39mself\u001b[39m):\n\u001b[1;32m     83\u001b[0m \u001b[39m    \u001b[39m\u001b[39m\"\"\"\u001b[39;00m\n\u001b[1;32m     84\u001b[0m \u001b[39m    Print/show the plot\u001b[39;00m\n\u001b[1;32m     85\u001b[0m \u001b[39m    \"\"\"\u001b[39;00m\n\u001b[0;32m---> 86\u001b[0m     \u001b[39mself\u001b[39;49m\u001b[39m.\u001b[39;49mdraw(show\u001b[39m=\u001b[39;49m\u001b[39mTrue\u001b[39;49;00m)\n\u001b[1;32m     88\u001b[0m     \u001b[39m# Return and empty string so that print(p) is \"pretty\"\u001b[39;00m\n\u001b[1;32m     89\u001b[0m     \u001b[39mreturn\u001b[39;00m \u001b[39m'\u001b[39m\u001b[39m'\u001b[39m\n",
      "File \u001b[0;32m~/miniforge3/envs/ibsg/lib/python3.10/site-packages/plotnine/ggplot.py:221\u001b[0m, in \u001b[0;36mggplot.draw\u001b[0;34m(self, return_ggplot, show)\u001b[0m\n\u001b[1;32m    218\u001b[0m \u001b[39mself\u001b[39m\u001b[39m.\u001b[39m_draw_watermarks()\n\u001b[1;32m    220\u001b[0m \u001b[39m# Artist object theming\u001b[39;00m\n\u001b[0;32m--> 221\u001b[0m \u001b[39mself\u001b[39;49m\u001b[39m.\u001b[39;49mtheme\u001b[39m.\u001b[39;49mapply(figure, axs)\n\u001b[1;32m    223\u001b[0m \u001b[39mif\u001b[39;00m return_ggplot:\n\u001b[1;32m    224\u001b[0m     output \u001b[39m=\u001b[39m \u001b[39mself\u001b[39m\u001b[39m.\u001b[39mfigure, \u001b[39mself\u001b[39m\n",
      "File \u001b[0;32m~/miniforge3/envs/ibsg/lib/python3.10/site-packages/plotnine/themes/theme.py:207\u001b[0m, in \u001b[0;36mtheme.apply\u001b[0;34m(self, figure, axs)\u001b[0m\n\u001b[1;32m    199\u001b[0m \u001b[39m\u001b[39m\u001b[39m\"\"\"\u001b[39;00m\n\u001b[1;32m    200\u001b[0m \u001b[39mApply this theme, then apply additional modifications in order.\u001b[39;00m\n\u001b[1;32m    201\u001b[0m \n\u001b[0;32m   (...)\u001b[0m\n\u001b[1;32m    204\u001b[0m \u001b[39mmethod should make sure that the base class method is called.\u001b[39;00m\n\u001b[1;32m    205\u001b[0m \u001b[39m\"\"\"\u001b[39;00m\n\u001b[1;32m    206\u001b[0m \u001b[39mfor\u001b[39;00m th \u001b[39min\u001b[39;00m \u001b[39mself\u001b[39m\u001b[39m.\u001b[39mthemeables\u001b[39m.\u001b[39mvalues():\n\u001b[0;32m--> 207\u001b[0m     th\u001b[39m.\u001b[39;49mapply_figure(figure)\n\u001b[1;32m    208\u001b[0m     \u001b[39mfor\u001b[39;00m ax \u001b[39min\u001b[39;00m axs:\n\u001b[1;32m    209\u001b[0m         th\u001b[39m.\u001b[39mapply(ax)\n",
      "File \u001b[0;32m~/miniforge3/envs/ibsg/lib/python3.10/site-packages/plotnine/themes/themeable.py:358\u001b[0m, in \u001b[0;36maxis_title_x.apply_figure\u001b[0;34m(self, figure)\u001b[0m\n\u001b[1;32m    357\u001b[0m \u001b[39mdef\u001b[39;00m \u001b[39mapply_figure\u001b[39m(\u001b[39mself\u001b[39m, figure):\n\u001b[0;32m--> 358\u001b[0m     \u001b[39msuper\u001b[39;49m()\u001b[39m.\u001b[39;49mapply_figure(figure)\n\u001b[1;32m    359\u001b[0m     properties \u001b[39m=\u001b[39m \u001b[39mself\u001b[39m\u001b[39m.\u001b[39mproperties\u001b[39m.\u001b[39mcopy()\n\u001b[1;32m    360\u001b[0m     \u001b[39mwith\u001b[39;00m suppress(\u001b[39mKeyError\u001b[39;00m):\n",
      "File \u001b[0;32m~/miniforge3/envs/ibsg/lib/python3.10/site-packages/plotnine/themes/themeable.py:385\u001b[0m, in \u001b[0;36maxis_title_y.apply_figure\u001b[0;34m(self, figure)\u001b[0m\n\u001b[1;32m    384\u001b[0m \u001b[39mdef\u001b[39;00m \u001b[39mapply_figure\u001b[39m(\u001b[39mself\u001b[39m, figure):\n\u001b[0;32m--> 385\u001b[0m     \u001b[39msuper\u001b[39;49m()\u001b[39m.\u001b[39;49mapply_figure(figure)\n\u001b[1;32m    386\u001b[0m     properties \u001b[39m=\u001b[39m \u001b[39mself\u001b[39m\u001b[39m.\u001b[39mproperties\u001b[39m.\u001b[39mcopy()\n\u001b[1;32m    387\u001b[0m     \u001b[39mwith\u001b[39;00m suppress(\u001b[39mKeyError\u001b[39;00m):\n",
      "File \u001b[0;32m~/miniforge3/envs/ibsg/lib/python3.10/site-packages/plotnine/themes/themeable.py:420\u001b[0m, in \u001b[0;36mlegend_title.apply_figure\u001b[0;34m(self, figure)\u001b[0m\n\u001b[1;32m    419\u001b[0m \u001b[39mdef\u001b[39;00m \u001b[39mapply_figure\u001b[39m(\u001b[39mself\u001b[39m, figure):\n\u001b[0;32m--> 420\u001b[0m     \u001b[39msuper\u001b[39;49m()\u001b[39m.\u001b[39;49mapply_figure(figure)\n\u001b[1;32m    421\u001b[0m     properties \u001b[39m=\u001b[39m \u001b[39mself\u001b[39m\u001b[39m.\u001b[39mproperties\u001b[39m.\u001b[39mcopy()\n\u001b[1;32m    422\u001b[0m     \u001b[39mwith\u001b[39;00m suppress(\u001b[39mKeyError\u001b[39;00m):\n",
      "File \u001b[0;32m~/miniforge3/envs/ibsg/lib/python3.10/site-packages/plotnine/themes/themeable.py:537\u001b[0m, in \u001b[0;36mplot_title.apply_figure\u001b[0;34m(self, figure)\u001b[0m\n\u001b[1;32m    535\u001b[0m \u001b[39mwith\u001b[39;00m suppress(\u001b[39mKeyError\u001b[39;00m):\n\u001b[1;32m    536\u001b[0m     text \u001b[39m=\u001b[39m figure\u001b[39m.\u001b[39m_themeable[\u001b[39m'\u001b[39m\u001b[39mplot_title\u001b[39m\u001b[39m'\u001b[39m]\n\u001b[0;32m--> 537\u001b[0m     text\u001b[39m.\u001b[39;49mset(\u001b[39m*\u001b[39;49m\u001b[39m*\u001b[39;49mproperties)\n",
      "File \u001b[0;32m~/miniforge3/envs/ibsg/lib/python3.10/site-packages/matplotlib/artist.py:117\u001b[0m, in \u001b[0;36mArtist.__init_subclass__.<locals>.<lambda>\u001b[0;34m(self, **kwargs)\u001b[0m\n\u001b[1;32m    109\u001b[0m \u001b[39mif\u001b[39;00m \u001b[39mnot\u001b[39;00m \u001b[39mhasattr\u001b[39m(\u001b[39mcls\u001b[39m\u001b[39m.\u001b[39mset, \u001b[39m'\u001b[39m\u001b[39m_autogenerated_signature\u001b[39m\u001b[39m'\u001b[39m):\n\u001b[1;32m    110\u001b[0m     \u001b[39m# Don't overwrite cls.set if the subclass or one of its parents\u001b[39;00m\n\u001b[1;32m    111\u001b[0m     \u001b[39m# has defined a set method set itself.\u001b[39;00m\n\u001b[1;32m    112\u001b[0m     \u001b[39m# If there was no explicit definition, cls.set is inherited from\u001b[39;00m\n\u001b[1;32m    113\u001b[0m     \u001b[39m# the hierarchy of auto-generated set methods, which hold the\u001b[39;00m\n\u001b[1;32m    114\u001b[0m     \u001b[39m# flag _autogenerated_signature.\u001b[39;00m\n\u001b[1;32m    115\u001b[0m     \u001b[39mreturn\u001b[39;00m\n\u001b[0;32m--> 117\u001b[0m \u001b[39mcls\u001b[39m\u001b[39m.\u001b[39mset \u001b[39m=\u001b[39m \u001b[39mlambda\u001b[39;00m \u001b[39mself\u001b[39m, \u001b[39m*\u001b[39m\u001b[39m*\u001b[39mkwargs: Artist\u001b[39m.\u001b[39;49mset(\u001b[39mself\u001b[39;49m, \u001b[39m*\u001b[39;49m\u001b[39m*\u001b[39;49mkwargs)\n\u001b[1;32m    118\u001b[0m \u001b[39mcls\u001b[39m\u001b[39m.\u001b[39mset\u001b[39m.\u001b[39m\u001b[39m__name__\u001b[39m \u001b[39m=\u001b[39m \u001b[39m\"\u001b[39m\u001b[39mset\u001b[39m\u001b[39m\"\u001b[39m\n\u001b[1;32m    119\u001b[0m \u001b[39mcls\u001b[39m\u001b[39m.\u001b[39mset\u001b[39m.\u001b[39m\u001b[39m__qualname__\u001b[39m \u001b[39m=\u001b[39m \u001b[39mf\u001b[39m\u001b[39m\"\u001b[39m\u001b[39m{\u001b[39;00m\u001b[39mcls\u001b[39m\u001b[39m.\u001b[39m\u001b[39m__qualname__\u001b[39m\u001b[39m}\u001b[39;00m\u001b[39m.set\u001b[39m\u001b[39m\"\u001b[39m\n",
      "File \u001b[0;32m~/miniforge3/envs/ibsg/lib/python3.10/site-packages/matplotlib/artist.py:1167\u001b[0m, in \u001b[0;36mArtist.set\u001b[0;34m(self, **kwargs)\u001b[0m\n\u001b[1;32m   1162\u001b[0m \u001b[39mdef\u001b[39;00m \u001b[39mset\u001b[39m(\u001b[39mself\u001b[39m, \u001b[39m*\u001b[39m\u001b[39m*\u001b[39mkwargs):\n\u001b[1;32m   1163\u001b[0m     \u001b[39m# docstring and signature are auto-generated via\u001b[39;00m\n\u001b[1;32m   1164\u001b[0m     \u001b[39m# Artist._update_set_signature_and_docstring() at the end of the\u001b[39;00m\n\u001b[1;32m   1165\u001b[0m     \u001b[39m# module.\u001b[39;00m\n\u001b[1;32m   1166\u001b[0m     kwargs \u001b[39m=\u001b[39m cbook\u001b[39m.\u001b[39mnormalize_kwargs(kwargs, \u001b[39mself\u001b[39m)\n\u001b[0;32m-> 1167\u001b[0m     \u001b[39mreturn\u001b[39;00m \u001b[39mself\u001b[39;49m\u001b[39m.\u001b[39;49mupdate(kwargs)\n",
      "File \u001b[0;32m~/miniforge3/envs/ibsg/lib/python3.10/site-packages/matplotlib/text.py:172\u001b[0m, in \u001b[0;36mText.update\u001b[0;34m(self, kwargs)\u001b[0m\n\u001b[1;32m    170\u001b[0m \u001b[39m# Update bbox last, as it depends on font properties.\u001b[39;00m\n\u001b[1;32m    171\u001b[0m bbox \u001b[39m=\u001b[39m kwargs\u001b[39m.\u001b[39mpop(\u001b[39m\"\u001b[39m\u001b[39mbbox\u001b[39m\u001b[39m\"\u001b[39m, sentinel)\n\u001b[0;32m--> 172\u001b[0m \u001b[39msuper\u001b[39;49m()\u001b[39m.\u001b[39;49mupdate(kwargs)\n\u001b[1;32m    173\u001b[0m \u001b[39mif\u001b[39;00m bbox \u001b[39mis\u001b[39;00m \u001b[39mnot\u001b[39;00m sentinel:\n\u001b[1;32m    174\u001b[0m     \u001b[39mself\u001b[39m\u001b[39m.\u001b[39mset_bbox(bbox)\n",
      "File \u001b[0;32m~/miniforge3/envs/ibsg/lib/python3.10/site-packages/matplotlib/artist.py:1067\u001b[0m, in \u001b[0;36mArtist.update\u001b[0;34m(self, props)\u001b[0m\n\u001b[1;32m   1065\u001b[0m             func \u001b[39m=\u001b[39m \u001b[39mgetattr\u001b[39m(\u001b[39mself\u001b[39m, \u001b[39mf\u001b[39m\u001b[39m\"\u001b[39m\u001b[39mset_\u001b[39m\u001b[39m{\u001b[39;00mk\u001b[39m}\u001b[39;00m\u001b[39m\"\u001b[39m, \u001b[39mNone\u001b[39;00m)\n\u001b[1;32m   1066\u001b[0m             \u001b[39mif\u001b[39;00m \u001b[39mnot\u001b[39;00m \u001b[39mcallable\u001b[39m(func):\n\u001b[0;32m-> 1067\u001b[0m                 \u001b[39mraise\u001b[39;00m \u001b[39mAttributeError\u001b[39;00m(\u001b[39mf\u001b[39m\u001b[39m\"\u001b[39m\u001b[39m{\u001b[39;00m\u001b[39mtype\u001b[39m(\u001b[39mself\u001b[39m)\u001b[39m.\u001b[39m\u001b[39m__name__\u001b[39m\u001b[39m!r}\u001b[39;00m\u001b[39m object \u001b[39m\u001b[39m\"\u001b[39m\n\u001b[1;32m   1068\u001b[0m                                      \u001b[39mf\u001b[39m\u001b[39m\"\u001b[39m\u001b[39mhas no property \u001b[39m\u001b[39m{\u001b[39;00mk\u001b[39m!r}\u001b[39;00m\u001b[39m\"\u001b[39m)\n\u001b[1;32m   1069\u001b[0m             ret\u001b[39m.\u001b[39mappend(func(v))\n\u001b[1;32m   1070\u001b[0m \u001b[39mif\u001b[39;00m ret:\n",
      "\u001b[0;31mAttributeError\u001b[0m: 'Text' object has no property 'value'"
     ]
    }
   ],
   "source": [
    "# encoders[encoders[\"trial\" == i] for i in encoders[\"trial\"].values]\n",
    "\n",
    "def numeric_col_to_categorical(df: pd.DataFrame, col: str) -> pd.DataFrame:\n",
    "    \"\"\"Change a float valued column (e.g. trial or round) to Categorical for visualization.\"\"\"\n",
    "    # adjust values to Categorical where appropriate\n",
    "    df[col] = df[col].astype(int).astype(str)\n",
    "    df = df.assign(**{col: pd.Categorical(df[col])})\n",
    "    return df\n",
    "\n",
    "\n",
    "trials = encoders[\"trial\"].unique()\n",
    "encoders[\"trial\"] = (encoders[\"trial\"] + 1).astype(int)\n",
    "encoders = numeric_col_to_categorical(encoders, \"meanings\")\n",
    "encoders = numeric_col_to_categorical(encoders, \"words\")\n",
    "# encoders = numeric_col_to_categorical(encoders, \"trial\")\n",
    "\n",
    "\n",
    "def get_plot(df):\n",
    "    return pn.ggplot(df, pn.aes(x=\"words\", y=\"meanings\", fill=\"p(w|m)\")) + pn.geom_tile() + pn.ggtitle(\"trial n\")\n",
    "\n",
    "\n",
    "\n",
    "for trial in trials:\n",
    "    df = encoders[encoders[\"trial\"] == trial + 1]\n",
    "    # print(df)\n",
    "    # df = numeric_col_to_categorical(df, \"trial\")\n",
    "    print(trial + 1)\n",
    "    print(get_plot(df))"
   ]
  },
  {
   "cell_type": "code",
   "execution_count": null,
   "metadata": {},
   "outputs": [
    {
     "data": {
      "image/png": "[encoded data removed]",
      "text/plain": [
       "<Figure size 640x480 with 8 Axes>"
      ]
     },
     "metadata": {},
     "output_type": "display_data"
    },
    {
     "data": {
      "text/plain": [
       "<ggplot: (374850284)>"
      ]
     },
     "execution_count": 100,
     "metadata": {},
     "output_type": "execute_result"
    }
   ],
   "source": [
    "# use facet grid\n",
    "\n",
    "encoders[\"naming \\n probability\\n\"] = encoders[\"p(w|m)\"]\n",
    "\n",
    "(\n",
    "    pn.ggplot(encoders, pn.aes(x=\"words\", y=\"meanings\", fill=\"p(w|m)\"))\n",
    "    + pn.geom_tile()\n",
    "    + pn.facet_grid(\"trial ~ .\")\n",
    "    + pn.theme(\n",
    "        axis_text_y=pn.element_blank(),\n",
    "        axis_text_x=pn.element_blank(),\n",
    "    )\n",
    "        # pn.axis.ticks.x=element_blank())    \n",
    ")"
   ]
  },
  {
   "cell_type": "code",
   "execution_count": null,
   "metadata": {},
   "outputs": [
    {
     "name": "stderr",
     "output_type": "stream",
     "text": [
      "/Users/nathanielimel/miniforge3/envs/ibsg/lib/python3.10/site-packages/plotnine/ggplot.py:718: PlotnineWarning: Saving 6.4 x 4.8 in image.\n",
      "/Users/nathanielimel/miniforge3/envs/ibsg/lib/python3.10/site-packages/plotnine/ggplot.py:719: PlotnineWarning: Filename: encoders.png\n"
     ]
    }
   ],
   "source": [
    "(\n",
    "    pn.ggplot(encoders, pn.aes(x=\"words\", y=\"meanings\", fill=\"p(w|m)\"))\n",
    "    + pn.geom_tile()\n",
    "    + pn.facet_grid(\"trial ~ .\")\n",
    "    + pn.theme(\n",
    "        axis_text_y=pn.element_blank(),\n",
    "        axis_text_x=pn.element_blank(),\n",
    "    )\n",
    "        # pn.axis.ticks.x=element_blank())    \n",
    ").save(\"encoders.png\")"
   ]
  }
 ],
 "metadata": {
  "kernelspec": {
   "display_name": "ibsg",
   "language": "python",
   "name": "python3"
  },
  "language_info": {
   "codemirror_mode": {
    "name": "ipython",
    "version": 3
   },
   "file_extension": ".py",
   "mimetype": "text/x-python",
   "name": "python",
   "nbconvert_exporter": "python",
   "pygments_lexer": "ipython3",
   "version": "3.10.10"
  },
  "orig_nbformat": 4
 },
 "nbformat": 4,
 "nbformat_minor": 2
}
