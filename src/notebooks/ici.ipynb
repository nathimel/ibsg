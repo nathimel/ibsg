{
 "cells": [
  {
   "attachments": {},
   "cell_type": "markdown",
   "metadata": {},
   "source": [
    "# Implementing the actual replicator dynamics in Franke and Correia 2018\n",
    "\n",
    "https://github.com/josepedrocorreia/vagueness-games/blob/master/newCode/vagueness-games.py#L291"
   ]
  },
  {
   "cell_type": "code",
   "execution_count": 39,
   "metadata": {},
   "outputs": [],
   "source": [
    "import torch"
   ]
  },
  {
   "cell_type": "code",
   "execution_count": 40,
   "metadata": {},
   "outputs": [],
   "source": [
    "def normalize_rows(mat: torch.Tensor):\n",
    "    \"\"\"Normalize each row of 2D array / tensor to sum to 1.0.\"\"\"\n",
    "    return torch.nan_to_num(mat / mat.sum(1, keepdim=True))"
   ]
  },
  {
   "cell_type": "code",
   "execution_count": 41,
   "metadata": {},
   "outputs": [],
   "source": [
    "# For simplicity, let's make things like michael's example.\n",
    "sender_matrix = torch.tensor(\n",
    "    [\n",
    "        # [1., 0.,],\n",
    "        [0.5, 0.5,],\n",
    "        [1., 0.,],\n",
    "        [0., 1.,],\n",
    "        [0., 1.,],\n",
    "    ]\n",
    ")\n",
    "receiver_matrix = torch.tensor(\n",
    "    [\n",
    "    # [1., 0., 0., 0.,],\n",
    "    [0.25, 0.25, 0.25, 0.25],\n",
    "    [0., 0., 1., 0.,],\n",
    "    ]\n",
    ")\n",
    "\n",
    "utility_matrix = torch.eye(4)\n",
    "confusion_matrix = torch.eye(4)\n",
    "prior = torch.tensor([.4, .4, .1, .1,])\n",
    "num_states = 4\n",
    "num_signals = 2"
   ]
  },
  {
   "cell_type": "code",
   "execution_count": 42,
   "metadata": {},
   "outputs": [],
   "source": [
    "P = sender_matrix  # `[states, signals]`\n",
    "Q = receiver_matrix  # `[signals, states]`\n",
    "U = utility_matrix  # `[states, states]`\n",
    "C = confusion_matrix  # `[states, states]`, compare self.game.meaning_dists\n",
    "p = prior  # `[states,]`"
   ]
  },
  {
   "cell_type": "code",
   "execution_count": 43,
   "metadata": {},
   "outputs": [
    {
     "name": "stdout",
     "output_type": "stream",
     "text": [
      "tensor([[0.5000, 0.5000],\n",
      "        [1.0000, 0.0000],\n",
      "        [0.0000, 1.0000],\n",
      "        [0.0000, 1.0000]])\n"
     ]
    },
    {
     "data": {
      "text/plain": [
       "tensor([[1., 0.],\n",
       "        [1., 0.],\n",
       "        [0., 1.],\n",
       "        [0., 0.]])"
      ]
     },
     "execution_count": 43,
     "metadata": {},
     "output_type": "execute_result"
    }
   ],
   "source": [
    "O = normalize_rows(p * C) # prob actual state (col) given observed state (row)\n",
    "Sigma = C @ P # prob signal (col) given actual state (row)\n",
    "O_sender = O @ Sigma # P_o(w|m_o) prob of seeing agent j send signal given agent i sees state m_o\n",
    "Rho = Q @ C # prob receiver chooses state (column) given signal (row)\n",
    "U_sender = torch.tensor([\n",
    "  [\n",
    "    torch.sum(\n",
    "        torch.tensor([\n",
    "            O[to, ta] * Rho[m, tr] * U[ta, tr] \n",
    "            for ta in range(num_states) for tr in range(num_states)\n",
    "        ])\n",
    "    )\n",
    "  for m in range(num_signals)\n",
    "  ]\n",
    "  for to in range(num_states)]\n",
    ")\n",
    "P = normalize_rows(O_sender * U_sender)\n",
    "P"
   ]
  }
 ],
 "metadata": {
  "kernelspec": {
   "display_name": "ibsg",
   "language": "python",
   "name": "python3"
  },
  "language_info": {
   "codemirror_mode": {
    "name": "ipython",
    "version": 3
   },
   "file_extension": ".py",
   "mimetype": "text/x-python",
   "name": "python",
   "nbconvert_exporter": "python",
   "pygments_lexer": "ipython3",
   "version": "3.10.10"
  },
  "orig_nbformat": 4
 },
 "nbformat": 4,
 "nbformat_minor": 2
}
