{
 "cells": [
  {
   "attachments": {},
   "cell_type": "markdown",
   "metadata": {},
   "source": [
    "# Visualization of different values of discriminative need"
   ]
  },
  {
   "attachments": {},
   "cell_type": "markdown",
   "metadata": {},
   "source": [
    "## Configs"
   ]
  },
  {
   "cell_type": "code",
   "execution_count": 4,
   "metadata": {},
   "outputs": [],
   "source": [
    "import os\n",
    "\n",
    "import hydra\n",
    "from hydra.core.hydra_config import HydraConfig\n",
    "from hydra.core.global_hydra import GlobalHydra\n",
    "from omegaconf import OmegaConf\n",
    "\n",
    "import torch\n",
    "import pandas as pd\n",
    "import plotnine as pn\n",
    "\n",
    "import sys\n",
    "sys.path.append(\"/Users/nathanielimel/uci/projects/ibsg/src\")\n",
    "from misc.util import get_bound_fn\n"
   ]
  },
  {
   "attachments": {},
   "cell_type": "markdown",
   "metadata": {},
   "source": [
    "## Initialize Hydra Config\n",
    "\n",
    "In the cell below, use the `overrides` kwarg to pass in the specific things you want for plotting. You should essentially treat it like command line args you would pass to hydra."
   ]
  },
  {
   "cell_type": "code",
   "execution_count": 5,
   "metadata": {},
   "outputs": [],
   "source": [
    "overrides = [\n",
    "    \"game.universe=c1\",\n",
    "    # \"game.discriminative_need_gamma=range(-3,4)\", \n",
    "    # \"simulation.dynamics.imprecise_imitation_gamma=range(-3, 4)\", \n",
    "    # \"simulation.dynamics.population_init_gamma=-3,0,3\",\n",
    "\n",
    "] # n.b.: do not include multirun overrides, they will be inferred using available child folders\n",
    "\n",
    "# Global initialization\n",
    "GlobalHydra.instance().clear() # from previous runs of notebook\n",
    "hydra.initialize(version_base=None, config_path=\"../../conf\")\n",
    "config = hydra.compose(\n",
    "    config_name=\"config\",\n",
    "    overrides=overrides,\n",
    ")\n",
    "\n",
    "# Define a helper which lets us compose new configs since we can't use multirun\n",
    "def compose(new_overrides):\n",
    "    \"\"\"Return a composed hydra config.\"\"\"\n",
    "    cfg = hydra.compose(\n",
    "        config_name=\"config\",\n",
    "        overrides=overrides + new_overrides,\n",
    "    )\n",
    "    return cfg"
   ]
  },
  {
   "attachments": {},
   "cell_type": "markdown",
   "metadata": {},
   "source": [
    "### Load filepaths"
   ]
  },
  {
   "cell_type": "code",
   "execution_count": 7,
   "metadata": {},
   "outputs": [
    {
     "name": "stdout",
     "output_type": "stream",
     "text": [
      "/Users/nathanielimel/uci/projects/ibsg/multirun\n",
      "/Users/nathanielimel/uci/projects/ibsg/multirun/universe=c1/num_signals=10/prior=-8/dist=squared_dist/meaning_certainty=0/dynamics=replicator_diffusion/ii=0/population_init=-8/population_size=None/num_runs=1/seed=42\n"
     ]
    },
    {
     "ename": "FileNotFoundError",
     "evalue": "[Errno 2] No such file or directory: '/Users/nathanielimel/uci/projects/ibsg/multirun/universe=c1/num_signals=10/prior=-8/dist=squared_dist/meaning_certainty=0/dynamics=replicator_diffusion/ii=0/population_init=-8/population_size=None/num_runs=1/seed=42'",
     "output_type": "error",
     "traceback": [
      "\u001b[0;31m---------------------------------------------------------------------------\u001b[0m",
      "\u001b[0;31mFileNotFoundError\u001b[0m                         Traceback (most recent call last)",
      "Cell \u001b[0;32mIn[7], line 33\u001b[0m\n\u001b[1;32m     27\u001b[0m     \u001b[39mreturn\u001b[39;00m os\u001b[39m.\u001b[39mpath\u001b[39m.\u001b[39mjoin(multirun_path, cfg\u001b[39m.\u001b[39mfilepaths\u001b[39m.\u001b[39msimulation_subdir, cfg\u001b[39m.\u001b[39mfilepaths\u001b[39m.\u001b[39msimulation_points_save_fn)\n\u001b[1;32m     29\u001b[0m get_discr_need \u001b[39m=\u001b[39m \u001b[39mlambda\u001b[39;00m \u001b[39mdir\u001b[39m: \u001b[39mdir\u001b[39m\u001b[39m.\u001b[39msplit(\u001b[39m\"\u001b[39m\u001b[39m=\u001b[39m\u001b[39m\"\u001b[39m)[\u001b[39m1\u001b[39m]\n\u001b[1;32m     31\u001b[0m sim_fns \u001b[39m=\u001b[39m {\n\u001b[1;32m     32\u001b[0m     get_discr_need(\u001b[39mdir\u001b[39m): \n\u001b[0;32m---> 33\u001b[0m     get_sim_fn(get_discr_need(\u001b[39mdir\u001b[39m)) \u001b[39mfor\u001b[39;00m \u001b[39mdir\u001b[39m \u001b[39min\u001b[39;00m os\u001b[39m.\u001b[39;49mlistdir(sim_sweep_subdir) \u001b[39mif\u001b[39;00m \u001b[39m\"\u001b[39m\u001b[39m=\u001b[39m\u001b[39m\"\u001b[39m \u001b[39min\u001b[39;00m \u001b[39mdir\u001b[39m\n\u001b[1;32m     34\u001b[0m }\n\u001b[1;32m     36\u001b[0m sim_fns\n",
      "\u001b[0;31mFileNotFoundError\u001b[0m: [Errno 2] No such file or directory: '/Users/nathanielimel/uci/projects/ibsg/multirun/universe=c1/num_signals=10/prior=-8/dist=squared_dist/meaning_certainty=0/dynamics=replicator_diffusion/ii=0/population_init=-8/population_size=None/num_runs=1/seed=42'"
     ]
    }
   ],
   "source": [
    "# Filepaths\n",
    "\n",
    "# user's path to root of repo\n",
    "root_path = \"/Users/nathanielimel/uci/projects/ibsg\"\n",
    "multirun_path = os.path.join(root_path, config.filepaths.hydra_sweep_root)\n",
    "\n",
    "#############################################################################\n",
    "# Analysis files\n",
    "#############################################################################\n",
    "\n",
    "curve_dir = os.path.join(multirun_path, config.filepaths.curve_subdir)\n",
    "curve_fn = get_bound_fn(config, curve_dir=curve_dir)\n",
    "mse_curve_fn = get_bound_fn(config, \"mse\", curve_dir=curve_dir)\n",
    "\n",
    "#############################################################################\n",
    "# Simulation points\n",
    "#############################################################################\n",
    "\n",
    "sim_sweep_subdir = os.path.join(multirun_path, config.filepaths.sim_sweep_subdir)\n",
    "\n",
    "print(multirun_path)\n",
    "print(sim_sweep_subdir)\n",
    "\n",
    "def get_sim_fn(discr_need: str) -> str:\n",
    "    # to simulate a sweep, we can compose for each value swept\n",
    "    cfg = compose([f\"game.discriminative_need_gamma={discr_need}\"])\n",
    "    return os.path.join(multirun_path, cfg.filepaths.simulation_subdir, cfg.filepaths.simulation_points_save_fn)\n",
    "\n",
    "get_discr_need = lambda dir: dir.split(\"=\")[1]\n",
    "\n",
    "sim_fns = {\n",
    "    get_discr_need(dir): \n",
    "    get_sim_fn(get_discr_need(dir)) for dir in os.listdir(sim_sweep_subdir) if \"=\" in dir\n",
    "}\n",
    "\n",
    "sim_fns"
   ]
  },
  {
   "attachments": {},
   "cell_type": "markdown",
   "metadata": {},
   "source": [
    "### Load data"
   ]
  },
  {
   "cell_type": "code",
   "execution_count": null,
   "metadata": {},
   "outputs": [],
   "source": [
    "# load dataframes\n",
    "read = lambda fn: pd.read_csv(os.path.join(root_path, fn))\n",
    "curve_data = read(curve_fn)\n",
    "ub_curve_data = read(mse_curve_fn)\n",
    "\n",
    "sim_dfs = {k: read(sim_fns[k]) for k in sim_fns}"
   ]
  },
  {
   "attachments": {},
   "cell_type": "markdown",
   "metadata": {},
   "source": [
    "## Configure aesthetics"
   ]
  },
  {
   "cell_type": "code",
   "execution_count": null,
   "metadata": {},
   "outputs": [],
   "source": [
    "# label each df to be concatenated with a columns\n",
    "for key in sim_dfs:\n",
    "    df = sim_dfs[key]\n",
    "    df[\"discr_need\"] = key\n",
    "\n",
    "\n",
    "sim_data = pd.concat(sim_dfs.values())"
   ]
  },
  {
   "cell_type": "code",
   "execution_count": null,
   "metadata": {},
   "outputs": [],
   "source": [
    "sim_data[\"discr_need\"] = sim_data[\"discr_need\"].astype(float)\n",
    "sim_data # N.B.: nans are expected for 'round' column"
   ]
  },
  {
   "attachments": {},
   "cell_type": "markdown",
   "metadata": {},
   "source": [
    "## Plot"
   ]
  },
  {
   "cell_type": "code",
   "execution_count": null,
   "metadata": {},
   "outputs": [],
   "source": [
    "plot = (\n",
    "    # Set data and the axes\n",
    "    pn.ggplot(\n",
    "        data=curve_data, mapping=pn.aes(x=\"complexity\", y=\"accuracy\")\n",
    "    )  \n",
    "    + pn.geom_line(size=1) # IB curve\n",
    "    # + pn.geom_point(size=1)\n",
    "    + pn.geom_ribbon(\n",
    "    mapping=pn.aes(\n",
    "        x=\"complexity\",\n",
    "        ymin=\"accuracy\",\n",
    "        ymax=torch.inf,\n",
    "        ),\n",
    "        fill=\"gray\",\n",
    "        alpha=0.3,\n",
    "    )\n",
    "    + pn.geom_jitter( # emergent langs\n",
    "        data=sim_data,\n",
    "        mapping=pn.aes(\n",
    "            fill=\"discr_need\",\n",
    "            # shape=\"language\",\n",
    "            ),\n",
    "        alpha=0.3,\n",
    "        size=5,\n",
    "    )        \n",
    "    + pn.xlab(\"Complexity $I[M:W]$ bits\")\n",
    "    + pn.ylab(\"Accuracy $I[W:U]$ bits\")\n",
    "    + pn.theme_classic()\n",
    ")\n",
    "print(plot)"
   ]
  },
  {
   "cell_type": "code",
   "execution_count": null,
   "metadata": {},
   "outputs": [],
   "source": [
    "cc_plot = (\n",
    "    # Set data and the axes\n",
    "    pn.ggplot(\n",
    "        data=curve_data, mapping=pn.aes(x=\"complexity\", y=\"distortion\")\n",
    "    )  \n",
    "    + pn.geom_line(size=1) # IB curve\n",
    "    # + pn.geom_point(size=1)\n",
    "    + pn.geom_ribbon(\n",
    "    mapping=pn.aes(\n",
    "        x=\"complexity\",\n",
    "        ymin=0,\n",
    "        ymax=\"distortion\",\n",
    "        ),\n",
    "        fill=\"gray\",\n",
    "        alpha=0.3,\n",
    "    )\n",
    "    + pn.geom_jitter( # emergent langs # comment out to see just tradeoff\n",
    "        data=sim_data,\n",
    "        mapping=pn.aes(\n",
    "            fill=\"discr_need\",\n",
    "            # shape=\"language\",\n",
    "            ),\n",
    "        alpha=0.3,\n",
    "        size=5,\n",
    "    )        \n",
    "    + pn.xlab(\"Complexity $I[M:W]$ bits\")\n",
    "    + pn.ylab(\"Distortion $\\mathbb{E}[D_{KL}[ M || \\hat{M} ]]$\")\n",
    "    + pn.theme_classic()\n",
    ")\n",
    "print(cc_plot)"
   ]
  },
  {
   "cell_type": "code",
   "execution_count": null,
   "metadata": {},
   "outputs": [],
   "source": [
    "ub_plot = (\n",
    "    # Set data and the axes\n",
    "    pn.ggplot(\n",
    "        data=ub_curve_data, mapping=pn.aes(x=\"complexity\", y=\"mse\")\n",
    "    )  \n",
    "    + pn.geom_line(size=1) # UB curve\n",
    "    # + pn.geom_point(size=1)\n",
    "    + pn.geom_ribbon(\n",
    "    mapping=pn.aes(\n",
    "        x=\"complexity\",\n",
    "        ymin=0,\n",
    "        ymax=\"mse\",\n",
    "        ),\n",
    "        fill=\"gray\",\n",
    "        alpha=0.3,\n",
    "    )\n",
    "    + pn.geom_jitter( # emergent langs\n",
    "        data=sim_data,\n",
    "        mapping=pn.aes(\n",
    "            fill=\"discr_need\",\n",
    "            # shape=\"language\",\n",
    "            ),\n",
    "        alpha=0.3,\n",
    "        size=5,\n",
    "    )        \n",
    "    + pn.xlab(\"Complexity $I[M:W]$ bits\")\n",
    "    + pn.ylab(\"Distortion $\\mathbb{E}[(u - \\hat{u})^2]$\")\n",
    "    + pn.theme_classic()\n",
    ")\n",
    "print(ub_plot)"
   ]
  },
  {
   "cell_type": "code",
   "execution_count": null,
   "metadata": {},
   "outputs": [],
   "source": [
    "pd.set_option(\"display.max_rows\", 64)\n",
    "sim_data"
   ]
  },
  {
   "attachments": {},
   "cell_type": "markdown",
   "metadata": {},
   "source": [
    "## Save plots"
   ]
  },
  {
   "cell_type": "code",
   "execution_count": null,
   "metadata": {},
   "outputs": [],
   "source": [
    "# save plots in folder above sweep over discriminative need\n",
    "plot_dir = os.path.join(root_path, sim_sweep_subdir).replace(\"curve_points.csv\", \"\")\n",
    "\n",
    "\n",
    "\n",
    "plots = {\n",
    "    \"complexity_accuracy\": plot,\n",
    "    \"complexity_distortion\": cc_plot,\n",
    "    \"complexity_mse\": ub_plot,\n",
    "}\n",
    "\n",
    "\n",
    "for fn in plots:\n",
    "    plots[fn].save(os.path.join(plot_dir, fn), width=10, height=10, dpi=300,)"
   ]
  },
  {
   "attachments": {},
   "cell_type": "markdown",
   "metadata": {},
   "source": [
    "N.B.: You should reset hydra in order to run all again"
   ]
  },
  {
   "cell_type": "code",
   "execution_count": null,
   "metadata": {},
   "outputs": [],
   "source": [
    "# save specific data for paper\n",
    "gamma = config.simulation.dynamics.imprecise_imitation_gamma\n",
    "sim_data.to_csv(f\"noise={gamma}.csv\")"
   ]
  },
  {
   "attachments": {},
   "cell_type": "markdown",
   "metadata": {},
   "source": [
    "## Visualize efficiency loss distribution"
   ]
  },
  {
   "cell_type": "code",
   "execution_count": null,
   "metadata": {},
   "outputs": [],
   "source": [
    "# density\n",
    "len(sim_data)"
   ]
  },
  {
   "cell_type": "code",
   "execution_count": null,
   "metadata": {},
   "outputs": [],
   "source": [
    "# Load efficiency data\n",
    "sim_data[\"slack\"] = [ str(item) for item in sim_data[\"discr_need\"].tolist()]\n",
    "(\n",
    "    pn.ggplot(data=sim_data, mapping=pn.aes(x=\"eps\", fill=\"slack\", color=\"slack\"))\n",
    "    + pn.geom_density(alpha=0.5)\n",
    ")"
   ]
  },
  {
   "cell_type": "code",
   "execution_count": null,
   "metadata": {},
   "outputs": [],
   "source": [
    "(\n",
    "    pn.ggplot(data=sim_data, mapping=pn.aes(x=\"eps\", fill=\"slack\", color=\"slack\"))\n",
    "    + pn.geom_density(alpha=0.5)\n",
    ")"
   ]
  },
  {
   "cell_type": "code",
   "execution_count": null,
   "metadata": {},
   "outputs": [],
   "source": [
    "(\n",
    "    pn.ggplot(data=sim_data, mapping=pn.aes(x=\"beta\", fill=\"slack\", color=\"slack\"))\n",
    "    + pn.geom_density(alpha=0.5)\n",
    ")"
   ]
  },
  {
   "cell_type": "code",
   "execution_count": null,
   "metadata": {},
   "outputs": [],
   "source": [
    "# how soft _really_ is discr need = -3?\n",
    "import matplotlib.pyplot as plt\n",
    "\n",
    "tensor = torch.load(\"utility.pt\") # this is actually for the wcs meaning space\n",
    "\n",
    "plt.imshow(tensor)\n",
    "# plt.savefig(\"utility.png\")\n",
    "plt.show()"
   ]
  }
 ],
 "metadata": {
  "kernelspec": {
   "display_name": "ibsg",
   "language": "python",
   "name": "python3"
  },
  "language_info": {
   "codemirror_mode": {
    "name": "ipython",
    "version": 3
   },
   "file_extension": ".py",
   "mimetype": "text/x-python",
   "name": "python",
   "nbconvert_exporter": "python",
   "pygments_lexer": "ipython3",
   "version": "3.10.10"
  },
  "orig_nbformat": 4
 },
 "nbformat": 4,
 "nbformat_minor": 2
}
