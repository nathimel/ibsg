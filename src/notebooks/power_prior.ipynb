{
 "cells": [
  {
   "attachments": {},
   "cell_type": "markdown",
   "metadata": {},
   "source": [
    "# Generate power-law distributed prior over meanings\n",
    "\n",
    "It has been found that in human numeral systems / numerosity perception, the numbers are distributed according to something close to: \n",
    "\n",
    "$$p(n) \\propto n^{-\\alpha}$$\n",
    "\n",
    "Piantadosi (2016) finds that $\\alpha \\approx 2$ for some languages, citing Newman (2005).\n",
    "\n",
    "Piantadosi ST. A rational analysis of the approximate number system. Psychon Bull Rev. 2016 Jun;23(3):877-86. doi: 10.3758/s13423-015-0963-8. https://www.ncbi.nlm.nih.gov/pmc/articles/PMC4889539/#FN5\n",
    "\n",
    "Newman M. Power laws, Pareto distributions and Zipf's law. Contemporary physics. 2005;46(5):323–351. \n"
   ]
  },
  {
   "cell_type": "code",
   "execution_count": 80,
   "metadata": {},
   "outputs": [],
   "source": [
    "import torch\n",
    "import matplotlib.pyplot as plt"
   ]
  },
  {
   "cell_type": "code",
   "execution_count": 81,
   "metadata": {},
   "outputs": [
    {
     "data": {
      "text/plain": [
       "tensor([0.0265, 0.0125, 0.0109, 0.0104, 0.0102, 0.0100, 0.0100, 0.0099, 0.0099,\n",
       "        0.0099, 0.0098, 0.0098, 0.0098, 0.0098, 0.0098, 0.0098, 0.0098, 0.0098,\n",
       "        0.0098, 0.0098, 0.0098, 0.0098, 0.0098, 0.0098, 0.0098, 0.0098, 0.0098,\n",
       "        0.0098, 0.0098, 0.0098, 0.0098, 0.0098, 0.0098, 0.0098, 0.0098, 0.0098,\n",
       "        0.0098, 0.0098, 0.0098, 0.0098, 0.0098, 0.0098, 0.0098, 0.0098, 0.0098,\n",
       "        0.0098, 0.0098, 0.0098, 0.0098, 0.0098, 0.0098, 0.0098, 0.0098, 0.0098,\n",
       "        0.0098, 0.0098, 0.0098, 0.0098, 0.0098, 0.0098, 0.0098, 0.0098, 0.0098,\n",
       "        0.0098, 0.0098, 0.0098, 0.0098, 0.0098, 0.0098, 0.0098, 0.0098, 0.0098,\n",
       "        0.0098, 0.0098, 0.0098, 0.0098, 0.0098, 0.0098, 0.0098, 0.0098, 0.0098,\n",
       "        0.0098, 0.0098, 0.0098, 0.0098, 0.0098, 0.0098, 0.0098, 0.0098, 0.0098,\n",
       "        0.0098, 0.0098, 0.0098, 0.0098, 0.0098, 0.0098, 0.0098, 0.0098, 0.0098,\n",
       "        0.0098])"
      ]
     },
     "execution_count": 81,
     "metadata": {},
     "output_type": "execute_result"
    }
   ],
   "source": [
    "num_states = 100\n",
    "n = torch.arange(1, num_states+1)\n",
    "alpha = 2.\n",
    "p = torch.softmax(torch.pow(n, -alpha), dim=-1)\n",
    "p"
   ]
  },
  {
   "cell_type": "code",
   "execution_count": 82,
   "metadata": {},
   "outputs": [
    {
     "data": {
      "text/plain": [
       "<matplotlib.image.AxesImage at 0x13b9145e0>"
      ]
     },
     "execution_count": 82,
     "metadata": {},
     "output_type": "execute_result"
    },
    {
     "data": {
      "image/png": "[encoded data removed]",
      "text/plain": [
       "<Figure size 640x480 with 1 Axes>"
      ]
     },
     "metadata": {},
     "output_type": "display_data"
    }
   ],
   "source": [
    "prior_stacked = torch.stack([p for _ in range(num_states)]) # add dummy y axis\n",
    "plt.imshow(prior_stacked)"
   ]
  },
  {
   "cell_type": "code",
   "execution_count": 83,
   "metadata": {},
   "outputs": [
    {
     "data": {
      "text/plain": [
       "tensor([1.3390e-19, 3.4577e-31, 0.0000e+00, 0.0000e+00, 0.0000e+00, 0.0000e+00,\n",
       "        0.0000e+00, 0.0000e+00, 0.0000e+00, 2.7731e-22, 0.0000e+00, 0.0000e+00,\n",
       "        3.0525e-35, 0.0000e+00, 0.0000e+00, 0.0000e+00, 0.0000e+00, 2.6811e-40,\n",
       "        0.0000e+00, 0.0000e+00, 0.0000e+00, 3.9364e-02, 0.0000e+00, 0.0000e+00,\n",
       "        0.0000e+00, 0.0000e+00, 0.0000e+00, 4.4476e-40, 1.5434e-30, 0.0000e+00,\n",
       "        0.0000e+00, 0.0000e+00, 6.6114e-22, 0.0000e+00, 0.0000e+00, 2.1176e-18,\n",
       "        0.0000e+00, 2.1711e-29, 0.0000e+00, 0.0000e+00, 0.0000e+00, 0.0000e+00,\n",
       "        0.0000e+00, 0.0000e+00, 0.0000e+00, 0.0000e+00, 0.0000e+00, 0.0000e+00,\n",
       "        0.0000e+00, 0.0000e+00, 0.0000e+00, 0.0000e+00, 1.2191e-43, 0.0000e+00,\n",
       "        0.0000e+00, 0.0000e+00, 0.0000e+00, 0.0000e+00, 0.0000e+00, 1.0619e-38,\n",
       "        0.0000e+00, 0.0000e+00, 0.0000e+00, 1.7202e-22, 0.0000e+00, 0.0000e+00,\n",
       "        0.0000e+00, 0.0000e+00, 0.0000e+00, 0.0000e+00, 0.0000e+00, 0.0000e+00,\n",
       "        0.0000e+00, 0.0000e+00, 0.0000e+00, 0.0000e+00, 0.0000e+00, 0.0000e+00,\n",
       "        9.6064e-01, 0.0000e+00, 0.0000e+00, 0.0000e+00, 0.0000e+00, 1.4013e-45,\n",
       "        0.0000e+00, 3.5483e-28, 0.0000e+00, 0.0000e+00, 0.0000e+00, 0.0000e+00,\n",
       "        0.0000e+00, 0.0000e+00, 0.0000e+00, 0.0000e+00, 0.0000e+00, 2.1874e-28,\n",
       "        0.0000e+00, 0.0000e+00, 0.0000e+00, 0.0000e+00])"
      ]
     },
     "execution_count": 83,
     "metadata": {},
     "output_type": "execute_result"
    }
   ],
   "source": [
    "# compare to energy based distribution\n",
    "gamma = 2\n",
    "p = torch.softmax(10**gamma * torch.randn(num_states), dim=-1)\n",
    "p"
   ]
  },
  {
   "cell_type": "code",
   "execution_count": 84,
   "metadata": {},
   "outputs": [
    {
     "data": {
      "text/plain": [
       "<matplotlib.image.AxesImage at 0x13b962260>"
      ]
     },
     "execution_count": 84,
     "metadata": {},
     "output_type": "execute_result"
    },
    {
     "data": {
      "image/png": "[encoded data removed]",
      "text/plain": [
       "<Figure size 640x480 with 1 Axes>"
      ]
     },
     "metadata": {},
     "output_type": "display_data"
    }
   ],
   "source": [
    "plt.imshow(torch.stack([p for _ in range(num_states)]))"
   ]
  },
  {
   "attachments": {},
   "cell_type": "markdown",
   "metadata": {},
   "source": [
    "save some priors to csvs"
   ]
  },
  {
   "cell_type": "code",
   "execution_count": 87,
   "metadata": {},
   "outputs": [],
   "source": [
    "import pandas as pd\n",
    "\n",
    "def make_and_save_prior(num_states, alpha, fn):\n",
    "    states = torch.arange(1, num_states+1)\n",
    "    prior = torch.softmax(torch.pow(states, -alpha), dim=-1)\n",
    "    df = pd.DataFrame(states, columns=[\"name\"])\n",
    "    df[\"probability\"] = prior\n",
    "    df.to_csv(fn)\n",
    "\n",
    "# make_and_save_prior(10, 2., \"10_power_2.csv\")\n",
    "# make_and_save_prior(100, 2., \"100_power_2.csv\")\n",
    "# make_and_save_prior(200, 2., \"1ball_200_power_2.csv\")\n",
    "# make_and_save_prior(300, 2., \"2ball_300_power_2.csv\")"
   ]
  }
 ],
 "metadata": {
  "kernelspec": {
   "display_name": "ibsg",
   "language": "python",
   "name": "python3"
  },
  "language_info": {
   "codemirror_mode": {
    "name": "ipython",
    "version": 3
   },
   "file_extension": ".py",
   "mimetype": "text/x-python",
   "name": "python",
   "nbconvert_exporter": "python",
   "pygments_lexer": "ipython3",
   "version": "3.10.10"
  },
  "orig_nbformat": 4
 },
 "nbformat": 4,
 "nbformat_minor": 2
}
