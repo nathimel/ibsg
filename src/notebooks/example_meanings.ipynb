{
 "cells": [
  {
   "cell_type": "code",
   "execution_count": 189,
   "metadata": {},
   "outputs": [],
   "source": [
    "import os\n",
    "\n",
    "import hydra\n",
    "from hydra.core.hydra_config import HydraConfig\n",
    "from hydra.core.global_hydra import GlobalHydra\n",
    "from omegaconf import OmegaConf\n",
    "\n",
    "import torch\n",
    "import pandas as pd\n",
    "import plotnine as pn\n",
    "\n",
    "import sys\n",
    "sys.path.append(\"/Users/nathanielimel/uci/projects/ibsg/src\")\n",
    "\n",
    "from game.game import Game\n",
    "from misc.vis import numeric_col_to_categorical\n"
   ]
  },
  {
   "cell_type": "code",
   "execution_count": 190,
   "metadata": {},
   "outputs": [],
   "source": [
    "overrides = [\n",
    "    \"game.num_states=100\",\n",
    "    \"game.num_signals=100\",\n",
    "    \"game.meaning_dist_gamma=2\",\n",
    "]\n",
    "\n",
    "# Global initialization\n",
    "GlobalHydra.instance().clear() # from previous runs of notebook\n",
    "hydra.initialize(version_base=None, config_path=\"../../conf\")\n",
    "config = hydra.compose(\n",
    "    config_name=\"config\",\n",
    "    overrides=overrides,\n",
    ")"
   ]
  },
  {
   "cell_type": "code",
   "execution_count": 191,
   "metadata": {},
   "outputs": [],
   "source": [
    "g = Game.from_hydra(config)"
   ]
  },
  {
   "cell_type": "code",
   "execution_count": 192,
   "metadata": {},
   "outputs": [
    {
     "data": {
      "text/html": [
       "<div>\n",
       "<style scoped>\n",
       "    .dataframe tbody tr th:only-of-type {\n",
       "        vertical-align: middle;\n",
       "    }\n",
       "\n",
       "    .dataframe tbody tr th {\n",
       "        vertical-align: top;\n",
       "    }\n",
       "\n",
       "    .dataframe thead th {\n",
       "        text-align: right;\n",
       "    }\n",
       "</style>\n",
       "<table border=\"1\" class=\"dataframe\">\n",
       "  <thead>\n",
       "    <tr style=\"text-align: right;\">\n",
       "      <th></th>\n",
       "      <th>world state</th>\n",
       "      <th>meaning</th>\n",
       "      <th>p</th>\n",
       "    </tr>\n",
       "  </thead>\n",
       "  <tbody>\n",
       "    <tr>\n",
       "      <th>0</th>\n",
       "      <td>1</td>\n",
       "      <td>1</td>\n",
       "      <td>9.999546e-01</td>\n",
       "    </tr>\n",
       "    <tr>\n",
       "      <th>1</th>\n",
       "      <td>1</td>\n",
       "      <td>1</td>\n",
       "      <td>4.539787e-05</td>\n",
       "    </tr>\n",
       "    <tr>\n",
       "      <th>2</th>\n",
       "      <td>1</td>\n",
       "      <td>1</td>\n",
       "      <td>4.248161e-18</td>\n",
       "    </tr>\n",
       "    <tr>\n",
       "      <th>3</th>\n",
       "      <td>1</td>\n",
       "      <td>1</td>\n",
       "      <td>8.193630e-40</td>\n",
       "    </tr>\n",
       "    <tr>\n",
       "      <th>4</th>\n",
       "      <td>1</td>\n",
       "      <td>1</td>\n",
       "      <td>0.000000e+00</td>\n",
       "    </tr>\n",
       "    <tr>\n",
       "      <th>...</th>\n",
       "      <td>...</td>\n",
       "      <td>...</td>\n",
       "      <td>...</td>\n",
       "    </tr>\n",
       "    <tr>\n",
       "      <th>9995</th>\n",
       "      <td>100</td>\n",
       "      <td>100</td>\n",
       "      <td>0.000000e+00</td>\n",
       "    </tr>\n",
       "    <tr>\n",
       "      <th>9996</th>\n",
       "      <td>100</td>\n",
       "      <td>100</td>\n",
       "      <td>8.193630e-40</td>\n",
       "    </tr>\n",
       "    <tr>\n",
       "      <th>9997</th>\n",
       "      <td>100</td>\n",
       "      <td>100</td>\n",
       "      <td>4.248161e-18</td>\n",
       "    </tr>\n",
       "    <tr>\n",
       "      <th>9998</th>\n",
       "      <td>100</td>\n",
       "      <td>100</td>\n",
       "      <td>4.539787e-05</td>\n",
       "    </tr>\n",
       "    <tr>\n",
       "      <th>9999</th>\n",
       "      <td>100</td>\n",
       "      <td>100</td>\n",
       "      <td>9.999546e-01</td>\n",
       "    </tr>\n",
       "  </tbody>\n",
       "</table>\n",
       "<p>10000 rows × 3 columns</p>\n",
       "</div>"
      ],
      "text/plain": [
       "     world state meaning             p\n",
       "0              1       1  9.999546e-01\n",
       "1              1       1  4.539787e-05\n",
       "2              1       1  4.248161e-18\n",
       "3              1       1  8.193630e-40\n",
       "4              1       1  0.000000e+00\n",
       "...          ...     ...           ...\n",
       "9995         100     100  0.000000e+00\n",
       "9996         100     100  8.193630e-40\n",
       "9997         100     100  4.248161e-18\n",
       "9998         100     100  4.539787e-05\n",
       "9999         100     100  9.999546e-01\n",
       "\n",
       "[10000 rows x 3 columns]"
      ]
     },
     "execution_count": 192,
     "metadata": {},
     "output_type": "execute_result"
    }
   ],
   "source": [
    "def meanings_heatmap(df) -> pn.ggplot:\n",
    "    return (\n",
    "        pn.ggplot(df, pn.aes(x=\"world state\", y=\"meaning\", fill=\"p\"))\n",
    "        + pn.geom_tile()\n",
    "        + pn.scale_fill_cmap(limits=[0,1])\n",
    "        + pn.theme(\n",
    "            axis_text_y=pn.element_blank(),\n",
    "            axis_text_x=pn.element_blank(),\n",
    "            axis_title_x=pn.element_text(\"meaning, $M$\"),\n",
    "            axis_title_y=pn.element_text(\"world state, $U$\"),\n",
    "        )\n",
    "        + pn.ggtitle(\"meaning uncertainty $p(u|m)$\")\n",
    "    )\n",
    "\n",
    "# construct dataframe\n",
    "meanings = torch.tensor([[i] * g.num_states for i in range(g.num_states)]).flatten()\n",
    "meanings\n",
    "data = torch.stack([meanings, meanings, g.meaning_dists.flatten()])\n",
    "data = pd.DataFrame(data.T, columns=[\"world state\", \"meaning\", \"p\"])\n",
    "\n",
    "# format \n",
    "data[\"meaning\"] = data[\"meaning\"] + 1\n",
    "data[\"world state\"] = data[\"world state\"] + 1\n",
    "data = numeric_col_to_categorical(data, \"meaning\")\n",
    "data = numeric_col_to_categorical(data, \"world state\")\n",
    "data"
   ]
  },
  {
   "cell_type": "code",
   "execution_count": 193,
   "metadata": {},
   "outputs": [
    {
     "data": {
      "image/png": "[encoded data removed]",
      "text/plain": [
       "<Figure size 640x480 with 1 Axes>"
      ]
     },
     "metadata": {},
     "output_type": "display_data"
    },
    {
     "data": {
      "text/plain": [
       "<ggplot: (379051129)>"
      ]
     },
     "execution_count": 193,
     "metadata": {},
     "output_type": "execute_result"
    }
   ],
   "source": [
    "# plot \n",
    "meanings_heatmap(data)"
   ]
  },
  {
   "cell_type": "code",
   "execution_count": 194,
   "metadata": {},
   "outputs": [
    {
     "data": {
      "image/png": "[encoded data removed]",
      "text/plain": [
       "<Figure size 640x480 with 1 Axes>"
      ]
     },
     "metadata": {},
     "output_type": "display_data"
    },
    {
     "data": {
      "text/plain": [
       "<ggplot: (378053029)>"
      ]
     },
     "execution_count": 194,
     "metadata": {},
     "output_type": "execute_result"
    }
   ],
   "source": [
    "# Well that's not working out well, so let's just look at a single meaning,\n",
    "\n",
    "half = int(g.num_states / 2)\n",
    "meaning = g.meaning_dists[half]\n",
    "meanings = torch.Tensor(range(g.num_states))\n",
    "data = pd.DataFrame(data = torch.stack([meanings, meaning]).T, columns = [\"meaning\", \"p\"])\n",
    "plot = (\n",
    "    pn.ggplot(data, pn.aes(x=\"meaning\", y=\"p\"))\n",
    "    + pn.geom_line()\n",
    "    + pn.ylim([0,1])\n",
    "    + pn.theme(\n",
    "        axis_title_x=pn.element_text(\"meaning, $M$\"),\n",
    "        axis_title_y=pn.element_text(\"world state, $U$\"),\n",
    "    )\n",
    ")\n",
    "plot"
   ]
  },
  {
   "cell_type": "code",
   "execution_count": 195,
   "metadata": {},
   "outputs": [
    {
     "data": {
      "text/plain": [
       "0.0014266968"
      ]
     },
     "execution_count": 195,
     "metadata": {},
     "output_type": "execute_result"
    }
   ],
   "source": [
    "# get a scalar value: cond entropy H(U|M) of the confusion dists\n",
    "\n",
    "# H(Y|X) = H(X,Y) - H(X)\n",
    "from altk.effcomm.util import H, joint\n",
    "\n",
    "pXY = joint(g.meaning_dists, g.prior)\n",
    "pX = pXY.sum(0)\n",
    "hY_X = H(pXY) - H(pX)\n",
    "hY_X"
   ]
  }
 ],
 "metadata": {
  "kernelspec": {
   "display_name": "ibsg",
   "language": "python",
   "name": "python3"
  },
  "language_info": {
   "codemirror_mode": {
    "name": "ipython",
    "version": 3
   },
   "file_extension": ".py",
   "mimetype": "text/x-python",
   "name": "python",
   "nbconvert_exporter": "python",
   "pygments_lexer": "ipython3",
   "version": "3.10.10"
  },
  "orig_nbformat": 4
 },
 "nbformat": 4,
 "nbformat_minor": 2
}
