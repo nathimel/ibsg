{
 "cells": [
  {
   "cell_type": "markdown",
   "metadata": {},
   "source": [
    "# Main anaysis"
   ]
  },
  {
   "cell_type": "markdown",
   "metadata": {},
   "source": [
    "### Setup"
   ]
  },
  {
   "cell_type": "markdown",
   "metadata": {},
   "source": [
    "#### Imports"
   ]
  },
  {
   "cell_type": "code",
   "execution_count": 445,
   "metadata": {},
   "outputs": [],
   "source": [
    "import hydra\n",
    "\n",
    "import numpy as np\n",
    "import pandas as pd\n",
    "import plotnine as pn\n",
    "\n",
    "from hydra.core.global_hydra import GlobalHydra\n",
    "\n",
    "# Lets us import ibsg modules\n",
    "import sys\n",
    "sys.path.append(\"/Users/nathanielimel/uci/projects/ibsg/src\")\n",
    "\n",
    "from game.game import Game"
   ]
  },
  {
   "cell_type": "markdown",
   "metadata": {},
   "source": [
    "#### Overrides"
   ]
  },
  {
   "cell_type": "code",
   "execution_count": 446,
   "metadata": {},
   "outputs": [],
   "source": [
    "overrides = [\n",
    "    \"game.universe=100\",\n",
    "    \"game.num_signals=100\",\n",
    "    \"game.meaning_dist_gamma='log10(0.5)'\",\n",
    "    \"simulation/dynamics=imprecise_conditional_imitation\",\n",
    "    \"simulation.dynamics.imprecise_imitation_gamma='np.log(0.5)'\",\n",
    "    \"simulation.dynamics.max_its=1e5\", # important to specify maxits\n",
    "    \"seed=0\",\n",
    "] # n.b.: do not include multirun overrides, we will filter from columns in the dataframe.\n",
    "\n",
    "# Global initialization\n",
    "GlobalHydra.instance().clear() # from previous runs of notebook\n",
    "hydra.initialize(version_base=None, config_path=\"../../conf\")\n",
    "config = hydra.compose(\n",
    "    config_name=\"config\",\n",
    "    overrides=overrides,\n",
    ")\n"
   ]
  },
  {
   "cell_type": "markdown",
   "metadata": {},
   "source": [
    "#### Helper function to filter data by config data"
   ]
  },
  {
   "cell_type": "code",
   "execution_count": 447,
   "metadata": {},
   "outputs": [],
   "source": [
    "def get_df_subsetted_by_meaning_dists(df: pd.DataFrame, config) -> pd.DataFrame:\n",
    "    \"\"\"Return a subset of the data consistent with the specifications in the curve_metadata config.\"\"\"\n",
    "    curve_metadata = config.game\n",
    "\n",
    "    # See src/get_all_data.py\n",
    "    universe = df[\"universe\"].astype(str) == str(curve_metadata.universe)\n",
    "    prior = df[\"prior\"].astype(str) == str(curve_metadata.prior)\n",
    "    num_signals = df[\"num_signals\"] == curve_metadata.num_signals # this is prob not necessary\n",
    "    distance = df[\"distance\"] == curve_metadata.distance\n",
    "\n",
    "    meaning_dist_gamma = df[\"meaning_dist_gamma\"] == curve_metadata.meaning_dist_gamma\n",
    "\n",
    "    imprecise_imitation_gamma = df[\"imprecise_imitation_gamma\"].isin([curve_metadata.meaning_dist_gamma, np.nan]) # allows curve, and constraints to be the same as curve.\n",
    "\n",
    "    # TODO: subset by max its in simulation\n",
    "    max_its = df[\"max_its\"].isin([config.simulation.dynamics.max_its, np.nan])# allows curve\n",
    "\n",
    "    df_subsetted = df[universe & prior & num_signals & num_signals & distance & meaning_dist_gamma & imprecise_imitation_gamma & max_its]\n",
    "\n",
    "    return df_subsetted"
   ]
  },
  {
   "cell_type": "markdown",
   "metadata": {},
   "source": [
    "#### Load data"
   ]
  },
  {
   "cell_type": "code",
   "execution_count": 448,
   "metadata": {},
   "outputs": [
    {
     "name": "stderr",
     "output_type": "stream",
     "text": [
      "/var/folders/3z/q1pyp9n929z2nh_1_69s7y_40000gn/T/ipykernel_95544/1048885480.py:2: DtypeWarning: Columns (15,16,18) have mixed types. Specify dtype option on import or set low_memory=False.\n"
     ]
    },
    {
     "data": {
      "text/html": [
       "<div>\n",
       "<style scoped>\n",
       "    .dataframe tbody tr th:only-of-type {\n",
       "        vertical-align: middle;\n",
       "    }\n",
       "\n",
       "    .dataframe tbody tr th {\n",
       "        vertical-align: top;\n",
       "    }\n",
       "\n",
       "    .dataframe thead th {\n",
       "        text-align: right;\n",
       "    }\n",
       "</style>\n",
       "<table border=\"1\" class=\"dataframe\">\n",
       "  <thead>\n",
       "    <tr style=\"text-align: right;\">\n",
       "      <th></th>\n",
       "      <th>complexity</th>\n",
       "      <th>accuracy</th>\n",
       "      <th>distortion</th>\n",
       "      <th>mse</th>\n",
       "      <th>gNID</th>\n",
       "      <th>eps</th>\n",
       "      <th>beta</th>\n",
       "      <th>run</th>\n",
       "      <th>point_type</th>\n",
       "      <th>round</th>\n",
       "      <th>...</th>\n",
       "      <th>meaning_dist_gamma</th>\n",
       "      <th>dynamics</th>\n",
       "      <th>imprecise_imitation_gamma</th>\n",
       "      <th>population_init_gamma</th>\n",
       "      <th>seed</th>\n",
       "      <th>max_its</th>\n",
       "      <th>sender_delta</th>\n",
       "      <th>receiver_delta</th>\n",
       "      <th>min_epsilon</th>\n",
       "      <th>min_beta</th>\n",
       "    </tr>\n",
       "  </thead>\n",
       "  <tbody>\n",
       "    <tr>\n",
       "      <th>0</th>\n",
       "      <td>1.526090e+00</td>\n",
       "      <td>1.270097</td>\n",
       "      <td>0.641931</td>\n",
       "      <td>2.278652</td>\n",
       "      <td>[0.0054146544510602634]</td>\n",
       "      <td>0.012748</td>\n",
       "      <td>1.095495</td>\n",
       "      <td>0.0</td>\n",
       "      <td>simulation</td>\n",
       "      <td>NaN</td>\n",
       "      <td>...</td>\n",
       "      <td>0</td>\n",
       "      <td>replicator_diffusion</td>\n",
       "      <td>0</td>\n",
       "      <td>-8.0</td>\n",
       "      <td>6.0</td>\n",
       "      <td>200.0</td>\n",
       "      <td>NaN</td>\n",
       "      <td>NaN</td>\n",
       "      <td>NaN</td>\n",
       "      <td>NaN</td>\n",
       "    </tr>\n",
       "    <tr>\n",
       "      <th>1</th>\n",
       "      <td>0.000000e+00</td>\n",
       "      <td>0.000000</td>\n",
       "      <td>1.912028</td>\n",
       "      <td>16.399997</td>\n",
       "      <td>NaN</td>\n",
       "      <td>NaN</td>\n",
       "      <td>NaN</td>\n",
       "      <td>1.0</td>\n",
       "      <td>trajectory</td>\n",
       "      <td>0.0</td>\n",
       "      <td>...</td>\n",
       "      <td>0</td>\n",
       "      <td>replicator_diffusion</td>\n",
       "      <td>0</td>\n",
       "      <td>-8.0</td>\n",
       "      <td>6.0</td>\n",
       "      <td>200.0</td>\n",
       "      <td>NaN</td>\n",
       "      <td>NaN</td>\n",
       "      <td>NaN</td>\n",
       "      <td>NaN</td>\n",
       "    </tr>\n",
       "    <tr>\n",
       "      <th>2</th>\n",
       "      <td>0.000000e+00</td>\n",
       "      <td>0.000000</td>\n",
       "      <td>1.912028</td>\n",
       "      <td>16.330831</td>\n",
       "      <td>NaN</td>\n",
       "      <td>NaN</td>\n",
       "      <td>NaN</td>\n",
       "      <td>1.0</td>\n",
       "      <td>trajectory</td>\n",
       "      <td>1.0</td>\n",
       "      <td>...</td>\n",
       "      <td>0</td>\n",
       "      <td>replicator_diffusion</td>\n",
       "      <td>0</td>\n",
       "      <td>-8.0</td>\n",
       "      <td>6.0</td>\n",
       "      <td>200.0</td>\n",
       "      <td>NaN</td>\n",
       "      <td>NaN</td>\n",
       "      <td>NaN</td>\n",
       "      <td>NaN</td>\n",
       "    </tr>\n",
       "    <tr>\n",
       "      <th>3</th>\n",
       "      <td>0.000000e+00</td>\n",
       "      <td>0.000000</td>\n",
       "      <td>1.912028</td>\n",
       "      <td>16.278492</td>\n",
       "      <td>NaN</td>\n",
       "      <td>NaN</td>\n",
       "      <td>NaN</td>\n",
       "      <td>1.0</td>\n",
       "      <td>trajectory</td>\n",
       "      <td>2.0</td>\n",
       "      <td>...</td>\n",
       "      <td>0</td>\n",
       "      <td>replicator_diffusion</td>\n",
       "      <td>0</td>\n",
       "      <td>-8.0</td>\n",
       "      <td>6.0</td>\n",
       "      <td>200.0</td>\n",
       "      <td>NaN</td>\n",
       "      <td>NaN</td>\n",
       "      <td>NaN</td>\n",
       "      <td>NaN</td>\n",
       "    </tr>\n",
       "    <tr>\n",
       "      <th>4</th>\n",
       "      <td>8.881784e-16</td>\n",
       "      <td>0.000000</td>\n",
       "      <td>1.912028</td>\n",
       "      <td>16.236625</td>\n",
       "      <td>NaN</td>\n",
       "      <td>NaN</td>\n",
       "      <td>NaN</td>\n",
       "      <td>1.0</td>\n",
       "      <td>trajectory</td>\n",
       "      <td>3.0</td>\n",
       "      <td>...</td>\n",
       "      <td>0</td>\n",
       "      <td>replicator_diffusion</td>\n",
       "      <td>0</td>\n",
       "      <td>-8.0</td>\n",
       "      <td>6.0</td>\n",
       "      <td>200.0</td>\n",
       "      <td>NaN</td>\n",
       "      <td>NaN</td>\n",
       "      <td>NaN</td>\n",
       "      <td>NaN</td>\n",
       "    </tr>\n",
       "    <tr>\n",
       "      <th>...</th>\n",
       "      <td>...</td>\n",
       "      <td>...</td>\n",
       "      <td>...</td>\n",
       "      <td>...</td>\n",
       "      <td>...</td>\n",
       "      <td>...</td>\n",
       "      <td>...</td>\n",
       "      <td>...</td>\n",
       "      <td>...</td>\n",
       "      <td>...</td>\n",
       "      <td>...</td>\n",
       "      <td>...</td>\n",
       "      <td>...</td>\n",
       "      <td>...</td>\n",
       "      <td>...</td>\n",
       "      <td>...</td>\n",
       "      <td>...</td>\n",
       "      <td>...</td>\n",
       "      <td>...</td>\n",
       "      <td>...</td>\n",
       "      <td>...</td>\n",
       "    </tr>\n",
       "    <tr>\n",
       "      <th>126166</th>\n",
       "      <td>6.643856e+00</td>\n",
       "      <td>NaN</td>\n",
       "      <td>NaN</td>\n",
       "      <td>0.000000</td>\n",
       "      <td>NaN</td>\n",
       "      <td>NaN</td>\n",
       "      <td>NaN</td>\n",
       "      <td>NaN</td>\n",
       "      <td>mse_bound</td>\n",
       "      <td>NaN</td>\n",
       "      <td>...</td>\n",
       "      <td>log10(0.5)</td>\n",
       "      <td>NaN</td>\n",
       "      <td>NaN</td>\n",
       "      <td>NaN</td>\n",
       "      <td>NaN</td>\n",
       "      <td>NaN</td>\n",
       "      <td>NaN</td>\n",
       "      <td>NaN</td>\n",
       "      <td>NaN</td>\n",
       "      <td>NaN</td>\n",
       "    </tr>\n",
       "    <tr>\n",
       "      <th>126167</th>\n",
       "      <td>6.643856e+00</td>\n",
       "      <td>NaN</td>\n",
       "      <td>NaN</td>\n",
       "      <td>0.000000</td>\n",
       "      <td>NaN</td>\n",
       "      <td>NaN</td>\n",
       "      <td>NaN</td>\n",
       "      <td>NaN</td>\n",
       "      <td>mse_bound</td>\n",
       "      <td>NaN</td>\n",
       "      <td>...</td>\n",
       "      <td>log10(0.5)</td>\n",
       "      <td>NaN</td>\n",
       "      <td>NaN</td>\n",
       "      <td>NaN</td>\n",
       "      <td>NaN</td>\n",
       "      <td>NaN</td>\n",
       "      <td>NaN</td>\n",
       "      <td>NaN</td>\n",
       "      <td>NaN</td>\n",
       "      <td>NaN</td>\n",
       "    </tr>\n",
       "    <tr>\n",
       "      <th>126168</th>\n",
       "      <td>6.643856e+00</td>\n",
       "      <td>NaN</td>\n",
       "      <td>NaN</td>\n",
       "      <td>0.000000</td>\n",
       "      <td>NaN</td>\n",
       "      <td>NaN</td>\n",
       "      <td>NaN</td>\n",
       "      <td>NaN</td>\n",
       "      <td>mse_bound</td>\n",
       "      <td>NaN</td>\n",
       "      <td>...</td>\n",
       "      <td>log10(0.5)</td>\n",
       "      <td>NaN</td>\n",
       "      <td>NaN</td>\n",
       "      <td>NaN</td>\n",
       "      <td>NaN</td>\n",
       "      <td>NaN</td>\n",
       "      <td>NaN</td>\n",
       "      <td>NaN</td>\n",
       "      <td>NaN</td>\n",
       "      <td>NaN</td>\n",
       "    </tr>\n",
       "    <tr>\n",
       "      <th>126169</th>\n",
       "      <td>6.643856e+00</td>\n",
       "      <td>NaN</td>\n",
       "      <td>NaN</td>\n",
       "      <td>0.000000</td>\n",
       "      <td>NaN</td>\n",
       "      <td>NaN</td>\n",
       "      <td>NaN</td>\n",
       "      <td>NaN</td>\n",
       "      <td>mse_bound</td>\n",
       "      <td>NaN</td>\n",
       "      <td>...</td>\n",
       "      <td>log10(0.5)</td>\n",
       "      <td>NaN</td>\n",
       "      <td>NaN</td>\n",
       "      <td>NaN</td>\n",
       "      <td>NaN</td>\n",
       "      <td>NaN</td>\n",
       "      <td>NaN</td>\n",
       "      <td>NaN</td>\n",
       "      <td>NaN</td>\n",
       "      <td>NaN</td>\n",
       "    </tr>\n",
       "    <tr>\n",
       "      <th>126170</th>\n",
       "      <td>6.643856e+00</td>\n",
       "      <td>NaN</td>\n",
       "      <td>NaN</td>\n",
       "      <td>0.000000</td>\n",
       "      <td>NaN</td>\n",
       "      <td>NaN</td>\n",
       "      <td>NaN</td>\n",
       "      <td>NaN</td>\n",
       "      <td>mse_bound</td>\n",
       "      <td>NaN</td>\n",
       "      <td>...</td>\n",
       "      <td>log10(0.5)</td>\n",
       "      <td>NaN</td>\n",
       "      <td>NaN</td>\n",
       "      <td>NaN</td>\n",
       "      <td>NaN</td>\n",
       "      <td>NaN</td>\n",
       "      <td>NaN</td>\n",
       "      <td>NaN</td>\n",
       "      <td>NaN</td>\n",
       "      <td>NaN</td>\n",
       "    </tr>\n",
       "  </tbody>\n",
       "</table>\n",
       "<p>126171 rows × 26 columns</p>\n",
       "</div>"
      ],
      "text/plain": [
       "          complexity  accuracy  distortion        mse   \n",
       "0       1.526090e+00  1.270097    0.641931   2.278652  \\\n",
       "1       0.000000e+00  0.000000    1.912028  16.399997   \n",
       "2       0.000000e+00  0.000000    1.912028  16.330831   \n",
       "3       0.000000e+00  0.000000    1.912028  16.278492   \n",
       "4       8.881784e-16  0.000000    1.912028  16.236625   \n",
       "...              ...       ...         ...        ...   \n",
       "126166  6.643856e+00       NaN         NaN   0.000000   \n",
       "126167  6.643856e+00       NaN         NaN   0.000000   \n",
       "126168  6.643856e+00       NaN         NaN   0.000000   \n",
       "126169  6.643856e+00       NaN         NaN   0.000000   \n",
       "126170  6.643856e+00       NaN         NaN   0.000000   \n",
       "\n",
       "                           gNID       eps      beta  run  point_type  round   \n",
       "0       [0.0054146544510602634]  0.012748  1.095495  0.0  simulation    NaN  \\\n",
       "1                           NaN       NaN       NaN  1.0  trajectory    0.0   \n",
       "2                           NaN       NaN       NaN  1.0  trajectory    1.0   \n",
       "3                           NaN       NaN       NaN  1.0  trajectory    2.0   \n",
       "4                           NaN       NaN       NaN  1.0  trajectory    3.0   \n",
       "...                         ...       ...       ...  ...         ...    ...   \n",
       "126166                      NaN       NaN       NaN  NaN   mse_bound    NaN   \n",
       "126167                      NaN       NaN       NaN  NaN   mse_bound    NaN   \n",
       "126168                      NaN       NaN       NaN  NaN   mse_bound    NaN   \n",
       "126169                      NaN       NaN       NaN  NaN   mse_bound    NaN   \n",
       "126170                      NaN       NaN       NaN  NaN   mse_bound    NaN   \n",
       "\n",
       "        ...  meaning_dist_gamma              dynamics   \n",
       "0       ...                   0  replicator_diffusion  \\\n",
       "1       ...                   0  replicator_diffusion   \n",
       "2       ...                   0  replicator_diffusion   \n",
       "3       ...                   0  replicator_diffusion   \n",
       "4       ...                   0  replicator_diffusion   \n",
       "...     ...                 ...                   ...   \n",
       "126166  ...          log10(0.5)                   NaN   \n",
       "126167  ...          log10(0.5)                   NaN   \n",
       "126168  ...          log10(0.5)                   NaN   \n",
       "126169  ...          log10(0.5)                   NaN   \n",
       "126170  ...          log10(0.5)                   NaN   \n",
       "\n",
       "        imprecise_imitation_gamma  population_init_gamma seed max_its   \n",
       "0                               0                   -8.0  6.0   200.0  \\\n",
       "1                               0                   -8.0  6.0   200.0   \n",
       "2                               0                   -8.0  6.0   200.0   \n",
       "3                               0                   -8.0  6.0   200.0   \n",
       "4                               0                   -8.0  6.0   200.0   \n",
       "...                           ...                    ...  ...     ...   \n",
       "126166                        NaN                    NaN  NaN     NaN   \n",
       "126167                        NaN                    NaN  NaN     NaN   \n",
       "126168                        NaN                    NaN  NaN     NaN   \n",
       "126169                        NaN                    NaN  NaN     NaN   \n",
       "126170                        NaN                    NaN  NaN     NaN   \n",
       "\n",
       "       sender_delta receiver_delta min_epsilon  min_beta  \n",
       "0               NaN            NaN         NaN       NaN  \n",
       "1               NaN            NaN         NaN       NaN  \n",
       "2               NaN            NaN         NaN       NaN  \n",
       "3               NaN            NaN         NaN       NaN  \n",
       "4               NaN            NaN         NaN       NaN  \n",
       "...             ...            ...         ...       ...  \n",
       "126166          NaN            NaN         NaN       NaN  \n",
       "126167          NaN            NaN         NaN       NaN  \n",
       "126168          NaN            NaN         NaN       NaN  \n",
       "126169          NaN            NaN         NaN       NaN  \n",
       "126170          NaN            NaN         NaN       NaN  \n",
       "\n",
       "[126171 rows x 26 columns]"
      ]
     },
     "execution_count": 448,
     "metadata": {},
     "output_type": "execute_result"
    }
   ],
   "source": [
    "all_data_fp = \"../../analysis_data/all_data.csv\"\n",
    "df = pd.read_csv(all_data_fp)\n",
    "df"
   ]
  },
  {
   "cell_type": "code",
   "execution_count": 449,
   "metadata": {},
   "outputs": [
    {
     "data": {
      "text/plain": [
       "array(['0', '1', '-1', 'log10(0.5)', '-3', '3', '2', '-2', nan],\n",
       "      dtype=object)"
      ]
     },
     "execution_count": 449,
     "metadata": {},
     "output_type": "execute_result"
    }
   ],
   "source": [
    "df[df[\"meaning_dist_gamma\"] == 'log10(0.5)'].discriminative_need_gamma.unique()"
   ]
  },
  {
   "cell_type": "markdown",
   "metadata": {},
   "source": [
    "#### Filter"
   ]
  },
  {
   "cell_type": "code",
   "execution_count": 450,
   "metadata": {},
   "outputs": [
    {
     "data": {
      "text/html": [
       "<div>\n",
       "<style scoped>\n",
       "    .dataframe tbody tr th:only-of-type {\n",
       "        vertical-align: middle;\n",
       "    }\n",
       "\n",
       "    .dataframe tbody tr th {\n",
       "        vertical-align: top;\n",
       "    }\n",
       "\n",
       "    .dataframe thead th {\n",
       "        text-align: right;\n",
       "    }\n",
       "</style>\n",
       "<table border=\"1\" class=\"dataframe\">\n",
       "  <thead>\n",
       "    <tr style=\"text-align: right;\">\n",
       "      <th></th>\n",
       "      <th>complexity</th>\n",
       "      <th>accuracy</th>\n",
       "      <th>distortion</th>\n",
       "      <th>mse</th>\n",
       "      <th>gNID</th>\n",
       "      <th>eps</th>\n",
       "      <th>beta</th>\n",
       "      <th>run</th>\n",
       "      <th>point_type</th>\n",
       "      <th>round</th>\n",
       "      <th>...</th>\n",
       "      <th>meaning_dist_gamma</th>\n",
       "      <th>dynamics</th>\n",
       "      <th>imprecise_imitation_gamma</th>\n",
       "      <th>population_init_gamma</th>\n",
       "      <th>seed</th>\n",
       "      <th>max_its</th>\n",
       "      <th>sender_delta</th>\n",
       "      <th>receiver_delta</th>\n",
       "      <th>min_epsilon</th>\n",
       "      <th>min_beta</th>\n",
       "    </tr>\n",
       "  </thead>\n",
       "  <tbody>\n",
       "    <tr>\n",
       "      <th>107902</th>\n",
       "      <td>4.047786</td>\n",
       "      <td>3.789078</td>\n",
       "      <td>30.038460</td>\n",
       "      <td>6.261805</td>\n",
       "      <td>NaN</td>\n",
       "      <td>NaN</td>\n",
       "      <td>NaN</td>\n",
       "      <td>0.0</td>\n",
       "      <td>simulation</td>\n",
       "      <td>NaN</td>\n",
       "      <td>...</td>\n",
       "      <td>log10(0.5)</td>\n",
       "      <td>imprecise_conditional_imitation</td>\n",
       "      <td>log10(0.5)</td>\n",
       "      <td>2.0</td>\n",
       "      <td>0.0</td>\n",
       "      <td>100000.0</td>\n",
       "      <td>0.000120</td>\n",
       "      <td>0.000093</td>\n",
       "      <td>0.000182</td>\n",
       "      <td>1.451759</td>\n",
       "    </tr>\n",
       "    <tr>\n",
       "      <th>107903</th>\n",
       "      <td>5.778801</td>\n",
       "      <td>3.759523</td>\n",
       "      <td>36.599843</td>\n",
       "      <td>1670.969362</td>\n",
       "      <td>NaN</td>\n",
       "      <td>NaN</td>\n",
       "      <td>NaN</td>\n",
       "      <td>1.0</td>\n",
       "      <td>trajectory</td>\n",
       "      <td>1.0</td>\n",
       "      <td>...</td>\n",
       "      <td>log10(0.5)</td>\n",
       "      <td>imprecise_conditional_imitation</td>\n",
       "      <td>log10(0.5)</td>\n",
       "      <td>2.0</td>\n",
       "      <td>0.0</td>\n",
       "      <td>100000.0</td>\n",
       "      <td>178.318763</td>\n",
       "      <td>187.656723</td>\n",
       "      <td>0.738684</td>\n",
       "      <td>5.251156</td>\n",
       "    </tr>\n",
       "    <tr>\n",
       "      <th>107904</th>\n",
       "      <td>3.518897</td>\n",
       "      <td>3.282841</td>\n",
       "      <td>31.377870</td>\n",
       "      <td>102.383946</td>\n",
       "      <td>NaN</td>\n",
       "      <td>NaN</td>\n",
       "      <td>NaN</td>\n",
       "      <td>1.0</td>\n",
       "      <td>trajectory</td>\n",
       "      <td>2.0</td>\n",
       "      <td>...</td>\n",
       "      <td>log10(0.5)</td>\n",
       "      <td>imprecise_conditional_imitation</td>\n",
       "      <td>log10(0.5)</td>\n",
       "      <td>2.0</td>\n",
       "      <td>0.0</td>\n",
       "      <td>100000.0</td>\n",
       "      <td>35.744327</td>\n",
       "      <td>61.944749</td>\n",
       "      <td>0.104301</td>\n",
       "      <td>1.212563</td>\n",
       "    </tr>\n",
       "    <tr>\n",
       "      <th>107905</th>\n",
       "      <td>3.704640</td>\n",
       "      <td>3.491590</td>\n",
       "      <td>32.711405</td>\n",
       "      <td>9.397270</td>\n",
       "      <td>NaN</td>\n",
       "      <td>NaN</td>\n",
       "      <td>NaN</td>\n",
       "      <td>1.0</td>\n",
       "      <td>trajectory</td>\n",
       "      <td>3.0</td>\n",
       "      <td>...</td>\n",
       "      <td>log10(0.5)</td>\n",
       "      <td>imprecise_conditional_imitation</td>\n",
       "      <td>log10(0.5)</td>\n",
       "      <td>2.0</td>\n",
       "      <td>0.0</td>\n",
       "      <td>100000.0</td>\n",
       "      <td>14.007731</td>\n",
       "      <td>20.402434</td>\n",
       "      <td>0.044825</td>\n",
       "      <td>1.275879</td>\n",
       "    </tr>\n",
       "    <tr>\n",
       "      <th>107906</th>\n",
       "      <td>3.734478</td>\n",
       "      <td>3.531539</td>\n",
       "      <td>33.211561</td>\n",
       "      <td>8.714549</td>\n",
       "      <td>NaN</td>\n",
       "      <td>NaN</td>\n",
       "      <td>NaN</td>\n",
       "      <td>1.0</td>\n",
       "      <td>trajectory</td>\n",
       "      <td>4.0</td>\n",
       "      <td>...</td>\n",
       "      <td>log10(0.5)</td>\n",
       "      <td>imprecise_conditional_imitation</td>\n",
       "      <td>log10(0.5)</td>\n",
       "      <td>2.0</td>\n",
       "      <td>0.0</td>\n",
       "      <td>100000.0</td>\n",
       "      <td>6.844681</td>\n",
       "      <td>9.549438</td>\n",
       "      <td>0.028100</td>\n",
       "      <td>1.289950</td>\n",
       "    </tr>\n",
       "    <tr>\n",
       "      <th>...</th>\n",
       "      <td>...</td>\n",
       "      <td>...</td>\n",
       "      <td>...</td>\n",
       "      <td>...</td>\n",
       "      <td>...</td>\n",
       "      <td>...</td>\n",
       "      <td>...</td>\n",
       "      <td>...</td>\n",
       "      <td>...</td>\n",
       "      <td>...</td>\n",
       "      <td>...</td>\n",
       "      <td>...</td>\n",
       "      <td>...</td>\n",
       "      <td>...</td>\n",
       "      <td>...</td>\n",
       "      <td>...</td>\n",
       "      <td>...</td>\n",
       "      <td>...</td>\n",
       "      <td>...</td>\n",
       "      <td>...</td>\n",
       "      <td>...</td>\n",
       "    </tr>\n",
       "    <tr>\n",
       "      <th>126166</th>\n",
       "      <td>6.643856</td>\n",
       "      <td>NaN</td>\n",
       "      <td>NaN</td>\n",
       "      <td>0.000000</td>\n",
       "      <td>NaN</td>\n",
       "      <td>NaN</td>\n",
       "      <td>NaN</td>\n",
       "      <td>NaN</td>\n",
       "      <td>mse_bound</td>\n",
       "      <td>NaN</td>\n",
       "      <td>...</td>\n",
       "      <td>log10(0.5)</td>\n",
       "      <td>NaN</td>\n",
       "      <td>NaN</td>\n",
       "      <td>NaN</td>\n",
       "      <td>NaN</td>\n",
       "      <td>NaN</td>\n",
       "      <td>NaN</td>\n",
       "      <td>NaN</td>\n",
       "      <td>NaN</td>\n",
       "      <td>NaN</td>\n",
       "    </tr>\n",
       "    <tr>\n",
       "      <th>126167</th>\n",
       "      <td>6.643856</td>\n",
       "      <td>NaN</td>\n",
       "      <td>NaN</td>\n",
       "      <td>0.000000</td>\n",
       "      <td>NaN</td>\n",
       "      <td>NaN</td>\n",
       "      <td>NaN</td>\n",
       "      <td>NaN</td>\n",
       "      <td>mse_bound</td>\n",
       "      <td>NaN</td>\n",
       "      <td>...</td>\n",
       "      <td>log10(0.5)</td>\n",
       "      <td>NaN</td>\n",
       "      <td>NaN</td>\n",
       "      <td>NaN</td>\n",
       "      <td>NaN</td>\n",
       "      <td>NaN</td>\n",
       "      <td>NaN</td>\n",
       "      <td>NaN</td>\n",
       "      <td>NaN</td>\n",
       "      <td>NaN</td>\n",
       "    </tr>\n",
       "    <tr>\n",
       "      <th>126168</th>\n",
       "      <td>6.643856</td>\n",
       "      <td>NaN</td>\n",
       "      <td>NaN</td>\n",
       "      <td>0.000000</td>\n",
       "      <td>NaN</td>\n",
       "      <td>NaN</td>\n",
       "      <td>NaN</td>\n",
       "      <td>NaN</td>\n",
       "      <td>mse_bound</td>\n",
       "      <td>NaN</td>\n",
       "      <td>...</td>\n",
       "      <td>log10(0.5)</td>\n",
       "      <td>NaN</td>\n",
       "      <td>NaN</td>\n",
       "      <td>NaN</td>\n",
       "      <td>NaN</td>\n",
       "      <td>NaN</td>\n",
       "      <td>NaN</td>\n",
       "      <td>NaN</td>\n",
       "      <td>NaN</td>\n",
       "      <td>NaN</td>\n",
       "    </tr>\n",
       "    <tr>\n",
       "      <th>126169</th>\n",
       "      <td>6.643856</td>\n",
       "      <td>NaN</td>\n",
       "      <td>NaN</td>\n",
       "      <td>0.000000</td>\n",
       "      <td>NaN</td>\n",
       "      <td>NaN</td>\n",
       "      <td>NaN</td>\n",
       "      <td>NaN</td>\n",
       "      <td>mse_bound</td>\n",
       "      <td>NaN</td>\n",
       "      <td>...</td>\n",
       "      <td>log10(0.5)</td>\n",
       "      <td>NaN</td>\n",
       "      <td>NaN</td>\n",
       "      <td>NaN</td>\n",
       "      <td>NaN</td>\n",
       "      <td>NaN</td>\n",
       "      <td>NaN</td>\n",
       "      <td>NaN</td>\n",
       "      <td>NaN</td>\n",
       "      <td>NaN</td>\n",
       "    </tr>\n",
       "    <tr>\n",
       "      <th>126170</th>\n",
       "      <td>6.643856</td>\n",
       "      <td>NaN</td>\n",
       "      <td>NaN</td>\n",
       "      <td>0.000000</td>\n",
       "      <td>NaN</td>\n",
       "      <td>NaN</td>\n",
       "      <td>NaN</td>\n",
       "      <td>NaN</td>\n",
       "      <td>mse_bound</td>\n",
       "      <td>NaN</td>\n",
       "      <td>...</td>\n",
       "      <td>log10(0.5)</td>\n",
       "      <td>NaN</td>\n",
       "      <td>NaN</td>\n",
       "      <td>NaN</td>\n",
       "      <td>NaN</td>\n",
       "      <td>NaN</td>\n",
       "      <td>NaN</td>\n",
       "      <td>NaN</td>\n",
       "      <td>NaN</td>\n",
       "      <td>NaN</td>\n",
       "    </tr>\n",
       "  </tbody>\n",
       "</table>\n",
       "<p>12412 rows × 26 columns</p>\n",
       "</div>"
      ],
      "text/plain": [
       "        complexity  accuracy  distortion          mse gNID  eps  beta  run   \n",
       "107902    4.047786  3.789078   30.038460     6.261805  NaN  NaN   NaN  0.0  \\\n",
       "107903    5.778801  3.759523   36.599843  1670.969362  NaN  NaN   NaN  1.0   \n",
       "107904    3.518897  3.282841   31.377870   102.383946  NaN  NaN   NaN  1.0   \n",
       "107905    3.704640  3.491590   32.711405     9.397270  NaN  NaN   NaN  1.0   \n",
       "107906    3.734478  3.531539   33.211561     8.714549  NaN  NaN   NaN  1.0   \n",
       "...            ...       ...         ...          ...  ...  ...   ...  ...   \n",
       "126166    6.643856       NaN         NaN     0.000000  NaN  NaN   NaN  NaN   \n",
       "126167    6.643856       NaN         NaN     0.000000  NaN  NaN   NaN  NaN   \n",
       "126168    6.643856       NaN         NaN     0.000000  NaN  NaN   NaN  NaN   \n",
       "126169    6.643856       NaN         NaN     0.000000  NaN  NaN   NaN  NaN   \n",
       "126170    6.643856       NaN         NaN     0.000000  NaN  NaN   NaN  NaN   \n",
       "\n",
       "        point_type  round  ...  meaning_dist_gamma   \n",
       "107902  simulation    NaN  ...          log10(0.5)  \\\n",
       "107903  trajectory    1.0  ...          log10(0.5)   \n",
       "107904  trajectory    2.0  ...          log10(0.5)   \n",
       "107905  trajectory    3.0  ...          log10(0.5)   \n",
       "107906  trajectory    4.0  ...          log10(0.5)   \n",
       "...            ...    ...  ...                 ...   \n",
       "126166   mse_bound    NaN  ...          log10(0.5)   \n",
       "126167   mse_bound    NaN  ...          log10(0.5)   \n",
       "126168   mse_bound    NaN  ...          log10(0.5)   \n",
       "126169   mse_bound    NaN  ...          log10(0.5)   \n",
       "126170   mse_bound    NaN  ...          log10(0.5)   \n",
       "\n",
       "                               dynamics  imprecise_imitation_gamma   \n",
       "107902  imprecise_conditional_imitation                 log10(0.5)  \\\n",
       "107903  imprecise_conditional_imitation                 log10(0.5)   \n",
       "107904  imprecise_conditional_imitation                 log10(0.5)   \n",
       "107905  imprecise_conditional_imitation                 log10(0.5)   \n",
       "107906  imprecise_conditional_imitation                 log10(0.5)   \n",
       "...                                 ...                        ...   \n",
       "126166                              NaN                        NaN   \n",
       "126167                              NaN                        NaN   \n",
       "126168                              NaN                        NaN   \n",
       "126169                              NaN                        NaN   \n",
       "126170                              NaN                        NaN   \n",
       "\n",
       "        population_init_gamma seed   max_its sender_delta receiver_delta   \n",
       "107902                    2.0  0.0  100000.0     0.000120       0.000093  \\\n",
       "107903                    2.0  0.0  100000.0   178.318763     187.656723   \n",
       "107904                    2.0  0.0  100000.0    35.744327      61.944749   \n",
       "107905                    2.0  0.0  100000.0    14.007731      20.402434   \n",
       "107906                    2.0  0.0  100000.0     6.844681       9.549438   \n",
       "...                       ...  ...       ...          ...            ...   \n",
       "126166                    NaN  NaN       NaN          NaN            NaN   \n",
       "126167                    NaN  NaN       NaN          NaN            NaN   \n",
       "126168                    NaN  NaN       NaN          NaN            NaN   \n",
       "126169                    NaN  NaN       NaN          NaN            NaN   \n",
       "126170                    NaN  NaN       NaN          NaN            NaN   \n",
       "\n",
       "       min_epsilon  min_beta  \n",
       "107902    0.000182  1.451759  \n",
       "107903    0.738684  5.251156  \n",
       "107904    0.104301  1.212563  \n",
       "107905    0.044825  1.275879  \n",
       "107906    0.028100  1.289950  \n",
       "...            ...       ...  \n",
       "126166         NaN       NaN  \n",
       "126167         NaN       NaN  \n",
       "126168         NaN       NaN  \n",
       "126169         NaN       NaN  \n",
       "126170         NaN       NaN  \n",
       "\n",
       "[12412 rows x 26 columns]"
      ]
     },
     "execution_count": 450,
     "metadata": {},
     "output_type": "execute_result"
    }
   ],
   "source": [
    "df = get_df_subsetted_by_meaning_dists(df, config)\n",
    "df"
   ]
  },
  {
   "cell_type": "code",
   "execution_count": 451,
   "metadata": {},
   "outputs": [
    {
     "data": {
      "text/plain": [
       "discriminative_need_gamma\n",
       "log10(0.5)    1370\n",
       "0             1366\n",
       "1             1362\n",
       "2             1362\n",
       "-1            1359\n",
       "3             1359\n",
       "-2            1325\n",
       "-3            1319\n",
       "Name: count, dtype: int64"
      ]
     },
     "execution_count": 451,
     "metadata": {},
     "output_type": "execute_result"
    }
   ],
   "source": [
    "df[df[\"meaning_dist_gamma\"] == 'log10(0.5)'].discriminative_need_gamma.value_counts()"
   ]
  },
  {
   "cell_type": "markdown",
   "metadata": {},
   "source": [
    "todo: missing data might be because max_its gets overwritten, we don't actually organize folders hierarchically with it (maybe we should). So for now just plan on running all of those sims."
   ]
  },
  {
   "cell_type": "code",
   "execution_count": 452,
   "metadata": {},
   "outputs": [],
   "source": [
    "# Edge cases where discriminative_need_gamma and meaning_dist_gamma are str types\n",
    "for col in [\n",
    "    \"discriminative_need_gamma\",\n",
    "    \"meaning_dist_gamma\",\n",
    "    \"imprecise_imitation_gamma\",\n",
    "]:\n",
    "    df[col].replace(\"log10(0.5)\", np.log10(0.5), inplace=True)\n",
    "    df[col] = df[col].astype(float)"
   ]
  },
  {
   "cell_type": "markdown",
   "metadata": {},
   "source": [
    "Separate out observations into curves and simulation points"
   ]
  },
  {
   "cell_type": "code",
   "execution_count": 453,
   "metadata": {},
   "outputs": [],
   "source": [
    "df_final_points = df[df[\"point_type\"] == \"simulation\"]\n",
    "df_ib_bound = df[df[\"point_type\"] == \"ib_bound\"]\n",
    "df_mse_bound = df[df[\"point_type\"] == \"mse_bound\"]"
   ]
  },
  {
   "cell_type": "markdown",
   "metadata": {},
   "source": [
    "Transform log params"
   ]
  },
  {
   "cell_type": "code",
   "execution_count": 454,
   "metadata": {},
   "outputs": [],
   "source": [
    "df_final_points[\"discriminative_need_gamma\"] = 10 ** df_final_points[\"discriminative_need_gamma\"]\n",
    "df_final_points[\"imprecise_imitation_gamma\"] = 10 ** df_final_points[\"imprecise_imitation_gamma\"]"
   ]
  },
  {
   "cell_type": "markdown",
   "metadata": {},
   "source": [
    "Restrict dynamics"
   ]
  },
  {
   "cell_type": "code",
   "execution_count": 455,
   "metadata": {},
   "outputs": [],
   "source": [
    "df_final_points = df_final_points[df_final_points[\"dynamics\"] == \"imprecise_conditional_imitation\"]"
   ]
  },
  {
   "cell_type": "markdown",
   "metadata": {},
   "source": [
    "How does discriminative_need_gamma range?"
   ]
  },
  {
   "cell_type": "code",
   "execution_count": 456,
   "metadata": {},
   "outputs": [
    {
     "data": {
      "text/plain": [
       "array([1.e+00, 1.e+01, 1.e-01, 5.e-01, 1.e-03, 1.e+03, 1.e+02, 1.e-02])"
      ]
     },
     "execution_count": 456,
     "metadata": {},
     "output_type": "execute_result"
    }
   ],
   "source": [
    "df_final_points.discriminative_need_gamma.unique()"
   ]
  },
  {
   "cell_type": "code",
   "execution_count": 457,
   "metadata": {},
   "outputs": [
    {
     "data": {
      "text/plain": [
       "array([ 2.,  3., -1.,  1.,  0., -3., -2.])"
      ]
     },
     "execution_count": 457,
     "metadata": {},
     "output_type": "execute_result"
    }
   ],
   "source": [
    "# How does popuation init gamma range?\n",
    "df_final_points.population_init_gamma.unique()"
   ]
  },
  {
   "cell_type": "markdown",
   "metadata": {},
   "source": [
    "### Visualize"
   ]
  },
  {
   "cell_type": "code",
   "execution_count": 458,
   "metadata": {},
   "outputs": [],
   "source": [
    "# Make sure complexity max is np.log2(100)\n",
    "assert np.allclose(df_ib_bound.complexity.max().item(), np.log2(100))"
   ]
  },
  {
   "cell_type": "markdown",
   "metadata": {},
   "source": [
    "#### First visualize all data, across initializations and seeds"
   ]
  },
  {
   "cell_type": "code",
   "execution_count": 535,
   "metadata": {},
   "outputs": [
    {
     "name": "stderr",
     "output_type": "stream",
     "text": [
      "/Users/nathanielimel/miniforge3/envs/ibsg/lib/python3.10/site-packages/plotnine/geoms/geom_path.py:75: PlotnineWarning:\n",
      "\n",
      "geom_path: Removed 82 rows containing missing values.\n",
      "\n"
     ]
    },
    {
     "data": {
      "image/png": "[encoded data removed]",
      "text/plain": [
       "<Figure size 640x480 with 1 Axes>"
      ]
     },
     "metadata": {},
     "output_type": "display_data"
    },
    {
     "name": "stdout",
     "output_type": "stream",
     "text": [
      "\n"
     ]
    }
   ],
   "source": [
    "plot = (\n",
    "    # Set data and the axes\n",
    "    pn.ggplot(\n",
    "        data=df_ib_bound, mapping=pn.aes(x=\"complexity\", y=\"accuracy\")\n",
    "    )  \n",
    "    + pn.geom_line(size=3) # IB curve\n",
    "    + pn.geom_ribbon(\n",
    "    mapping=pn.aes(\n",
    "        x=\"complexity\",\n",
    "        ymin=\"accuracy\",\n",
    "        ymax=np.inf,\n",
    "        ),\n",
    "        fill=\"gray\",\n",
    "        alpha=0.3,\n",
    "    )\n",
    "    + pn.geom_point( # emergent langs\n",
    "        data=df_final_points,\n",
    "        mapping=pn.aes(\n",
    "            fill=\"discriminative_need_gamma\",\n",
    "            # fill=\"imprecise_imitation_gamma\",\n",
    "            ),\n",
    "        alpha=0.3,\n",
    "        size=10,\n",
    "    )\n",
    "    + pn.labs(fill=\"$\\\\gamma$ (pragmatic precision)\")\n",
    "    # + pn.labs(fill=\"$\\\\alpha$ (perceptual certainty)\")    \n",
    "    + pn.scale_fill_continuous(\n",
    "        trans = \"log10\",\n",
    "    )\n",
    "    + pn.xlim([0,np.log2(100)])\n",
    "    + pn.xlab(\"Complexity, $I(M;W)$ bits\")\n",
    "    + pn.ylab(\"Accuracy, $I(W;U)$ bits\")\n",
    "\n",
    "    + pn.theme_classic()\n",
    "    + pn.theme(\n",
    "        # Axis font\n",
    "        axis_title=pn.element_text(size=24),\n",
    "        axis_text=pn.element_text(size=12),\n",
    "        # Legend position\n",
    "        legend_position=(0.75, 0.31),\n",
    "        # legend_position='none',\n",
    "        legend_direction = \"vertical\",\n",
    "        # Legend box\n",
    "        legend_background=pn.element_rect(\n",
    "            fill=\"lightgrey\",\n",
    "            size=0.5, linetype=\"solid\", \n",
    "            color=\"darkblue\",\n",
    "        ),\n",
    "    )\n",
    "    # guide not working, maybe should just use R\n",
    "    + pn.guides(\n",
    "        fill = pn.guide_colorbar(\n",
    "            title_position = \"bottom\", \n",
    "            label_position = \"bottom\",\n",
    "            override_aes = {\"alpha\":0.8},\n",
    "            ),\n",
    "    ) \n",
    ")\n",
    "print(plot)"
   ]
  },
  {
   "cell_type": "markdown",
   "metadata": {},
   "source": [
    "#### Hack: mock viridis"
   ]
  },
  {
   "cell_type": "code",
   "execution_count": 460,
   "metadata": {},
   "outputs": [],
   "source": [
    "# https://waldyrious.net/viridis-palette-generator/\n",
    "fill_values_dict = {\n",
    "    str(k): v for k, v in {\n",
    "        \"0.001\": \"#440154\",\n",
    "        \"0.01\": \"#46327e\",\n",
    "        \"0.1\": \"#365c8d\",\n",
    "        \"0.5\": \"#277f8e\",\n",
    "        \"1.0\": \"#1fa187\",\n",
    "        \"10.0\": \"#4ac16d\",\n",
    "        \"100.0\" : \"#a0da39\",\n",
    "        \"1000.0\": \"#fde725\", \n",
    "    }.items() }"
   ]
  },
  {
   "cell_type": "code",
   "execution_count": 461,
   "metadata": {},
   "outputs": [
    {
     "data": {
      "text/html": [
       "<div>\n",
       "<style scoped>\n",
       "    .dataframe tbody tr th:only-of-type {\n",
       "        vertical-align: middle;\n",
       "    }\n",
       "\n",
       "    .dataframe tbody tr th {\n",
       "        vertical-align: top;\n",
       "    }\n",
       "\n",
       "    .dataframe thead th {\n",
       "        text-align: right;\n",
       "    }\n",
       "</style>\n",
       "<table border=\"1\" class=\"dataframe\">\n",
       "  <thead>\n",
       "    <tr style=\"text-align: right;\">\n",
       "      <th></th>\n",
       "      <th>complexity</th>\n",
       "      <th>accuracy</th>\n",
       "      <th>distortion</th>\n",
       "      <th>mse</th>\n",
       "      <th>gNID</th>\n",
       "      <th>eps</th>\n",
       "      <th>beta</th>\n",
       "      <th>run</th>\n",
       "      <th>point_type</th>\n",
       "      <th>round</th>\n",
       "      <th>...</th>\n",
       "      <th>meaning_dist_gamma</th>\n",
       "      <th>dynamics</th>\n",
       "      <th>imprecise_imitation_gamma</th>\n",
       "      <th>population_init_gamma</th>\n",
       "      <th>seed</th>\n",
       "      <th>max_its</th>\n",
       "      <th>sender_delta</th>\n",
       "      <th>receiver_delta</th>\n",
       "      <th>min_epsilon</th>\n",
       "      <th>min_beta</th>\n",
       "    </tr>\n",
       "  </thead>\n",
       "  <tbody>\n",
       "  </tbody>\n",
       "</table>\n",
       "<p>0 rows × 26 columns</p>\n",
       "</div>"
      ],
      "text/plain": [
       "Empty DataFrame\n",
       "Columns: [complexity, accuracy, distortion, mse, gNID, eps, beta, run, point_type, round, min_distance_to_curve, universe, prior, num_signals, distance, discriminative_need_gamma, meaning_dist_gamma, dynamics, imprecise_imitation_gamma, population_init_gamma, seed, max_its, sender_delta, receiver_delta, min_epsilon, min_beta]\n",
       "Index: []\n",
       "\n",
       "[0 rows x 26 columns]"
      ]
     },
     "execution_count": 461,
     "metadata": {},
     "output_type": "execute_result"
    }
   ],
   "source": [
    "# Double check no min_epsilons are negative\n",
    "df_final_points[df_final_points.min_epsilon < 0]"
   ]
  },
  {
   "cell_type": "markdown",
   "metadata": {},
   "source": [
    "#### Distribution of efficiency loss across converged emergent systems"
   ]
  },
  {
   "cell_type": "code",
   "execution_count": 480,
   "metadata": {},
   "outputs": [
    {
     "data": {
      "image/png": "[encoded data removed]",
      "text/plain": [
       "<Figure size 640x480 with 8 Axes>"
      ]
     },
     "metadata": {},
     "output_type": "display_data"
    },
    {
     "data": {
      "text/plain": [
       "<ggplot: (365915542)>"
      ]
     },
     "execution_count": 480,
     "metadata": {},
     "output_type": "execute_result"
    }
   ],
   "source": [
    "df_final_points_disc = df_final_points.copy()\n",
    "df_final_points_disc[\"discriminative_need_gamma\"] = df_final_points_disc[\"discriminative_need_gamma\"].astype(str)\n",
    "\n",
    "\n",
    "(\n",
    "    pn.ggplot(\n",
    "        df_final_points_disc,\n",
    "        pn.aes(\n",
    "            x=\"min_epsilon\",\n",
    "            # fill=\"discriminative_need_gamma\",\n",
    "            # fill=\"population_init_gamma\",\n",
    "        )\n",
    "    )\n",
    "    # + pn.scale_fill_manual(values = fill_values_dict)\n",
    "    # + pn.geom_density()\n",
    "    + pn.geom_histogram(binwidth=0.01)\n",
    "    + pn.scale_x_log10()\n",
    "    + pn.facet_wrap(\"discriminative_need_gamma\")\n",
    ")\n",
    "\n",
    "# Okay, so for the first random seed I picked, the distribution of efficiency loss is highly peaked. This makes some sense, because if we look at the the trajectories, all colors appear to converge to the same respective points on y-axis."
   ]
  },
  {
   "cell_type": "code",
   "execution_count": null,
   "metadata": {},
   "outputs": [],
   "source": [
    "import matplotlib.pyplot as plt\n",
    "\n",
    "# Plot gamma against eps\n",
    "\n",
    "(\n",
    "    pn.ggplot(\n",
    "        df_final_points,\n",
    "    )\n",
    ")"
   ]
  },
  {
   "cell_type": "markdown",
   "metadata": {},
   "source": [
    "#### Trajectories of efficiency loss"
   ]
  },
  {
   "cell_type": "markdown",
   "metadata": {},
   "source": [
    "Filter"
   ]
  },
  {
   "cell_type": "code",
   "execution_count": 464,
   "metadata": {},
   "outputs": [
    {
     "data": {
      "text/html": [
       "<div>\n",
       "<style scoped>\n",
       "    .dataframe tbody tr th:only-of-type {\n",
       "        vertical-align: middle;\n",
       "    }\n",
       "\n",
       "    .dataframe tbody tr th {\n",
       "        vertical-align: top;\n",
       "    }\n",
       "\n",
       "    .dataframe thead th {\n",
       "        text-align: right;\n",
       "    }\n",
       "</style>\n",
       "<table border=\"1\" class=\"dataframe\">\n",
       "  <thead>\n",
       "    <tr style=\"text-align: right;\">\n",
       "      <th></th>\n",
       "      <th>iteration</th>\n",
       "      <th>min_distance_to_curve</th>\n",
       "      <th>min_epsilon</th>\n",
       "      <th>min_beta</th>\n",
       "      <th>discriminative_need_gamma</th>\n",
       "      <th>population_init_gamma</th>\n",
       "      <th>complexity</th>\n",
       "      <th>accuracy</th>\n",
       "    </tr>\n",
       "  </thead>\n",
       "  <tbody>\n",
       "    <tr>\n",
       "      <th>107903</th>\n",
       "      <td>1.0</td>\n",
       "      <td>0.724207</td>\n",
       "      <td>0.738684</td>\n",
       "      <td>5.251156</td>\n",
       "      <td>1.0</td>\n",
       "      <td>100.00</td>\n",
       "      <td>5.778801</td>\n",
       "      <td>3.759523</td>\n",
       "    </tr>\n",
       "    <tr>\n",
       "      <th>107904</th>\n",
       "      <td>2.0</td>\n",
       "      <td>0.080288</td>\n",
       "      <td>0.104301</td>\n",
       "      <td>1.212563</td>\n",
       "      <td>1.0</td>\n",
       "      <td>100.00</td>\n",
       "      <td>3.518897</td>\n",
       "      <td>3.282841</td>\n",
       "    </tr>\n",
       "    <tr>\n",
       "      <th>107905</th>\n",
       "      <td>3.0</td>\n",
       "      <td>0.035434</td>\n",
       "      <td>0.044825</td>\n",
       "      <td>1.275879</td>\n",
       "      <td>1.0</td>\n",
       "      <td>100.00</td>\n",
       "      <td>3.704640</td>\n",
       "      <td>3.491590</td>\n",
       "    </tr>\n",
       "    <tr>\n",
       "      <th>107906</th>\n",
       "      <td>4.0</td>\n",
       "      <td>0.023078</td>\n",
       "      <td>0.028100</td>\n",
       "      <td>1.289950</td>\n",
       "      <td>1.0</td>\n",
       "      <td>100.00</td>\n",
       "      <td>3.734478</td>\n",
       "      <td>3.531539</td>\n",
       "    </tr>\n",
       "    <tr>\n",
       "      <th>107907</th>\n",
       "      <td>5.0</td>\n",
       "      <td>0.017995</td>\n",
       "      <td>0.022433</td>\n",
       "      <td>1.296985</td>\n",
       "      <td>1.0</td>\n",
       "      <td>100.00</td>\n",
       "      <td>3.746324</td>\n",
       "      <td>3.546369</td>\n",
       "    </tr>\n",
       "    <tr>\n",
       "      <th>...</th>\n",
       "      <td>...</td>\n",
       "      <td>...</td>\n",
       "      <td>...</td>\n",
       "      <td>...</td>\n",
       "      <td>...</td>\n",
       "      <td>...</td>\n",
       "      <td>...</td>\n",
       "      <td>...</td>\n",
       "    </tr>\n",
       "    <tr>\n",
       "      <th>118718</th>\n",
       "      <td>28480.0</td>\n",
       "      <td>0.001632</td>\n",
       "      <td>0.000029</td>\n",
       "      <td>1.097538</td>\n",
       "      <td>0.01</td>\n",
       "      <td>0.01</td>\n",
       "      <td>2.971871</td>\n",
       "      <td>2.910249</td>\n",
       "    </tr>\n",
       "    <tr>\n",
       "      <th>118719</th>\n",
       "      <td>30538.0</td>\n",
       "      <td>0.001632</td>\n",
       "      <td>0.000029</td>\n",
       "      <td>1.097538</td>\n",
       "      <td>0.01</td>\n",
       "      <td>0.01</td>\n",
       "      <td>2.971871</td>\n",
       "      <td>2.910248</td>\n",
       "    </tr>\n",
       "    <tr>\n",
       "      <th>118720</th>\n",
       "      <td>32745.0</td>\n",
       "      <td>0.001632</td>\n",
       "      <td>0.000029</td>\n",
       "      <td>1.097538</td>\n",
       "      <td>0.01</td>\n",
       "      <td>0.01</td>\n",
       "      <td>2.971871</td>\n",
       "      <td>2.910248</td>\n",
       "    </tr>\n",
       "    <tr>\n",
       "      <th>118721</th>\n",
       "      <td>35111.0</td>\n",
       "      <td>0.001633</td>\n",
       "      <td>0.000029</td>\n",
       "      <td>1.097538</td>\n",
       "      <td>0.01</td>\n",
       "      <td>0.01</td>\n",
       "      <td>2.971871</td>\n",
       "      <td>2.910248</td>\n",
       "    </tr>\n",
       "    <tr>\n",
       "      <th>118722</th>\n",
       "      <td>36035.0</td>\n",
       "      <td>0.001633</td>\n",
       "      <td>0.000029</td>\n",
       "      <td>1.097538</td>\n",
       "      <td>0.01</td>\n",
       "      <td>0.01</td>\n",
       "      <td>2.971871</td>\n",
       "      <td>2.910248</td>\n",
       "    </tr>\n",
       "  </tbody>\n",
       "</table>\n",
       "<p>10710 rows × 8 columns</p>\n",
       "</div>"
      ],
      "text/plain": [
       "        iteration  min_distance_to_curve  min_epsilon  min_beta   \n",
       "107903        1.0               0.724207     0.738684  5.251156  \\\n",
       "107904        2.0               0.080288     0.104301  1.212563   \n",
       "107905        3.0               0.035434     0.044825  1.275879   \n",
       "107906        4.0               0.023078     0.028100  1.289950   \n",
       "107907        5.0               0.017995     0.022433  1.296985   \n",
       "...           ...                    ...          ...       ...   \n",
       "118718    28480.0               0.001632     0.000029  1.097538   \n",
       "118719    30538.0               0.001632     0.000029  1.097538   \n",
       "118720    32745.0               0.001632     0.000029  1.097538   \n",
       "118721    35111.0               0.001633     0.000029  1.097538   \n",
       "118722    36035.0               0.001633     0.000029  1.097538   \n",
       "\n",
       "       discriminative_need_gamma  population_init_gamma  complexity  accuracy  \n",
       "107903                       1.0                 100.00    5.778801  3.759523  \n",
       "107904                       1.0                 100.00    3.518897  3.282841  \n",
       "107905                       1.0                 100.00    3.704640  3.491590  \n",
       "107906                       1.0                 100.00    3.734478  3.531539  \n",
       "107907                       1.0                 100.00    3.746324  3.546369  \n",
       "...                          ...                    ...         ...       ...  \n",
       "118718                      0.01                   0.01    2.971871  2.910249  \n",
       "118719                      0.01                   0.01    2.971871  2.910248  \n",
       "118720                      0.01                   0.01    2.971871  2.910248  \n",
       "118721                      0.01                   0.01    2.971871  2.910248  \n",
       "118722                      0.01                   0.01    2.971871  2.910248  \n",
       "\n",
       "[10710 rows x 8 columns]"
      ]
     },
     "execution_count": 464,
     "metadata": {},
     "output_type": "execute_result"
    }
   ],
   "source": [
    "gamma = 'discriminative_need_gamma'\n",
    "\n",
    "df_traj_points = df[df[\"point_type\"] == \"trajectory\"]\n",
    "df_traj_points[\"iteration\"] = df_traj_points[\"round\"]\n",
    "\n",
    "df_traj_analysis = df_traj_points.copy()\n",
    "\n",
    "df_traj_analysis = df_traj_analysis[[\"iteration\", \"min_distance_to_curve\", \"min_epsilon\", \"min_beta\", gamma, \"population_init_gamma\", \"complexity\", \"accuracy\"]]\n",
    "\n",
    "df_traj_analysis[gamma] = 10 ** df_traj_analysis[gamma]\n",
    "df_traj_analysis[\"population_init_gamma\"] = 10 ** df_traj_analysis[\"population_init_gamma\"]\n",
    "\n",
    "df_traj_analysis[\"discriminative_need_gamma\"] = df_traj_analysis[\"discriminative_need_gamma\"].astype(str)\n",
    "\n",
    "df_traj_analysis"
   ]
  },
  {
   "cell_type": "code",
   "execution_count": 465,
   "metadata": {},
   "outputs": [
    {
     "data": {
      "text/plain": [
       "100000.0"
      ]
     },
     "execution_count": 465,
     "metadata": {},
     "output_type": "execute_result"
    }
   ],
   "source": [
    "# Ensure iteration max is the same as max_its specified by game config\n",
    "df_traj_analysis.iteration.max()"
   ]
  },
  {
   "cell_type": "code",
   "execution_count": 538,
   "metadata": {},
   "outputs": [
    {
     "name": "stderr",
     "output_type": "stream",
     "text": [
      "/Users/nathanielimel/miniforge3/envs/ibsg/lib/python3.10/site-packages/plotnine/layer.py:411: PlotnineWarning:\n",
      "\n",
      "geom_point : Removed 1006 rows containing missing values.\n",
      "\n"
     ]
    },
    {
     "data": {
      "image/png": "[encoded data removed]",
      "text/plain": [
       "<Figure size 640x480 with 1 Axes>"
      ]
     },
     "metadata": {},
     "output_type": "display_data"
    },
    {
     "name": "stdout",
     "output_type": "stream",
     "text": [
      "\n"
     ]
    }
   ],
   "source": [
    "plot = (\n",
    "    pn.ggplot(\n",
    "        df_traj_analysis[df_traj_analysis[\"discriminative_need_gamma\"] == '0.5'],\n",
    "        # df_traj_analysis,\n",
    "        pn.aes(\n",
    "            x=\"iteration\", \n",
    "            y=\"min_epsilon\", \n",
    "            # color=\"discriminative_need_gamma\",\n",
    "            color=\"population_init_gamma\",\n",
    "        ),\n",
    "    )\n",
    "    + pn.geom_point(\n",
    "        pn.aes(\n",
    "            \n",
    "        ),\n",
    "        size=0.5,\n",
    "        alpha=0.8,\n",
    "        )\n",
    "    # + pn.geom_line()\n",
    "    # + pn.scale_color_manual(values = fill_values_dict)\n",
    "    # + pn.labs(color=\"$\\\\gamma$ (pragmatic precision)\")    \n",
    "    + pn.xlab(\"Evolution step\")\n",
    "    + pn.ylab(\"Efficiency loss\")\n",
    "    + pn.theme(\n",
    "        # Axis font\n",
    "        axis_title=pn.element_text(size=18),\n",
    "        axis_text=pn.element_text(size=12),\n",
    "        # Legend position\n",
    "        # legend_position=(0.7, 0.6),\n",
    "        legend_position='none',\n",
    "        legend_direction = \"vertical\",\n",
    "        # Legend box\n",
    "        legend_background=pn.element_rect(\n",
    "            fill=\"lightgrey\",\n",
    "            size=0.5, linetype=\"solid\", \n",
    "            color=\"darkblue\",\n",
    "        ),\n",
    "    )\n",
    "    # + pn.guides(\n",
    "    #     color = pn.guide_colorbar(\n",
    "    #         title_position = \"bottom\", \n",
    "    #         label_position = \"bottom\",\n",
    "    #         override_aes = {\"alpha\":0.8},\n",
    "    #         ),\n",
    "    # )\n",
    "    + pn.scale_y_continuous(\n",
    "        trans='log10', \n",
    "        # limits=[1e-5, 0.1],\n",
    "    )\n",
    "    # + pn.ylim(0,0.1)\n",
    "    + pn.xlim(0,50)\n",
    "    + pn.scale_color_continuous(trans = 'log10')\n",
    "    # + pn.scale_x_log10()\n",
    "    # + pn.facet_grid(\"population_init_gamma ~ discriminative_need_gamma\")\n",
    "    # + pn.facet_wrap(\"population_init_gamma\")\n",
    ")\n",
    "print(plot)"
   ]
  },
  {
   "cell_type": "markdown",
   "metadata": {},
   "source": [
    "#### Visualize parameter sweep with parcoord plot"
   ]
  },
  {
   "cell_type": "code",
   "execution_count": 519,
   "metadata": {},
   "outputs": [
    {
     "data": {
      "application/vnd.plotly.v1+json": {
       "config": {
        "plotlyServerURL": "https://plot.ly"
       },
       "data": [
        {
         "dimensions": [
          {
           "label": "(Log) Initialization Energy",
           "values": [
            2,
            3,
            -1,
            1,
            0,
            -3,
            -2,
            2,
            3,
            -1,
            1,
            0,
            -3,
            -2,
            2,
            3,
            -1,
            1,
            0,
            -3,
            -2,
            2,
            3,
            -1,
            1,
            0,
            -3,
            -2,
            2,
            3,
            -1,
            1,
            0,
            -3,
            -2,
            2,
            3,
            -1,
            1,
            0,
            -3,
            -2,
            2,
            3,
            -1,
            1,
            0,
            -3,
            -2,
            2,
            3,
            -1,
            1,
            0,
            -3,
            -2
           ]
          },
          {
           "label": "(Log) Discriminative Need",
           "values": [
            0,
            0,
            0,
            0,
            0,
            0,
            0,
            1,
            1,
            1,
            1,
            1,
            1,
            1,
            -1,
            -1,
            -1,
            -1,
            -1,
            -1,
            -1,
            -0.3010299956639812,
            -0.3010299956639812,
            -0.3010299956639812,
            -0.3010299956639812,
            -0.3010299956639812,
            -0.3010299956639812,
            -0.3010299956639812,
            -3,
            -3,
            -3,
            -3,
            -3,
            -3,
            -3,
            3,
            3,
            3,
            3,
            3,
            3,
            3,
            2,
            2,
            2,
            2,
            2,
            2,
            2,
            -2,
            -2,
            -2,
            -2,
            -2,
            -2,
            -2
           ]
          },
          {
           "label": "seed",
           "values": [
            0,
            0,
            0,
            0,
            0,
            0,
            0,
            0,
            0,
            0,
            0,
            0,
            0,
            0,
            0,
            0,
            0,
            0,
            0,
            0,
            0,
            0,
            0,
            0,
            0,
            0,
            0,
            0,
            0,
            0,
            0,
            0,
            0,
            0,
            0,
            0,
            0,
            0,
            0,
            0,
            0,
            0,
            0,
            0,
            0,
            0,
            0,
            0,
            0,
            0,
            0,
            0,
            0,
            0,
            0,
            0
           ]
          }
         ],
         "domain": {
          "x": [
           0,
           1
          ],
          "y": [
           0,
           1
          ]
         },
         "line": {
          "color": [
           -3.739831534164886,
           -3.7392823831920343,
           -3.739626277369798,
           -3.739649175537501,
           -3.739582158055129,
           -3.7396470686070757,
           -3.7396765240988517,
           -3.504272907514628,
           -3.501629573550263,
           -3.5042584801333803,
           -3.504169729417538,
           -3.5041947181217923,
           -3.5042742796757103,
           -3.5041837706645445,
           -4.619691023036591,
           -4.622044149263013,
           -4.620445292651303,
           -4.620187198811147,
           -4.620668052106928,
           -4.621068046344057,
           -4.620762468338579,
           -3.9044520221402514,
           -3.904064756243569,
           -3.9048325935839836,
           -3.9047511304180125,
           -3.9047906804953625,
           -3.904811941650524,
           -3.9049420691309686,
           -4.576819081063351,
           -4.5763323715699835,
           -4.576981764120203,
           -4.576137414671791,
           -4.576933966952768,
           -4.576884729150027,
           -4.576930791928128,
           -3.5042543293683592,
           -3.483773736242299,
           -3.504137332675096,
           -3.504148105591025,
           -3.504152737635461,
           -3.5041726981660513,
           -3.5041022442704604,
           -3.5040317283173783,
           -3.4989980917649257,
           -3.5041652123747484,
           -3.504184241975431,
           -3.504126625934246,
           -3.5041572623824813,
           -3.5041909331941756,
           -4.53605361805083,
           -4.537133497516333,
           -4.536277331027617,
           -4.536920431747833,
           -4.53641259855368,
           -4.536067815330694,
           -4.53623548168957
          ],
          "coloraxis": "coloraxis"
         },
         "name": "",
         "type": "parcoords"
        }
       ],
       "layout": {
        "coloraxis": {
         "colorbar": {
          "title": {
           "text": "(Log) Efficiency Loss"
          }
         },
         "colorscale": [
          [
           0,
           "#0d0887"
          ],
          [
           0.1111111111111111,
           "#46039f"
          ],
          [
           0.2222222222222222,
           "#7201a8"
          ],
          [
           0.3333333333333333,
           "#9c179e"
          ],
          [
           0.4444444444444444,
           "#bd3786"
          ],
          [
           0.5555555555555556,
           "#d8576b"
          ],
          [
           0.6666666666666666,
           "#ed7953"
          ],
          [
           0.7777777777777778,
           "#fb9f3a"
          ],
          [
           0.8888888888888888,
           "#fdca26"
          ],
          [
           1,
           "#f0f921"
          ]
         ]
        },
        "legend": {
         "tracegroupgap": 0
        },
        "margin": {
         "t": 60
        },
        "template": {
         "data": {
          "bar": [
           {
            "error_x": {
             "color": "#2a3f5f"
            },
            "error_y": {
             "color": "#2a3f5f"
            },
            "marker": {
             "line": {
              "color": "#E5ECF6",
              "width": 0.5
             },
             "pattern": {
              "fillmode": "overlay",
              "size": 10,
              "solidity": 0.2
             }
            },
            "type": "bar"
           }
          ],
          "barpolar": [
           {
            "marker": {
             "line": {
              "color": "#E5ECF6",
              "width": 0.5
             },
             "pattern": {
              "fillmode": "overlay",
              "size": 10,
              "solidity": 0.2
             }
            },
            "type": "barpolar"
           }
          ],
          "carpet": [
           {
            "aaxis": {
             "endlinecolor": "#2a3f5f",
             "gridcolor": "white",
             "linecolor": "white",
             "minorgridcolor": "white",
             "startlinecolor": "#2a3f5f"
            },
            "baxis": {
             "endlinecolor": "#2a3f5f",
             "gridcolor": "white",
             "linecolor": "white",
             "minorgridcolor": "white",
             "startlinecolor": "#2a3f5f"
            },
            "type": "carpet"
           }
          ],
          "choropleth": [
           {
            "colorbar": {
             "outlinewidth": 0,
             "ticks": ""
            },
            "type": "choropleth"
           }
          ],
          "contour": [
           {
            "colorbar": {
             "outlinewidth": 0,
             "ticks": ""
            },
            "colorscale": [
             [
              0,
              "#0d0887"
             ],
             [
              0.1111111111111111,
              "#46039f"
             ],
             [
              0.2222222222222222,
              "#7201a8"
             ],
             [
              0.3333333333333333,
              "#9c179e"
             ],
             [
              0.4444444444444444,
              "#bd3786"
             ],
             [
              0.5555555555555556,
              "#d8576b"
             ],
             [
              0.6666666666666666,
              "#ed7953"
             ],
             [
              0.7777777777777778,
              "#fb9f3a"
             ],
             [
              0.8888888888888888,
              "#fdca26"
             ],
             [
              1,
              "#f0f921"
             ]
            ],
            "type": "contour"
           }
          ],
          "contourcarpet": [
           {
            "colorbar": {
             "outlinewidth": 0,
             "ticks": ""
            },
            "type": "contourcarpet"
           }
          ],
          "heatmap": [
           {
            "colorbar": {
             "outlinewidth": 0,
             "ticks": ""
            },
            "colorscale": [
             [
              0,
              "#0d0887"
             ],
             [
              0.1111111111111111,
              "#46039f"
             ],
             [
              0.2222222222222222,
              "#7201a8"
             ],
             [
              0.3333333333333333,
              "#9c179e"
             ],
             [
              0.4444444444444444,
              "#bd3786"
             ],
             [
              0.5555555555555556,
              "#d8576b"
             ],
             [
              0.6666666666666666,
              "#ed7953"
             ],
             [
              0.7777777777777778,
              "#fb9f3a"
             ],
             [
              0.8888888888888888,
              "#fdca26"
             ],
             [
              1,
              "#f0f921"
             ]
            ],
            "type": "heatmap"
           }
          ],
          "heatmapgl": [
           {
            "colorbar": {
             "outlinewidth": 0,
             "ticks": ""
            },
            "colorscale": [
             [
              0,
              "#0d0887"
             ],
             [
              0.1111111111111111,
              "#46039f"
             ],
             [
              0.2222222222222222,
              "#7201a8"
             ],
             [
              0.3333333333333333,
              "#9c179e"
             ],
             [
              0.4444444444444444,
              "#bd3786"
             ],
             [
              0.5555555555555556,
              "#d8576b"
             ],
             [
              0.6666666666666666,
              "#ed7953"
             ],
             [
              0.7777777777777778,
              "#fb9f3a"
             ],
             [
              0.8888888888888888,
              "#fdca26"
             ],
             [
              1,
              "#f0f921"
             ]
            ],
            "type": "heatmapgl"
           }
          ],
          "histogram": [
           {
            "marker": {
             "pattern": {
              "fillmode": "overlay",
              "size": 10,
              "solidity": 0.2
             }
            },
            "type": "histogram"
           }
          ],
          "histogram2d": [
           {
            "colorbar": {
             "outlinewidth": 0,
             "ticks": ""
            },
            "colorscale": [
             [
              0,
              "#0d0887"
             ],
             [
              0.1111111111111111,
              "#46039f"
             ],
             [
              0.2222222222222222,
              "#7201a8"
             ],
             [
              0.3333333333333333,
              "#9c179e"
             ],
             [
              0.4444444444444444,
              "#bd3786"
             ],
             [
              0.5555555555555556,
              "#d8576b"
             ],
             [
              0.6666666666666666,
              "#ed7953"
             ],
             [
              0.7777777777777778,
              "#fb9f3a"
             ],
             [
              0.8888888888888888,
              "#fdca26"
             ],
             [
              1,
              "#f0f921"
             ]
            ],
            "type": "histogram2d"
           }
          ],
          "histogram2dcontour": [
           {
            "colorbar": {
             "outlinewidth": 0,
             "ticks": ""
            },
            "colorscale": [
             [
              0,
              "#0d0887"
             ],
             [
              0.1111111111111111,
              "#46039f"
             ],
             [
              0.2222222222222222,
              "#7201a8"
             ],
             [
              0.3333333333333333,
              "#9c179e"
             ],
             [
              0.4444444444444444,
              "#bd3786"
             ],
             [
              0.5555555555555556,
              "#d8576b"
             ],
             [
              0.6666666666666666,
              "#ed7953"
             ],
             [
              0.7777777777777778,
              "#fb9f3a"
             ],
             [
              0.8888888888888888,
              "#fdca26"
             ],
             [
              1,
              "#f0f921"
             ]
            ],
            "type": "histogram2dcontour"
           }
          ],
          "mesh3d": [
           {
            "colorbar": {
             "outlinewidth": 0,
             "ticks": ""
            },
            "type": "mesh3d"
           }
          ],
          "parcoords": [
           {
            "line": {
             "colorbar": {
              "outlinewidth": 0,
              "ticks": ""
             }
            },
            "type": "parcoords"
           }
          ],
          "pie": [
           {
            "automargin": true,
            "type": "pie"
           }
          ],
          "scatter": [
           {
            "fillpattern": {
             "fillmode": "overlay",
             "size": 10,
             "solidity": 0.2
            },
            "type": "scatter"
           }
          ],
          "scatter3d": [
           {
            "line": {
             "colorbar": {
              "outlinewidth": 0,
              "ticks": ""
             }
            },
            "marker": {
             "colorbar": {
              "outlinewidth": 0,
              "ticks": ""
             }
            },
            "type": "scatter3d"
           }
          ],
          "scattercarpet": [
           {
            "marker": {
             "colorbar": {
              "outlinewidth": 0,
              "ticks": ""
             }
            },
            "type": "scattercarpet"
           }
          ],
          "scattergeo": [
           {
            "marker": {
             "colorbar": {
              "outlinewidth": 0,
              "ticks": ""
             }
            },
            "type": "scattergeo"
           }
          ],
          "scattergl": [
           {
            "marker": {
             "colorbar": {
              "outlinewidth": 0,
              "ticks": ""
             }
            },
            "type": "scattergl"
           }
          ],
          "scattermapbox": [
           {
            "marker": {
             "colorbar": {
              "outlinewidth": 0,
              "ticks": ""
             }
            },
            "type": "scattermapbox"
           }
          ],
          "scatterpolar": [
           {
            "marker": {
             "colorbar": {
              "outlinewidth": 0,
              "ticks": ""
             }
            },
            "type": "scatterpolar"
           }
          ],
          "scatterpolargl": [
           {
            "marker": {
             "colorbar": {
              "outlinewidth": 0,
              "ticks": ""
             }
            },
            "type": "scatterpolargl"
           }
          ],
          "scatterternary": [
           {
            "marker": {
             "colorbar": {
              "outlinewidth": 0,
              "ticks": ""
             }
            },
            "type": "scatterternary"
           }
          ],
          "surface": [
           {
            "colorbar": {
             "outlinewidth": 0,
             "ticks": ""
            },
            "colorscale": [
             [
              0,
              "#0d0887"
             ],
             [
              0.1111111111111111,
              "#46039f"
             ],
             [
              0.2222222222222222,
              "#7201a8"
             ],
             [
              0.3333333333333333,
              "#9c179e"
             ],
             [
              0.4444444444444444,
              "#bd3786"
             ],
             [
              0.5555555555555556,
              "#d8576b"
             ],
             [
              0.6666666666666666,
              "#ed7953"
             ],
             [
              0.7777777777777778,
              "#fb9f3a"
             ],
             [
              0.8888888888888888,
              "#fdca26"
             ],
             [
              1,
              "#f0f921"
             ]
            ],
            "type": "surface"
           }
          ],
          "table": [
           {
            "cells": {
             "fill": {
              "color": "#EBF0F8"
             },
             "line": {
              "color": "white"
             }
            },
            "header": {
             "fill": {
              "color": "#C8D4E3"
             },
             "line": {
              "color": "white"
             }
            },
            "type": "table"
           }
          ]
         },
         "layout": {
          "annotationdefaults": {
           "arrowcolor": "#2a3f5f",
           "arrowhead": 0,
           "arrowwidth": 1
          },
          "autotypenumbers": "strict",
          "coloraxis": {
           "colorbar": {
            "outlinewidth": 0,
            "ticks": ""
           }
          },
          "colorscale": {
           "diverging": [
            [
             0,
             "#8e0152"
            ],
            [
             0.1,
             "#c51b7d"
            ],
            [
             0.2,
             "#de77ae"
            ],
            [
             0.3,
             "#f1b6da"
            ],
            [
             0.4,
             "#fde0ef"
            ],
            [
             0.5,
             "#f7f7f7"
            ],
            [
             0.6,
             "#e6f5d0"
            ],
            [
             0.7,
             "#b8e186"
            ],
            [
             0.8,
             "#7fbc41"
            ],
            [
             0.9,
             "#4d9221"
            ],
            [
             1,
             "#276419"
            ]
           ],
           "sequential": [
            [
             0,
             "#0d0887"
            ],
            [
             0.1111111111111111,
             "#46039f"
            ],
            [
             0.2222222222222222,
             "#7201a8"
            ],
            [
             0.3333333333333333,
             "#9c179e"
            ],
            [
             0.4444444444444444,
             "#bd3786"
            ],
            [
             0.5555555555555556,
             "#d8576b"
            ],
            [
             0.6666666666666666,
             "#ed7953"
            ],
            [
             0.7777777777777778,
             "#fb9f3a"
            ],
            [
             0.8888888888888888,
             "#fdca26"
            ],
            [
             1,
             "#f0f921"
            ]
           ],
           "sequentialminus": [
            [
             0,
             "#0d0887"
            ],
            [
             0.1111111111111111,
             "#46039f"
            ],
            [
             0.2222222222222222,
             "#7201a8"
            ],
            [
             0.3333333333333333,
             "#9c179e"
            ],
            [
             0.4444444444444444,
             "#bd3786"
            ],
            [
             0.5555555555555556,
             "#d8576b"
            ],
            [
             0.6666666666666666,
             "#ed7953"
            ],
            [
             0.7777777777777778,
             "#fb9f3a"
            ],
            [
             0.8888888888888888,
             "#fdca26"
            ],
            [
             1,
             "#f0f921"
            ]
           ]
          },
          "colorway": [
           "#636efa",
           "#EF553B",
           "#00cc96",
           "#ab63fa",
           "#FFA15A",
           "#19d3f3",
           "#FF6692",
           "#B6E880",
           "#FF97FF",
           "#FECB52"
          ],
          "font": {
           "color": "#2a3f5f"
          },
          "geo": {
           "bgcolor": "white",
           "lakecolor": "white",
           "landcolor": "#E5ECF6",
           "showlakes": true,
           "showland": true,
           "subunitcolor": "white"
          },
          "hoverlabel": {
           "align": "left"
          },
          "hovermode": "closest",
          "mapbox": {
           "style": "light"
          },
          "paper_bgcolor": "white",
          "plot_bgcolor": "#E5ECF6",
          "polar": {
           "angularaxis": {
            "gridcolor": "white",
            "linecolor": "white",
            "ticks": ""
           },
           "bgcolor": "#E5ECF6",
           "radialaxis": {
            "gridcolor": "white",
            "linecolor": "white",
            "ticks": ""
           }
          },
          "scene": {
           "xaxis": {
            "backgroundcolor": "#E5ECF6",
            "gridcolor": "white",
            "gridwidth": 2,
            "linecolor": "white",
            "showbackground": true,
            "ticks": "",
            "zerolinecolor": "white"
           },
           "yaxis": {
            "backgroundcolor": "#E5ECF6",
            "gridcolor": "white",
            "gridwidth": 2,
            "linecolor": "white",
            "showbackground": true,
            "ticks": "",
            "zerolinecolor": "white"
           },
           "zaxis": {
            "backgroundcolor": "#E5ECF6",
            "gridcolor": "white",
            "gridwidth": 2,
            "linecolor": "white",
            "showbackground": true,
            "ticks": "",
            "zerolinecolor": "white"
           }
          },
          "shapedefaults": {
           "line": {
            "color": "#2a3f5f"
           }
          },
          "ternary": {
           "aaxis": {
            "gridcolor": "white",
            "linecolor": "white",
            "ticks": ""
           },
           "baxis": {
            "gridcolor": "white",
            "linecolor": "white",
            "ticks": ""
           },
           "bgcolor": "#E5ECF6",
           "caxis": {
            "gridcolor": "white",
            "linecolor": "white",
            "ticks": ""
           }
          },
          "title": {
           "x": 0.05
          },
          "xaxis": {
           "automargin": true,
           "gridcolor": "white",
           "linecolor": "white",
           "ticks": "",
           "title": {
            "standoff": 15
           },
           "zerolinecolor": "white",
           "zerolinewidth": 2
          },
          "yaxis": {
           "automargin": true,
           "gridcolor": "white",
           "linecolor": "white",
           "ticks": "",
           "title": {
            "standoff": 15
           },
           "zerolinecolor": "white",
           "zerolinewidth": 2
          }
         }
        }
       }
      }
     },
     "metadata": {},
     "output_type": "display_data"
    }
   ],
   "source": [
    "import plotly.express as px\n",
    "\n",
    "parallel_data = df_final_points.copy()\n",
    "\n",
    "parallel_data[\"discriminative_need_gamma\"] = np.log10(parallel_data[\"discriminative_need_gamma\"])\n",
    "\n",
    "parallel_data[\"log_eps\"] = np.log10(parallel_data[\"min_epsilon\"])\n",
    "\n",
    "fig = px.parallel_coordinates(\n",
    "    data_frame=parallel_data, \n",
    "    dimensions=[\n",
    "        \"population_init_gamma\",\n",
    "        \"discriminative_need_gamma\",\n",
    "        \"seed\",\n",
    "        ],\n",
    "    # color=\"min_epsilon\",\n",
    "    color=\"log_eps\",\n",
    "    # color=\"efficiency\",\n",
    "    labels={\n",
    "        \"population_init_gamma\": \"(Log) Initialization Energy\",\n",
    "        \"discriminative_need_gamma\":\"(Log) Discriminative Need\",\n",
    "        # \"min_epsilon\": \"Efficiency Loss\",\n",
    "        \"log_eps\": \"(Log) Efficiency Loss\",\n",
    "        },\n",
    "    # color_continuous_scale='viridis',\n",
    ")\n",
    "fig.show()"
   ]
  }
 ],
 "metadata": {
  "kernelspec": {
   "display_name": "ibsg",
   "language": "python",
   "name": "python3"
  },
  "language_info": {
   "codemirror_mode": {
    "name": "ipython",
    "version": 3
   },
   "file_extension": ".py",
   "mimetype": "text/x-python",
   "name": "python",
   "nbconvert_exporter": "python",
   "pygments_lexer": "ipython3",
   "version": "3.10.13"
  }
 },
 "nbformat": 4,
 "nbformat_minor": 2
}
