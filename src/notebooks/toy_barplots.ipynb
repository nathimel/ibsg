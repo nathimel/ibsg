{
 "cells": [
  {
   "cell_type": "code",
   "execution_count": 10,
   "metadata": {},
   "outputs": [],
   "source": [
    "import numpy as np\n",
    "import plotnine as pn\n",
    "import pandas as pd\n",
    "import matplotlib.pyplot as plt"
   ]
  },
  {
   "cell_type": "code",
   "execution_count": 17,
   "metadata": {},
   "outputs": [],
   "source": [
    "from scipy.special import softmax\n",
    "\n",
    "def random_stochastic_matrix(shape: tuple[int], beta: float = 1e-2):\n",
    "    \"\"\"Generate a random stochastic matrix using energy-based initialization, where lower `beta` -> more uniform initialization.\"\"\"\n",
    "    energies = beta * np.random.randn(*shape)\n",
    "    return softmax(energies, axis=-1)"
   ]
  },
  {
   "cell_type": "code",
   "execution_count": null,
   "metadata": {},
   "outputs": [
    {
     "data": {
      "image/png": "[encoded data removed]",
      "text/plain": [
       "<Figure size 640x480 with 1 Axes>"
      ]
     },
     "metadata": {},
     "output_type": "display_data"
    }
   ],
   "source": [
    "import numpy as np\n",
    "import matplotlib.pyplot as plt\n",
    "\n",
    "\n",
    "# Define the discrete types (labels)\n",
    "types = [f\"{i+1}\" for i in range(10)]\n",
    "\n",
    "# Generate a random vector of size 1000, choosing among the 10 types\n",
    "# random_vector = np.random.choice(types, size=100)\n",
    "\n",
    "p = random_stochastic_matrix((10,), beta=1e-1)\n",
    "# p = np.array( [0.]*7 + [1.]  + [0.]*2 ) + 1e-3\n",
    "# p = np.zeros(10)\n",
    "# p[np.arange(5)] = 1.\n",
    "# p[np.arange(5,10)] = 10.\n",
    "# p[np.array((3,5,7,))] = .5\n",
    "p[3] = 1\n",
    "p[5] = 2.5\n",
    "p[7] = 2\n",
    "# p += 1e-3\n",
    "# p += random_stochastic_matrix((10,), beta=9e-1)\n",
    "# p /= p.sum()\n",
    "random_vector = np.random.choice(a=types, size=100000, p=p)\n",
    "\n",
    "# Calculate the frequency of each type\n",
    "unique, counts = np.unique(random_vector, return_counts=True)\n",
    "\n",
    "# Sort the types numerically\n",
    "sorted_indices = np.argsort([int(label) for label in unique])\n",
    "unique_sorted = unique[sorted_indices]\n",
    "counts_sorted = counts[sorted_indices]\n",
    "frequencies = counts_sorted / counts_sorted.sum()  # Normalize to get probabilities\n",
    "\n",
    "plt.rcParams.update({'font.size': 14}) \n",
    "# Plot the frequencies as a bar plot\n",
    "plt.bar(unique_sorted, frequencies, color='skyblue', edgecolor='black')\n",
    "plt.xlabel(\"Type\")\n",
    "plt.ylabel(\"Frequency\")\n",
    "plt.ylim(0, 1)\n",
    "plt.yticks([0, 1], labels=[\"0\", \"1\"])\n",
    "plt.show()\n"
   ]
  }
 ],
 "metadata": {
  "kernelspec": {
   "display_name": "ibsg",
   "language": "python",
   "name": "python3"
  },
  "language_info": {
   "codemirror_mode": {
    "name": "ipython",
    "version": 3
   },
   "file_extension": ".py",
   "mimetype": "text/x-python",
   "name": "python",
   "nbconvert_exporter": "python",
   "pygments_lexer": "ipython3",
   "version": "3.10.13"
  }
 },
 "nbformat": 4,
 "nbformat_minor": 2
}
