{
 "cells": [
  {
   "cell_type": "code",
   "execution_count": 1,
   "metadata": {},
   "outputs": [],
   "source": [
    "import os\n",
    "import hydra\n",
    "from omegaconf import OmegaConf"
   ]
  },
  {
   "cell_type": "code",
   "execution_count": 6,
   "metadata": {},
   "outputs": [
    {
     "name": "stdout",
     "output_type": "stream",
     "text": [
      "{'game': {'num_states': 10, 'num_signals': 10, 'distance': 'squared_dist', 'discriminative_need_beta': 1, 'meaning_dist_beta': 0, 'prior_init_beta': -8, 'maxbeta': 5, 'minbeta': -2, 'numbeta': 1500, 'num_processes': None}, 'simulation': {'dynamics': {'name': 'two_population_rd', 'max_its': 200, 'threshold': 1e-05, 'population_size': None, 'graph_beta': None, 'population_init_minbeta': -2, 'population_init_maxbeta': 5}, 'use_decoder': False, 'num_trials': 8, 'trajectory': False, 'multiprocessing': True, 'num_processes': None}, 'seed': 42, 'filepaths': {'curve_points_save_fn': 'curve_points.csv', 'mse_curve_points_save_fn': 'mse_curve_points.csv', 'simulation_points_save_fn': 'simulation_points.csv', 'trajectory_points_save_fn': 'trajectory_points.csv', 'variant_points_save_fn': 'variant_points.csv', 'complexity_accuracy_plot_fn': 'complexity_accuracy.png', 'complexity_distortion_plot_fn': 'complexity_distortion.png', 'complexity_mse_plot_fn': 'complexity_mse.png', 'curve_subdir': 'states=${game.num_states}/signals=${game.num_signals}/prior=${game.prior_init_beta}/dist=${game.distance}/meaning_certainty=${game.meaning_dist_beta}', 'sim_sweep_subdir': '${filepaths.curve_subdir}/dynamics=${simulation.dynamics.name}/population_size=${simulation.dynamics.population_size}/num_trials=${simulation.num_trials}/seed=${seed}', 'simulation_subdir': '${filepaths.sim_sweep_subdir}/discr_need=${game.discriminative_need_beta}', 'leaf_subdir': '${filepaths.simulation_subdir}', 'hydra_run_root': 'outputs', 'hydra_sweep_root': 'multirun'}}\n"
     ]
    }
   ],
   "source": [
    "with hydra.initialize(version_base=None, config_path=\"../../conf\"):\n",
    "    # cfg = compose(overrides=[\"+db=mysql\"])\n",
    "    config = hydra.compose(config_name=\"config\")\n",
    "    print(config)"
   ]
  },
  {
   "cell_type": "code",
   "execution_count": 8,
   "metadata": {},
   "outputs": [
    {
     "data": {
      "text/plain": [
       "'states=10/signals=10/prior=-8/dist=squared_dist/meaning_certainty=0/dynamics=two_population_rd/population_size=None/num_trials=8/seed=42'"
      ]
     },
     "execution_count": 8,
     "metadata": {},
     "output_type": "execute_result"
    }
   ],
   "source": [
    "config.filepaths.sim_sweep_subdir"
   ]
  }
 ],
 "metadata": {
  "kernelspec": {
   "display_name": "ibsg",
   "language": "python",
   "name": "python3"
  },
  "language_info": {
   "codemirror_mode": {
    "name": "ipython",
    "version": 3
   },
   "file_extension": ".py",
   "mimetype": "text/x-python",
   "name": "python",
   "nbconvert_exporter": "python",
   "pygments_lexer": "ipython3",
   "version": "3.10.10"
  },
  "orig_nbformat": 4
 },
 "nbformat": 4,
 "nbformat_minor": 2
}
