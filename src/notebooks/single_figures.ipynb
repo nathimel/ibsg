{
 "cells": [
  {
   "attachments": {},
   "cell_type": "markdown",
   "metadata": {},
   "source": [
    "# Visualization of different values of discriminative need\n",
    "\n",
    "(For one meaning distribution)"
   ]
  },
  {
   "attachments": {},
   "cell_type": "markdown",
   "metadata": {},
   "source": [
    "## Configs"
   ]
  },
  {
   "cell_type": "code",
   "execution_count": 42,
   "metadata": {},
   "outputs": [],
   "source": [
    "import os\n",
    "import torch\n",
    "import pandas as pd\n",
    "import plotnine as pn"
   ]
  },
  {
   "cell_type": "code",
   "execution_count": 43,
   "metadata": {},
   "outputs": [],
   "source": [
    "# Constants \n",
    "\n",
    "# example fn\n",
    "\"multirun/states=10/words=10/prior=-8/dist=squared_dist/meaning_certainty=-2/discr_need=-1/seed=42/dynamics=two_population_rd/num_trials=10/population_size=None/simulation_points.csv\"\n",
    "\n",
    "# standard configs\n",
    "num_states = 100\n",
    "num_signals = 100\n",
    "prior = -8\n",
    "distance = \"squared_dist\"\n",
    "meaning_certainty = 0\n",
    "seed = 42\n",
    "\n",
    "discr_needs = torch.arange(-3, 4, 0.5).tolist() # swept values\n",
    "\n",
    "# Replicator Dynamics specific configs\n",
    "dynamics = \"two_population_rd\"\n",
    "num_trials = 8\n",
    "population_size = None\n",
    "\n",
    "# # Nowak Krakauer specific configs\n",
    "# dynamics = \"nowak_krakauer\"\n",
    "# num_trials = 8\n",
    "# population_size = 100\n",
    "\n",
    "# # Moran process specific configs\n",
    "# dynamics = \"moran_process\"\n",
    "# num_trials = 8\n",
    "# population_size = 100"
   ]
  },
  {
   "attachments": {},
   "cell_type": "markdown",
   "metadata": {},
   "source": [
    "## Load Data"
   ]
  },
  {
   "cell_type": "code",
   "execution_count": 44,
   "metadata": {},
   "outputs": [],
   "source": [
    "# Filepaths\n",
    "\n",
    "# user's path to root of repo\n",
    "root_path = \"/Users/nathanielimel/uci/projects/ibsg\"\n",
    "\n",
    "#############################################################################\n",
    "# Analysis files\n",
    "#############################################################################\n",
    "\n",
    "curve_fn = f\"multirun/states={num_states}/signals={num_signals}/prior={prior}/dist={distance}/meaning_certainty={meaning_certainty}/curve_points.csv\"\n",
    "\n",
    "#############################################################################\n",
    "# Simulation points\n",
    "#############################################################################\n",
    "\n",
    "sim_fns = {\n",
    "    f\"{discr_need}\":\n",
    "    f\"multirun/states={num_states}/signals={num_signals}/prior={prior}/dist={distance}/meaning_certainty={meaning_certainty}/discr_need={discr_need}/seed={seed}/dynamics={dynamics}/num_trials={num_trials}/population_size={population_size}/simulation_points.csv\"\n",
    "    for discr_need in discr_needs\n",
    "    } "
   ]
  },
  {
   "cell_type": "code",
   "execution_count": 45,
   "metadata": {},
   "outputs": [],
   "source": [
    "# load dataframes\n",
    "read = lambda fn: pd.read_csv(os.path.join(root_path, fn))\n",
    "\n",
    "curve_data = read(curve_fn)\n",
    "sim_dfs = {k: read(sim_fns[k]) for k in sim_fns}\n",
    "# curve_data = pd.read_csv(curve_fn)\n",
    "# sim_dfs = {k: pd.read_csv(sim_fns[k]) for k in sim_fns}"
   ]
  },
  {
   "attachments": {},
   "cell_type": "markdown",
   "metadata": {},
   "source": [
    "## Configure aesthetics"
   ]
  },
  {
   "cell_type": "code",
   "execution_count": 46,
   "metadata": {},
   "outputs": [],
   "source": [
    "# label each df to be concatenated with a columns\n",
    "for key in sim_dfs:\n",
    "    df = sim_dfs[key]\n",
    "    df[\"discr_need\"] = key\n",
    "\n",
    "sim_data = pd.concat(sim_dfs.values())"
   ]
  },
  {
   "cell_type": "code",
   "execution_count": 47,
   "metadata": {},
   "outputs": [],
   "source": [
    "data = sim_data"
   ]
  },
  {
   "cell_type": "code",
   "execution_count": 48,
   "metadata": {},
   "outputs": [
    {
     "data": {
      "text/html": [
       "<div>\n",
       "<style scoped>\n",
       "    .dataframe tbody tr th:only-of-type {\n",
       "        vertical-align: middle;\n",
       "    }\n",
       "\n",
       "    .dataframe tbody tr th {\n",
       "        vertical-align: top;\n",
       "    }\n",
       "\n",
       "    .dataframe thead th {\n",
       "        text-align: right;\n",
       "    }\n",
       "</style>\n",
       "<table border=\"1\" class=\"dataframe\">\n",
       "  <thead>\n",
       "    <tr style=\"text-align: right;\">\n",
       "      <th></th>\n",
       "      <th>complexity</th>\n",
       "      <th>accuracy</th>\n",
       "      <th>discr_need</th>\n",
       "    </tr>\n",
       "  </thead>\n",
       "  <tbody>\n",
       "    <tr>\n",
       "      <th>0</th>\n",
       "      <td>2.610994</td>\n",
       "      <td>2.592453</td>\n",
       "      <td>-3.0</td>\n",
       "    </tr>\n",
       "    <tr>\n",
       "      <th>1</th>\n",
       "      <td>2.602066</td>\n",
       "      <td>2.583730</td>\n",
       "      <td>-3.0</td>\n",
       "    </tr>\n",
       "    <tr>\n",
       "      <th>2</th>\n",
       "      <td>2.616349</td>\n",
       "      <td>2.597735</td>\n",
       "      <td>-3.0</td>\n",
       "    </tr>\n",
       "    <tr>\n",
       "      <th>3</th>\n",
       "      <td>2.604197</td>\n",
       "      <td>2.585822</td>\n",
       "      <td>-3.0</td>\n",
       "    </tr>\n",
       "    <tr>\n",
       "      <th>4</th>\n",
       "      <td>2.603870</td>\n",
       "      <td>2.585457</td>\n",
       "      <td>-3.0</td>\n",
       "    </tr>\n",
       "    <tr>\n",
       "      <th>...</th>\n",
       "      <td>...</td>\n",
       "      <td>...</td>\n",
       "      <td>...</td>\n",
       "    </tr>\n",
       "    <tr>\n",
       "      <th>3</th>\n",
       "      <td>4.641625</td>\n",
       "      <td>4.346947</td>\n",
       "      <td>3.5</td>\n",
       "    </tr>\n",
       "    <tr>\n",
       "      <th>4</th>\n",
       "      <td>4.640601</td>\n",
       "      <td>4.346252</td>\n",
       "      <td>3.5</td>\n",
       "    </tr>\n",
       "    <tr>\n",
       "      <th>5</th>\n",
       "      <td>4.641778</td>\n",
       "      <td>4.347045</td>\n",
       "      <td>3.5</td>\n",
       "    </tr>\n",
       "    <tr>\n",
       "      <th>6</th>\n",
       "      <td>4.641680</td>\n",
       "      <td>4.346984</td>\n",
       "      <td>3.5</td>\n",
       "    </tr>\n",
       "    <tr>\n",
       "      <th>7</th>\n",
       "      <td>4.641131</td>\n",
       "      <td>4.346602</td>\n",
       "      <td>3.5</td>\n",
       "    </tr>\n",
       "  </tbody>\n",
       "</table>\n",
       "<p>112 rows × 3 columns</p>\n",
       "</div>"
      ],
      "text/plain": [
       "    complexity  accuracy  discr_need\n",
       "0     2.610994  2.592453        -3.0\n",
       "1     2.602066  2.583730        -3.0\n",
       "2     2.616349  2.597735        -3.0\n",
       "3     2.604197  2.585822        -3.0\n",
       "4     2.603870  2.585457        -3.0\n",
       "..         ...       ...         ...\n",
       "3     4.641625  4.346947         3.5\n",
       "4     4.640601  4.346252         3.5\n",
       "5     4.641778  4.347045         3.5\n",
       "6     4.641680  4.346984         3.5\n",
       "7     4.641131  4.346602         3.5\n",
       "\n",
       "[112 rows x 3 columns]"
      ]
     },
     "execution_count": 48,
     "metadata": {},
     "output_type": "execute_result"
    }
   ],
   "source": [
    "data[\"discr_need\"] = data[\"discr_need\"].astype(float)\n",
    "\n",
    "# data = data.assign(\n",
    "#     alpha=pd.Categorical(\n",
    "#         data[\"discr_need\"],\n",
    "#         categories=[str(discr_need) for discr_need in discr_needs]\n",
    "#     )\n",
    "# )\n",
    "data # N.B.: nans are expected for 'round' column"
   ]
  },
  {
   "cell_type": "code",
   "execution_count": 49,
   "metadata": {},
   "outputs": [],
   "source": [
    "# label point type\n",
    "data[\"language\"] = \"emergent\""
   ]
  },
  {
   "attachments": {},
   "cell_type": "markdown",
   "metadata": {},
   "source": [
    "## Plot"
   ]
  },
  {
   "cell_type": "code",
   "execution_count": 50,
   "metadata": {},
   "outputs": [
    {
     "data": {
      "image/png": "[encoded data removed]",
      "text/plain": [
       "<Figure size 640x480 with 1 Axes>"
      ]
     },
     "metadata": {},
     "output_type": "display_data"
    },
    {
     "name": "stdout",
     "output_type": "stream",
     "text": [
      "\n"
     ]
    }
   ],
   "source": [
    "plot = (\n",
    "    # Set data and the axes\n",
    "    pn.ggplot(\n",
    "        data=curve_data, mapping=pn.aes(x=\"complexity\", y=\"accuracy\")\n",
    "    )  \n",
    "    + pn.geom_line(size=1) # IB curve\n",
    "    # + pn.geom_point(size=1)\n",
    "    + pn.geom_jitter( # emergent langs\n",
    "        data=data,\n",
    "        mapping=pn.aes(\n",
    "            fill=\"discr_need\",\n",
    "            shape=\"language\",\n",
    "            ),\n",
    "        alpha=0.3,\n",
    "        size=5,\n",
    "    )        \n",
    "    + pn.xlab(\"Complexity $I[M:W]$ bits\")\n",
    "    + pn.ylab(\"Accuracy $I[W:U]$ bits\")\n",
    "    + pn.theme_classic()\n",
    ")\n",
    "print(plot)"
   ]
  },
  {
   "cell_type": "code",
   "execution_count": 52,
   "metadata": {},
   "outputs": [
    {
     "name": "stderr",
     "output_type": "stream",
     "text": [
      "/Users/nathanielimel/miniforge3/envs/ibsg/lib/python3.10/site-packages/plotnine/ggplot.py:718: PlotnineWarning: Saving 10 x 10 in image.\n",
      "/Users/nathanielimel/miniforge3/envs/ibsg/lib/python3.10/site-packages/plotnine/ggplot.py:719: PlotnineWarning: Filename: 100x100_game_two_pop_rd.png\n"
     ]
    }
   ],
   "source": [
    "# Uncomment to save!\n",
    "# plot.save(\"100x100_game_two_pop_rd.png\", width=10, height=10, dpi=300)"
   ]
  }
 ],
 "metadata": {
  "kernelspec": {
   "display_name": "ibsg",
   "language": "python",
   "name": "python3"
  },
  "language_info": {
   "codemirror_mode": {
    "name": "ipython",
    "version": 3
   },
   "file_extension": ".py",
   "mimetype": "text/x-python",
   "name": "python",
   "nbconvert_exporter": "python",
   "pygments_lexer": "ipython3",
   "version": "3.10.10"
  },
  "orig_nbformat": 4
 },
 "nbformat": 4,
 "nbformat_minor": 2
}
