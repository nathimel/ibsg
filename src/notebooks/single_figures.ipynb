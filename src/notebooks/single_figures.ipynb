{
 "cells": [
  {
   "attachments": {},
   "cell_type": "markdown",
   "metadata": {},
   "source": [
    "# Visualization of different values of discriminative need\n",
    "\n",
    "(For one meaning distribution)"
   ]
  },
  {
   "attachments": {},
   "cell_type": "markdown",
   "metadata": {},
   "source": [
    "## Configs"
   ]
  },
  {
   "cell_type": "code",
   "execution_count": 86,
   "metadata": {},
   "outputs": [],
   "source": [
    "import os\n",
    "import torch\n",
    "import pandas as pd\n",
    "import plotnine as pn"
   ]
  },
  {
   "cell_type": "code",
   "execution_count": 87,
   "metadata": {},
   "outputs": [],
   "source": [
    "# Constants \n",
    "\n",
    "# example fn\n",
    "\"multirun/states=10/words=10/prior=-8/dist=squared_dist/meaning_certainty=-2/discr_need=-1/seed=42/dynamics=two_population_rd/num_trials=10/population_size=None/simulation_points.csv\"\n",
    "\n",
    "# standard configs\n",
    "num_states = 10\n",
    "num_signals = 10\n",
    "prior = -8\n",
    "distance = \"hamming_dist\"\n",
    "meaning_certainty = 0\n",
    "seed = 42\n",
    "\n",
    "discr_needs = torch.arange(-3, 4, 0.5).tolist() # swept values\n",
    "\n",
    "# Replicator Dynamics specific configs\n",
    "dynamics = \"two_population_rd\"\n",
    "num_trials = 8\n",
    "population_size = None\n",
    "\n",
    "# # Nowak Krakauer specific configs\n",
    "# dynamics = \"nowak_krakauer\"\n",
    "# num_trials = 8\n",
    "# population_size = 100\n",
    "\n",
    "# # Moran process specific configs\n",
    "# dynamics = \"moran_process\"\n",
    "# num_trials = 8\n",
    "# population_size = 100"
   ]
  },
  {
   "attachments": {},
   "cell_type": "markdown",
   "metadata": {},
   "source": [
    "## Load Data"
   ]
  },
  {
   "cell_type": "code",
   "execution_count": 88,
   "metadata": {},
   "outputs": [],
   "source": [
    "# Filepaths\n",
    "\n",
    "# user's path to root of repo\n",
    "root_path = \"/Users/nathanielimel/uci/projects/ibsg\"\n",
    "\n",
    "#############################################################################\n",
    "# Analysis files\n",
    "#############################################################################\n",
    "\n",
    "discr_need = discr_needs[-1]\n",
    "# N.B.: curve should be saved outside of discr need, even though it determines utility.\n",
    "curve_fn = f\"multirun/states={num_states}/signals={num_signals}/prior={prior}/dist={distance}/meaning_certainty={meaning_certainty}/discr_need={discr_need}/seed={seed}/curve_points.csv\"\n",
    "\n",
    "#############################################################################\n",
    "# Simulation points\n",
    "#############################################################################\n",
    "\n",
    "sim_fns = {\n",
    "    f\"{discr_need}\":\n",
    "    f\"multirun/states={num_states}/signals={num_signals}/prior={prior}/dist={distance}/meaning_certainty={meaning_certainty}/discr_need={discr_need}/seed={seed}/dynamics={dynamics}/num_trials={num_trials}/population_size={population_size}/simulation_points.csv\"\n",
    "    for discr_need in discr_needs\n",
    "    } "
   ]
  },
  {
   "cell_type": "code",
   "execution_count": 89,
   "metadata": {},
   "outputs": [],
   "source": [
    "# load dataframes\n",
    "read = lambda fn: pd.read_csv(os.path.join(root_path, fn))\n",
    "\n",
    "curve_data = read(curve_fn)\n",
    "sim_dfs = {k: read(sim_fns[k]) for k in sim_fns}\n",
    "# curve_data = pd.read_csv(curve_fn)\n",
    "# sim_dfs = {k: pd.read_csv(sim_fns[k]) for k in sim_fns}"
   ]
  },
  {
   "attachments": {},
   "cell_type": "markdown",
   "metadata": {},
   "source": [
    "## Configure aesthetics"
   ]
  },
  {
   "cell_type": "code",
   "execution_count": 90,
   "metadata": {},
   "outputs": [],
   "source": [
    "# label each df to be concatenated with a columns\n",
    "for key in sim_dfs:\n",
    "    df = sim_dfs[key]\n",
    "    df[\"discr_need\"] = key\n",
    "\n",
    "sim_data = pd.concat(sim_dfs.values())"
   ]
  },
  {
   "cell_type": "code",
   "execution_count": 91,
   "metadata": {},
   "outputs": [],
   "source": [
    "data = sim_data"
   ]
  },
  {
   "cell_type": "code",
   "execution_count": 92,
   "metadata": {},
   "outputs": [
    {
     "data": {
      "text/html": [
       "<div>\n",
       "<style scoped>\n",
       "    .dataframe tbody tr th:only-of-type {\n",
       "        vertical-align: middle;\n",
       "    }\n",
       "\n",
       "    .dataframe tbody tr th {\n",
       "        vertical-align: top;\n",
       "    }\n",
       "\n",
       "    .dataframe thead th {\n",
       "        text-align: right;\n",
       "    }\n",
       "</style>\n",
       "<table border=\"1\" class=\"dataframe\">\n",
       "  <thead>\n",
       "    <tr style=\"text-align: right;\">\n",
       "      <th></th>\n",
       "      <th>complexity</th>\n",
       "      <th>accuracy</th>\n",
       "      <th>discr_need</th>\n",
       "    </tr>\n",
       "  </thead>\n",
       "  <tbody>\n",
       "    <tr>\n",
       "      <th>0</th>\n",
       "      <td>0.000000e+00</td>\n",
       "      <td>0.000000e+00</td>\n",
       "      <td>-3.0</td>\n",
       "    </tr>\n",
       "    <tr>\n",
       "      <th>1</th>\n",
       "      <td>9.536743e-07</td>\n",
       "      <td>4.768372e-07</td>\n",
       "      <td>-3.0</td>\n",
       "    </tr>\n",
       "    <tr>\n",
       "      <th>2</th>\n",
       "      <td>1.430511e-06</td>\n",
       "      <td>0.000000e+00</td>\n",
       "      <td>-3.0</td>\n",
       "    </tr>\n",
       "    <tr>\n",
       "      <th>3</th>\n",
       "      <td>4.768372e-07</td>\n",
       "      <td>0.000000e+00</td>\n",
       "      <td>-3.0</td>\n",
       "    </tr>\n",
       "    <tr>\n",
       "      <th>4</th>\n",
       "      <td>0.000000e+00</td>\n",
       "      <td>-4.768372e-07</td>\n",
       "      <td>-3.0</td>\n",
       "    </tr>\n",
       "    <tr>\n",
       "      <th>...</th>\n",
       "      <td>...</td>\n",
       "      <td>...</td>\n",
       "      <td>...</td>\n",
       "    </tr>\n",
       "    <tr>\n",
       "      <th>3</th>\n",
       "      <td>1.502035e+00</td>\n",
       "      <td>1.257046e+00</td>\n",
       "      <td>3.5</td>\n",
       "    </tr>\n",
       "    <tr>\n",
       "      <th>4</th>\n",
       "      <td>1.508570e+00</td>\n",
       "      <td>1.261295e+00</td>\n",
       "      <td>3.5</td>\n",
       "    </tr>\n",
       "    <tr>\n",
       "      <th>5</th>\n",
       "      <td>1.502031e+00</td>\n",
       "      <td>1.257044e+00</td>\n",
       "      <td>3.5</td>\n",
       "    </tr>\n",
       "    <tr>\n",
       "      <th>6</th>\n",
       "      <td>1.508569e+00</td>\n",
       "      <td>1.261295e+00</td>\n",
       "      <td>3.5</td>\n",
       "    </tr>\n",
       "    <tr>\n",
       "      <th>7</th>\n",
       "      <td>1.501451e+00</td>\n",
       "      <td>1.256731e+00</td>\n",
       "      <td>3.5</td>\n",
       "    </tr>\n",
       "  </tbody>\n",
       "</table>\n",
       "<p>112 rows × 3 columns</p>\n",
       "</div>"
      ],
      "text/plain": [
       "      complexity      accuracy  discr_need\n",
       "0   0.000000e+00  0.000000e+00        -3.0\n",
       "1   9.536743e-07  4.768372e-07        -3.0\n",
       "2   1.430511e-06  0.000000e+00        -3.0\n",
       "3   4.768372e-07  0.000000e+00        -3.0\n",
       "4   0.000000e+00 -4.768372e-07        -3.0\n",
       "..           ...           ...         ...\n",
       "3   1.502035e+00  1.257046e+00         3.5\n",
       "4   1.508570e+00  1.261295e+00         3.5\n",
       "5   1.502031e+00  1.257044e+00         3.5\n",
       "6   1.508569e+00  1.261295e+00         3.5\n",
       "7   1.501451e+00  1.256731e+00         3.5\n",
       "\n",
       "[112 rows x 3 columns]"
      ]
     },
     "execution_count": 92,
     "metadata": {},
     "output_type": "execute_result"
    }
   ],
   "source": [
    "data[\"discr_need\"] = data[\"discr_need\"].astype(float)\n",
    "\n",
    "# data = data.assign(\n",
    "#     alpha=pd.Categorical(\n",
    "#         data[\"discr_need\"],\n",
    "#         categories=[str(discr_need) for discr_need in discr_needs]\n",
    "#     )\n",
    "# )\n",
    "data # N.B.: nans are expected for 'round' column"
   ]
  },
  {
   "cell_type": "code",
   "execution_count": 93,
   "metadata": {},
   "outputs": [],
   "source": [
    "# label point type\n",
    "data[\"language\"] = \"emergent\""
   ]
  },
  {
   "attachments": {},
   "cell_type": "markdown",
   "metadata": {},
   "source": [
    "## Plot"
   ]
  },
  {
   "cell_type": "code",
   "execution_count": 94,
   "metadata": {},
   "outputs": [
    {
     "data": {
      "image/png": "[encoded data removed]",
      "text/plain": [
       "<Figure size 640x480 with 1 Axes>"
      ]
     },
     "metadata": {},
     "output_type": "display_data"
    },
    {
     "name": "stdout",
     "output_type": "stream",
     "text": [
      "\n"
     ]
    }
   ],
   "source": [
    "plot = (\n",
    "    # Set data and the axes\n",
    "    pn.ggplot(\n",
    "        data=curve_data, mapping=pn.aes(x=\"complexity\", y=\"accuracy\")\n",
    "    )  \n",
    "    + pn.geom_line(size=1) # IB curve\n",
    "    + pn.geom_jitter( # emergent langs\n",
    "        data=data,\n",
    "        mapping=pn.aes(\n",
    "            fill=\"discr_need\",\n",
    "            shape=\"language\",\n",
    "            ),\n",
    "        alpha=0.3,\n",
    "        size=5,\n",
    "    )        \n",
    "    + pn.xlab(\"Complexity $I[M:W]$ bits\")\n",
    "    + pn.ylab(\"Accuracy $I[W:U]$ bits\")\n",
    "    + pn.theme_classic()\n",
    ")\n",
    "print(plot)"
   ]
  },
  {
   "cell_type": "code",
   "execution_count": 95,
   "metadata": {},
   "outputs": [],
   "source": [
    "# Uncomment to save!\n",
    "# plot.save(\"100x100_nowak_krakaeur.png\", width=10, height=10, dpi=300)"
   ]
  }
 ],
 "metadata": {
  "kernelspec": {
   "display_name": "ibsg",
   "language": "python",
   "name": "python3"
  },
  "language_info": {
   "codemirror_mode": {
    "name": "ipython",
    "version": 3
   },
   "file_extension": ".py",
   "mimetype": "text/x-python",
   "name": "python",
   "nbconvert_exporter": "python",
   "pygments_lexer": "ipython3",
   "version": "3.10.10"
  },
  "orig_nbformat": 4
 },
 "nbformat": 4,
 "nbformat_minor": 2
}
