{
 "cells": [
  {
   "cell_type": "code",
   "execution_count": 2,
   "metadata": {},
   "outputs": [],
   "source": [
    "import hydra\n",
    "\n",
    "import numpy as np\n",
    "import pandas as pd\n",
    "import plotnine as pn"
   ]
  },
  {
   "cell_type": "code",
   "execution_count": 3,
   "metadata": {},
   "outputs": [],
   "source": [
    "df = pd.read_csv(\"final_points.csv\")"
   ]
  },
  {
   "cell_type": "code",
   "execution_count": 4,
   "metadata": {},
   "outputs": [],
   "source": [
    "df_baseline = pd.read_csv(\"scrambled_utility_points.csv\")"
   ]
  },
  {
   "cell_type": "code",
   "execution_count": 5,
   "metadata": {},
   "outputs": [],
   "source": [
    "# Helper defining mean and conf intervals\n",
    "\n",
    "from scipy import stats\n",
    "\n",
    "# Calculate the mean and confidence intervals for each iteration\n",
    "def mean_confidence_interval(data: pd.DataFrame, confidence=0.95) -> tuple[float]:\n",
    "    mean, se = np.mean(data), stats.sem(data)\n",
    "    interval = se * stats.t.ppf((1 + confidence) / 2., len(data)-1)\n",
    "    return (mean, mean - interval, mean + interval)\n",
    "\n",
    "def mean_conf_df(trajectory_data: pd.DataFrame, colname: str, groupby_cols: list[str] = ['iteration', 'discriminative_need_gamma'],):\n",
    "    df_summary = trajectory_data.groupby(groupby_cols)[colname].apply(mean_confidence_interval).apply(pd.Series)\n",
    "    df_summary.columns = [f'mean_{colname}', 'lower_ci', 'upper_ci']\n",
    "    df_summary = df_summary.reset_index()\n",
    "    return df_summary\n"
   ]
  },
  {
   "cell_type": "code",
   "execution_count": null,
   "metadata": {},
   "outputs": [],
   "source": [
    "\n",
    "seed_avgd_data = mean_conf_df(df, \"min_epsilon\", groupby_cols=[ \"discriminative_need_gamma\"]) # mean across seeds\n",
    "\n",
    "plot = (\n",
    "   pn.ggplot(\n",
    "      seed_avgd_data,\n",
    "      pn.aes(\n",
    "         x=\"discriminative_need_gamma\",\n",
    "         y=\"mean_min_epsilon\",\n",
    "         # color=\"seed\",\n",
    "      #  color=\"discriminative_need_gamma\",\n",
    "      #  group=\"discriminative_need_gamma\",\n",
    "      )\n",
    "   )\n",
    "   + pn.geom_line(\n",
    "      # df_final_points,\n",
    "      # pn.aes(\n",
    "      #     y=\"min_epsilon\",\n",
    "      # ),\n",
    "      stat = \"summary\",\n",
    "      size=1, \n",
    "      color=\"blue\",\n",
    "   )\n",
    "   + pn.geom_point(size=2, fill=\"blue\")\n",
    "   + pn.geom_ribbon(\n",
    "      pn.aes(\n",
    "         ymin = \"lower_ci\",\n",
    "         ymax = \"upper_ci\",\n",
    "      ),\n",
    "      fill = \"blue\",\n",
    "      alpha=0.5,\n",
    "   )\n",
    "\n",
    "   + pn.scale_x_log10(breaks = [1e-8, 1e-6, 1e-4, 1e-2, 1])\n",
    "   # + pn.scale_y_log10()\n",
    "\n",
    "   + pn.xlab(\"$\\gamma$\")\n",
    "   + pn.ylab(\"Converged efficiency loss\")\n",
    "   + pn.theme_classic()\n",
    "\n",
    "   + pn.theme(\n",
    "      # Axis font\n",
    "      axis_title=pn.element_text(size=32),\n",
    "      axis_text=pn.element_text(size=24),\n",
    "      # Legend position\n",
    "      # legend_position=(0.75, 0.4),\n",
    "      # legend_position='none',\n",
    "      # legend_direction = \"vertical\",\n",
    "      # Legend box\n",
    "      legend_background=pn.element_rect(\n",
    "         fill=\"lightgrey\",\n",
    "         size=0.5, linetype=\"solid\", \n",
    "         color=\"darkblue\",\n",
    "      ),\n",
    "   )\n",
    "   # guide not working, maybe should just use R\n",
    "   + pn.guides(\n",
    "      fill = pn.guide_colorbar(\n",
    "         title_position = \"bottom\", \n",
    "         label_position = \"bottom\",\n",
    "         override_aes = {\"alpha\":0.8},\n",
    "         ),\n",
    "   )     \n",
    "\n",
    ")\n",
    "print(plot)"
   ]
  }
 ],
 "metadata": {
  "kernelspec": {
   "display_name": "ibsg",
   "language": "python",
   "name": "python3"
  },
  "language_info": {
   "codemirror_mode": {
    "name": "ipython",
    "version": 3
   },
   "file_extension": ".py",
   "mimetype": "text/x-python",
   "name": "python",
   "nbconvert_exporter": "python",
   "pygments_lexer": "ipython3",
   "version": "3.10.13"
  }
 },
 "nbformat": 4,
 "nbformat_minor": 2
}
