{
 "cells": [
  {
   "cell_type": "code",
   "execution_count": 1,
   "metadata": {},
   "outputs": [],
   "source": [
    "import torch\n",
    "import pandas as pd\n",
    "import plotnine as pn\n",
    "import sys\n",
    "# sys.path.append(\"/Users/nathanielimel/uci/projects/ibsg/src\")"
   ]
  },
  {
   "cell_type": "code",
   "execution_count": 2,
   "metadata": {},
   "outputs": [],
   "source": [
    "curve_data = pd.read_csv(\"/Users/nathanielimel/uci/projects/ibsg/multirun/states=100/signals=100/prior=-8/dist=squared_dist/meaning_certainty=0/curve_points.csv\")\n",
    "\n",
    "# maps gamma to H(U|M) bits\n",
    "gamma_dict = {\n",
    "    3: 0.0,\n",
    "    0: 1.532,\n",
    "    -1: 3.163,\n",
    "    -2: 4.726,\n",
    "    # -3: 6.078,\n",
    "}\n",
    "sim_data = {\n",
    "    key: pd.read_csv(f\"noise={key}.csv\") for key in gamma_dict\n",
    "}"
   ]
  },
  {
   "cell_type": "code",
   "execution_count": 3,
   "metadata": {},
   "outputs": [],
   "source": [
    "# fill aesthetics\n",
    "for key, val in gamma_dict.items():\n",
    "    sim_data[key][\"noise\"] = str(val) # categorical\n",
    "\n",
    "if list(sim_data):\n",
    "    sim_data = pd.concat(list(sim_data.values()))"
   ]
  },
  {
   "cell_type": "code",
   "execution_count": 4,
   "metadata": {},
   "outputs": [],
   "source": [
    "# this is a dirty and beautiful hack from\n",
    "# https://waldyrious.net/viridis-palette-generator/\n",
    "fill_values_dict = {\n",
    "    str(k): v for k, v in {\n",
    "        0.0: \"#440154\",\n",
    "        1.532: \"#31688e\",\n",
    "        3.163: \"#35b779\",\n",
    "        4.726: \"#fde725\", \n",
    "    }.items() }\n",
    "\n",
    "if True:\n",
    "    fill_values_dict = {k: \"light-blue\" for k,v in fill_values_dict.items()}"
   ]
  },
  {
   "cell_type": "code",
   "execution_count": 5,
   "metadata": {},
   "outputs": [
    {
     "ename": "ValueError",
     "evalue": "Invalid RGBA argument: 'light-blue'",
     "output_type": "error",
     "traceback": [
      "\u001b[0;31m---------------------------------------------------------------------------\u001b[0m",
      "\u001b[0;31mValueError\u001b[0m                                Traceback (most recent call last)",
      "Cell \u001b[0;32mIn[5], line 51\u001b[0m\n\u001b[1;32m     20\u001b[0m     plot \u001b[39m=\u001b[39m (\n\u001b[1;32m     21\u001b[0m         plot \n\u001b[1;32m     22\u001b[0m         \u001b[39m+\u001b[39m pn\u001b[39m.\u001b[39mgeom_jitter( \u001b[39m# emergent langs\u001b[39;00m\n\u001b[0;32m   (...)\u001b[0m\n\u001b[1;32m     32\u001b[0m         \u001b[39m+\u001b[39m pn\u001b[39m.\u001b[39mscale_fill_manual(values \u001b[39m=\u001b[39m fill_values_dict)\n\u001b[1;32m     33\u001b[0m     )\n\u001b[1;32m     35\u001b[0m plot \u001b[39m=\u001b[39m (\n\u001b[1;32m     36\u001b[0m     plot\n\u001b[1;32m     37\u001b[0m     \u001b[39m+\u001b[39m pn\u001b[39m.\u001b[39mxlab(\u001b[39m\"\u001b[39m\u001b[39mComplexity, $I(M;W)$ bits\u001b[39m\u001b[39m\"\u001b[39m)\n\u001b[0;32m   (...)\u001b[0m\n\u001b[1;32m     48\u001b[0m     )    \n\u001b[1;32m     49\u001b[0m )\n\u001b[0;32m---> 51\u001b[0m \u001b[39mprint\u001b[39;49m(plot)\n\u001b[1;32m     52\u001b[0m plot\u001b[39m.\u001b[39msave(\u001b[39m\"\u001b[39m\u001b[39mtemp_figure\u001b[39m\u001b[39m\"\u001b[39m, width\u001b[39m=\u001b[39m\u001b[39m10\u001b[39m, height\u001b[39m=\u001b[39m\u001b[39m10\u001b[39m, dpi\u001b[39m=\u001b[39m\u001b[39m300\u001b[39m,)\n",
      "File \u001b[0;32m~/miniforge3/envs/ibsg/lib/python3.10/site-packages/plotnine/ggplot.py:86\u001b[0m, in \u001b[0;36mggplot.__str__\u001b[0;34m(self)\u001b[0m\n\u001b[1;32m     82\u001b[0m \u001b[39mdef\u001b[39;00m \u001b[39m__str__\u001b[39m(\u001b[39mself\u001b[39m):\n\u001b[1;32m     83\u001b[0m \u001b[39m    \u001b[39m\u001b[39m\"\"\"\u001b[39;00m\n\u001b[1;32m     84\u001b[0m \u001b[39m    Print/show the plot\u001b[39;00m\n\u001b[1;32m     85\u001b[0m \u001b[39m    \"\"\"\u001b[39;00m\n\u001b[0;32m---> 86\u001b[0m     \u001b[39mself\u001b[39;49m\u001b[39m.\u001b[39;49mdraw(show\u001b[39m=\u001b[39;49m\u001b[39mTrue\u001b[39;49;00m)\n\u001b[1;32m     88\u001b[0m     \u001b[39m# Return and empty string so that print(p) is \"pretty\"\u001b[39;00m\n\u001b[1;32m     89\u001b[0m     \u001b[39mreturn\u001b[39;00m \u001b[39m'\u001b[39m\u001b[39m'\u001b[39m\n",
      "File \u001b[0;32m~/miniforge3/envs/ibsg/lib/python3.10/site-packages/plotnine/ggplot.py:212\u001b[0m, in \u001b[0;36mggplot.draw\u001b[0;34m(self, return_ggplot, show)\u001b[0m\n\u001b[1;32m    209\u001b[0m \u001b[39mself\u001b[39m\u001b[39m.\u001b[39m_resize_panels()\n\u001b[1;32m    211\u001b[0m \u001b[39m# Drawing\u001b[39;00m\n\u001b[0;32m--> 212\u001b[0m \u001b[39mself\u001b[39;49m\u001b[39m.\u001b[39;49m_draw_layers()\n\u001b[1;32m    213\u001b[0m \u001b[39mself\u001b[39m\u001b[39m.\u001b[39m_draw_labels()\n\u001b[1;32m    214\u001b[0m \u001b[39mself\u001b[39m\u001b[39m.\u001b[39m_draw_breaks_and_labels()\n",
      "File \u001b[0;32m~/miniforge3/envs/ibsg/lib/python3.10/site-packages/plotnine/ggplot.py:391\u001b[0m, in \u001b[0;36mggplot._draw_layers\u001b[0;34m(self)\u001b[0m\n\u001b[1;32m    387\u001b[0m \u001b[39m\u001b[39m\u001b[39m\"\"\"\u001b[39;00m\n\u001b[1;32m    388\u001b[0m \u001b[39mDraw the main plot(s) onto the axes.\u001b[39;00m\n\u001b[1;32m    389\u001b[0m \u001b[39m\"\"\"\u001b[39;00m\n\u001b[1;32m    390\u001b[0m \u001b[39m# Draw the geoms\u001b[39;00m\n\u001b[0;32m--> 391\u001b[0m \u001b[39mself\u001b[39;49m\u001b[39m.\u001b[39;49mlayers\u001b[39m.\u001b[39;49mdraw(\u001b[39mself\u001b[39;49m\u001b[39m.\u001b[39;49mlayout, \u001b[39mself\u001b[39;49m\u001b[39m.\u001b[39;49mcoordinates)\n",
      "File \u001b[0;32m~/miniforge3/envs/ibsg/lib/python3.10/site-packages/plotnine/layer.py:63\u001b[0m, in \u001b[0;36mLayers.draw\u001b[0;34m(self, layout, coord)\u001b[0m\n\u001b[1;32m     61\u001b[0m \u001b[39mfor\u001b[39;00m i, l \u001b[39min\u001b[39;00m \u001b[39menumerate\u001b[39m(\u001b[39mself\u001b[39m, start\u001b[39m=\u001b[39m\u001b[39m1\u001b[39m):\n\u001b[1;32m     62\u001b[0m     l\u001b[39m.\u001b[39mzorder \u001b[39m=\u001b[39m i\n\u001b[0;32m---> 63\u001b[0m     l\u001b[39m.\u001b[39;49mdraw(layout, coord)\n",
      "File \u001b[0;32m~/miniforge3/envs/ibsg/lib/python3.10/site-packages/plotnine/layer.py:414\u001b[0m, in \u001b[0;36mlayer.draw\u001b[0;34m(self, layout, coord)\u001b[0m\n\u001b[1;32m    411\u001b[0m \u001b[39mself\u001b[39m\u001b[39m.\u001b[39mdata \u001b[39m=\u001b[39m \u001b[39mself\u001b[39m\u001b[39m.\u001b[39mgeom\u001b[39m.\u001b[39mhandle_na(\u001b[39mself\u001b[39m\u001b[39m.\u001b[39mdata)\n\u001b[1;32m    412\u001b[0m \u001b[39m# At this point each layer must have the data\u001b[39;00m\n\u001b[1;32m    413\u001b[0m \u001b[39m# that is created by the plot build process\u001b[39;00m\n\u001b[0;32m--> 414\u001b[0m \u001b[39mself\u001b[39;49m\u001b[39m.\u001b[39;49mgeom\u001b[39m.\u001b[39;49mdraw_layer(\u001b[39mself\u001b[39;49m\u001b[39m.\u001b[39;49mdata, layout, coord, \u001b[39m*\u001b[39;49m\u001b[39m*\u001b[39;49mparams)\n",
      "File \u001b[0;32m~/miniforge3/envs/ibsg/lib/python3.10/site-packages/plotnine/geoms/geom.py:237\u001b[0m, in \u001b[0;36mgeom.draw_layer\u001b[0;34m(self, data, layout, coord, **params)\u001b[0m\n\u001b[1;32m    235\u001b[0m panel_params \u001b[39m=\u001b[39m layout\u001b[39m.\u001b[39mpanel_params[ploc]\n\u001b[1;32m    236\u001b[0m ax \u001b[39m=\u001b[39m layout\u001b[39m.\u001b[39maxs[ploc]\n\u001b[0;32m--> 237\u001b[0m \u001b[39mself\u001b[39;49m\u001b[39m.\u001b[39;49mdraw_panel(pdata, panel_params, coord, ax, \u001b[39m*\u001b[39;49m\u001b[39m*\u001b[39;49mparams)\n",
      "File \u001b[0;32m~/miniforge3/envs/ibsg/lib/python3.10/site-packages/plotnine/geoms/geom_point.py:32\u001b[0m, in \u001b[0;36mgeom_point.draw_panel\u001b[0;34m(self, data, panel_params, coord, ax, **params)\u001b[0m\n\u001b[1;32m     28\u001b[0m \u001b[39mdef\u001b[39;00m \u001b[39mdraw_panel\u001b[39m(\u001b[39mself\u001b[39m, data, panel_params, coord, ax, \u001b[39m*\u001b[39m\u001b[39m*\u001b[39mparams):\n\u001b[1;32m     29\u001b[0m \u001b[39m    \u001b[39m\u001b[39m\"\"\"\u001b[39;00m\n\u001b[1;32m     30\u001b[0m \u001b[39m    Plot all groups\u001b[39;00m\n\u001b[1;32m     31\u001b[0m \u001b[39m    \"\"\"\u001b[39;00m\n\u001b[0;32m---> 32\u001b[0m     \u001b[39mself\u001b[39;49m\u001b[39m.\u001b[39;49mdraw_group(data, panel_params, coord, ax, \u001b[39m*\u001b[39;49m\u001b[39m*\u001b[39;49mparams)\n",
      "File \u001b[0;32m~/miniforge3/envs/ibsg/lib/python3.10/site-packages/plotnine/geoms/geom_point.py:40\u001b[0m, in \u001b[0;36mgeom_point.draw_group\u001b[0;34m(data, panel_params, coord, ax, **params)\u001b[0m\n\u001b[1;32m     38\u001b[0m \u001b[39mfor\u001b[39;00m _, udata \u001b[39min\u001b[39;00m data\u001b[39m.\u001b[39mgroupby(units, dropna\u001b[39m=\u001b[39m\u001b[39mFalse\u001b[39;00m):\n\u001b[1;32m     39\u001b[0m     udata\u001b[39m.\u001b[39mreset_index(inplace\u001b[39m=\u001b[39m\u001b[39mTrue\u001b[39;00m, drop\u001b[39m=\u001b[39m\u001b[39mTrue\u001b[39;00m)\n\u001b[0;32m---> 40\u001b[0m     geom_point\u001b[39m.\u001b[39;49mdraw_unit(udata, panel_params, coord,\n\u001b[1;32m     41\u001b[0m                          ax, \u001b[39m*\u001b[39;49m\u001b[39m*\u001b[39;49mparams)\n",
      "File \u001b[0;32m~/miniforge3/envs/ibsg/lib/python3.10/site-packages/plotnine/geoms/geom_point.py:62\u001b[0m, in \u001b[0;36mgeom_point.draw_unit\u001b[0;34m(data, panel_params, coord, ax, **params)\u001b[0m\n\u001b[1;32m     60\u001b[0m         fill \u001b[39m=\u001b[39m color\n\u001b[1;32m     61\u001b[0m     \u001b[39melse\u001b[39;00m:\n\u001b[0;32m---> 62\u001b[0m         fill \u001b[39m=\u001b[39m to_rgba(data[\u001b[39m'\u001b[39;49m\u001b[39mfill\u001b[39;49m\u001b[39m'\u001b[39;49m], data[\u001b[39m'\u001b[39;49m\u001b[39malpha\u001b[39;49m\u001b[39m'\u001b[39;49m])\n\u001b[1;32m     63\u001b[0m \u001b[39melse\u001b[39;00m:\n\u001b[1;32m     64\u001b[0m     \u001b[39m# Assume unfilled\u001b[39;00m\n\u001b[1;32m     65\u001b[0m     fill \u001b[39m=\u001b[39m color\n",
      "File \u001b[0;32m~/miniforge3/envs/ibsg/lib/python3.10/site-packages/plotnine/utils.py:595\u001b[0m, in \u001b[0;36mto_rgba\u001b[0;34m(colors, alpha)\u001b[0m\n\u001b[1;32m    592\u001b[0m     \u001b[39mreturn\u001b[39;00m \u001b[39m'\u001b[39m\u001b[39mnone\u001b[39m\u001b[39m'\u001b[39m\n\u001b[1;32m    594\u001b[0m \u001b[39mif\u001b[39;00m is_iterable(alpha):\n\u001b[0;32m--> 595\u001b[0m     \u001b[39mreturn\u001b[39;00m [to_rgba_hex(c, a) \u001b[39mfor\u001b[39;00m c, a \u001b[39min\u001b[39;00m \u001b[39mzip\u001b[39m(colors, alpha)]\n\u001b[1;32m    596\u001b[0m \u001b[39melse\u001b[39;00m:\n\u001b[1;32m    597\u001b[0m     \u001b[39mreturn\u001b[39;00m [to_rgba_hex(c, alpha) \u001b[39mfor\u001b[39;00m c \u001b[39min\u001b[39;00m colors]\n",
      "File \u001b[0;32m~/miniforge3/envs/ibsg/lib/python3.10/site-packages/plotnine/utils.py:595\u001b[0m, in \u001b[0;36m<listcomp>\u001b[0;34m(.0)\u001b[0m\n\u001b[1;32m    592\u001b[0m     \u001b[39mreturn\u001b[39;00m \u001b[39m'\u001b[39m\u001b[39mnone\u001b[39m\u001b[39m'\u001b[39m\n\u001b[1;32m    594\u001b[0m \u001b[39mif\u001b[39;00m is_iterable(alpha):\n\u001b[0;32m--> 595\u001b[0m     \u001b[39mreturn\u001b[39;00m [to_rgba_hex(c, a) \u001b[39mfor\u001b[39;00m c, a \u001b[39min\u001b[39;00m \u001b[39mzip\u001b[39m(colors, alpha)]\n\u001b[1;32m    596\u001b[0m \u001b[39melse\u001b[39;00m:\n\u001b[1;32m    597\u001b[0m     \u001b[39mreturn\u001b[39;00m [to_rgba_hex(c, alpha) \u001b[39mfor\u001b[39;00m c \u001b[39min\u001b[39;00m colors]\n",
      "File \u001b[0;32m~/miniforge3/envs/ibsg/lib/python3.10/site-packages/plotnine/utils.py:582\u001b[0m, in \u001b[0;36mto_rgba.<locals>.to_rgba_hex\u001b[0;34m(c, a)\u001b[0m\n\u001b[1;32m    575\u001b[0m \u001b[39m\u001b[39m\u001b[39m\"\"\"\u001b[39;00m\n\u001b[1;32m    576\u001b[0m \u001b[39mConver rgb color to rgba hex value\u001b[39;00m\n\u001b[1;32m    577\u001b[0m \n\u001b[1;32m    578\u001b[0m \u001b[39mIf color c has an alpha channel, then alpha value\u001b[39;00m\n\u001b[1;32m    579\u001b[0m \u001b[39ma is ignored\u001b[39;00m\n\u001b[1;32m    580\u001b[0m \u001b[39m\"\"\"\u001b[39;00m\n\u001b[1;32m    581\u001b[0m _has_alpha \u001b[39m=\u001b[39m has_alpha(c)\n\u001b[0;32m--> 582\u001b[0m c \u001b[39m=\u001b[39m mcolors\u001b[39m.\u001b[39;49mto_hex(c, keep_alpha\u001b[39m=\u001b[39;49m_has_alpha)\n\u001b[1;32m    584\u001b[0m \u001b[39mif\u001b[39;00m \u001b[39mnot\u001b[39;00m _has_alpha:\n\u001b[1;32m    585\u001b[0m     arr \u001b[39m=\u001b[39m colorConverter\u001b[39m.\u001b[39mto_rgba(c, a)\n",
      "File \u001b[0;32m~/miniforge3/envs/ibsg/lib/python3.10/site-packages/matplotlib/colors.py:405\u001b[0m, in \u001b[0;36mto_hex\u001b[0;34m(c, keep_alpha)\u001b[0m\n\u001b[1;32m    389\u001b[0m \u001b[39mdef\u001b[39;00m \u001b[39mto_hex\u001b[39m(c, keep_alpha\u001b[39m=\u001b[39m\u001b[39mFalse\u001b[39;00m):\n\u001b[1;32m    390\u001b[0m \u001b[39m    \u001b[39m\u001b[39m\"\"\"\u001b[39;00m\n\u001b[1;32m    391\u001b[0m \u001b[39m    Convert *c* to a hex color.\u001b[39;00m\n\u001b[1;32m    392\u001b[0m \n\u001b[0;32m   (...)\u001b[0m\n\u001b[1;32m    403\u001b[0m \u001b[39m      ``#rrggbb`` or ``#rrggbbaa`` hex color string\u001b[39;00m\n\u001b[1;32m    404\u001b[0m \u001b[39m    \"\"\"\u001b[39;00m\n\u001b[0;32m--> 405\u001b[0m     c \u001b[39m=\u001b[39m to_rgba(c)\n\u001b[1;32m    406\u001b[0m     \u001b[39mif\u001b[39;00m \u001b[39mnot\u001b[39;00m keep_alpha:\n\u001b[1;32m    407\u001b[0m         c \u001b[39m=\u001b[39m c[:\u001b[39m3\u001b[39m]\n",
      "File \u001b[0;32m~/miniforge3/envs/ibsg/lib/python3.10/site-packages/matplotlib/colors.py:187\u001b[0m, in \u001b[0;36mto_rgba\u001b[0;34m(c, alpha)\u001b[0m\n\u001b[1;32m    185\u001b[0m     rgba \u001b[39m=\u001b[39m \u001b[39mNone\u001b[39;00m\n\u001b[1;32m    186\u001b[0m \u001b[39mif\u001b[39;00m rgba \u001b[39mis\u001b[39;00m \u001b[39mNone\u001b[39;00m:  \u001b[39m# Suppress exception chaining of cache lookup failure.\u001b[39;00m\n\u001b[0;32m--> 187\u001b[0m     rgba \u001b[39m=\u001b[39m _to_rgba_no_colorcycle(c, alpha)\n\u001b[1;32m    188\u001b[0m     \u001b[39mtry\u001b[39;00m:\n\u001b[1;32m    189\u001b[0m         _colors_full_map\u001b[39m.\u001b[39mcache[c, alpha] \u001b[39m=\u001b[39m rgba\n",
      "File \u001b[0;32m~/miniforge3/envs/ibsg/lib/python3.10/site-packages/matplotlib/colors.py:262\u001b[0m, in \u001b[0;36m_to_rgba_no_colorcycle\u001b[0;34m(c, alpha)\u001b[0m\n\u001b[1;32m    258\u001b[0m             \u001b[39mraise\u001b[39;00m \u001b[39mValueError\u001b[39;00m(\n\u001b[1;32m    259\u001b[0m                 \u001b[39mf\u001b[39m\u001b[39m\"\u001b[39m\u001b[39mInvalid string grayscale value \u001b[39m\u001b[39m{\u001b[39;00morig_c\u001b[39m!r}\u001b[39;00m\u001b[39m. \u001b[39m\u001b[39m\"\u001b[39m\n\u001b[1;32m    260\u001b[0m                 \u001b[39mf\u001b[39m\u001b[39m\"\u001b[39m\u001b[39mValue must be within 0-1 range\u001b[39m\u001b[39m\"\u001b[39m)\n\u001b[1;32m    261\u001b[0m         \u001b[39mreturn\u001b[39;00m c, c, c, alpha \u001b[39mif\u001b[39;00m alpha \u001b[39mis\u001b[39;00m \u001b[39mnot\u001b[39;00m \u001b[39mNone\u001b[39;00m \u001b[39melse\u001b[39;00m \u001b[39m1.\u001b[39m\n\u001b[0;32m--> 262\u001b[0m     \u001b[39mraise\u001b[39;00m \u001b[39mValueError\u001b[39;00m(\u001b[39mf\u001b[39m\u001b[39m\"\u001b[39m\u001b[39mInvalid RGBA argument: \u001b[39m\u001b[39m{\u001b[39;00morig_c\u001b[39m!r}\u001b[39;00m\u001b[39m\"\u001b[39m)\n\u001b[1;32m    263\u001b[0m \u001b[39m# turn 2-D array into 1-D array\u001b[39;00m\n\u001b[1;32m    264\u001b[0m \u001b[39mif\u001b[39;00m \u001b[39misinstance\u001b[39m(c, np\u001b[39m.\u001b[39mndarray):\n",
      "\u001b[0;31mValueError\u001b[0m: Invalid RGBA argument: 'light-blue'"
     ]
    }
   ],
   "source": [
    "plot = (\n",
    "    # Set data and the axes\n",
    "    pn.ggplot(\n",
    "        data=curve_data, mapping=pn.aes(x=\"complexity\", y=\"accuracy\")\n",
    "    )  \n",
    "    + pn.geom_line(size=3) # IB curve\n",
    "    # + pn.geom_point(size=1)\n",
    "    + pn.geom_ribbon(\n",
    "    mapping=pn.aes(\n",
    "        x=\"complexity\",\n",
    "        ymin=\"accuracy\",\n",
    "        ymax=torch.inf,\n",
    "        ),\n",
    "        fill=\"gray\",\n",
    "        alpha=0.3,\n",
    "    )\n",
    ")\n",
    "\n",
    "if True:\n",
    "    plot = (\n",
    "        plot \n",
    "        + pn.geom_jitter( # emergent langs\n",
    "            data=sim_data,\n",
    "            mapping=pn.aes(\n",
    "                # fill=\"discr_need\",\n",
    "                fill=\"noise\",\n",
    "                # shape=\"language\",\n",
    "                ),\n",
    "            alpha=0.3,\n",
    "            size=5,\n",
    "        )\n",
    "        + pn.scale_fill_manual(values = fill_values_dict)\n",
    "    )\n",
    "    \n",
    "plot = (\n",
    "    plot\n",
    "    + pn.xlab(\"Complexity, $I(M;W)$ bits\")\n",
    "    + pn.ylab(\"Accuracy, $I(W;U)$ bits\")\n",
    "\n",
    "    + pn.theme_classic()\n",
    "    + pn.theme(\n",
    "        # Axis font\n",
    "        axis_title=pn.element_text(size=24),\n",
    "        axis_text=pn.element_text(size=12),\n",
    "        # Legend position\n",
    "        # legend_position=(0.75, 0.4),\n",
    "        legend_position='none',\n",
    "    )    \n",
    ")\n",
    "\n",
    "print(plot)\n",
    "plot.save(\"temp_figure\", width=10, height=10, dpi=300,)"
   ]
  },
  {
   "cell_type": "code",
   "execution_count": null,
   "metadata": {},
   "outputs": [],
   "source": []
  }
 ],
 "metadata": {
  "kernelspec": {
   "display_name": "ibsg",
   "language": "python",
   "name": "python3"
  },
  "language_info": {
   "codemirror_mode": {
    "name": "ipython",
    "version": 3
   },
   "file_extension": ".py",
   "mimetype": "text/x-python",
   "name": "python",
   "nbconvert_exporter": "python",
   "pygments_lexer": "ipython3",
   "version": "3.10.10"
  },
  "orig_nbformat": 4
 },
 "nbformat": 4,
 "nbformat_minor": 2
}
